{
 "cells": [
  {
   "cell_type": "code",
   "execution_count": 1,
   "metadata": {},
   "outputs": [],
   "source": [
    "import pandas as pd\n",
    "import numpy as np"
   ]
  },
  {
   "cell_type": "code",
   "execution_count": 22,
   "metadata": {},
   "outputs": [],
   "source": [
    "movies = pd.read_csv(\"..\\data\\src\\movies.csv\")\n",
    "genres = pd.read_csv(\"..\\data\\genres.csv\",index_col=\"id\")"
   ]
  },
  {
   "cell_type": "markdown",
   "metadata": {},
   "source": [
    "## Preprocessing and assemble association list"
   ]
  },
  {
   "cell_type": "code",
   "execution_count": 23,
   "metadata": {},
   "outputs": [],
   "source": [
    "genres_dict = genres.to_dict()\n",
    "genres_dict = {value:key for key, value in genres_dict['genrename'].items()}\n",
    "\n",
    "def return_ids(g_list):\n",
    "    g_ids = []\n",
    "    for i in g_list:\n",
    "        g_ids.append(genres_dict.get(i))\n",
    "    return g_ids\n",
    "\n",
    "movies[\"genres\"] = movies.apply(lambda x: x[\"genres\"].split(\"|\"), axis=1)\n",
    "movies[\"genres\"] = movies.apply(lambda x: return_ids(x[\"genres\"]), axis=1)\n",
    "\n",
    "association = []\n",
    "\n",
    "for m_tuple in movies.itertuples():\n",
    "    for g in m_tuple.genres:\n",
    "        association.append([m_tuple.movieId,str(g)])"
   ]
  },
  {
   "cell_type": "code",
   "execution_count": 27,
   "metadata": {},
   "outputs": [],
   "source": [
    "association_df = pd.DataFrame(association,columns=[\"MovieId\",\"GenreId\"])\n",
    "association_df[\"GenreId\"] = association_df[\"GenreId\"].replace(to_replace='None',value='')\n",
    "association_df.to_csv(\"..\\data\\movie_genre.csv\", header=True, index=False)"
   ]
  }
 ],
 "metadata": {
  "kernelspec": {
   "display_name": "Python 3.8.13",
   "language": "python",
   "name": "python3"
  },
  "language_info": {
   "codemirror_mode": {
    "name": "ipython",
    "version": 3
   },
   "file_extension": ".py",
   "mimetype": "text/x-python",
   "name": "python",
   "nbconvert_exporter": "python",
   "pygments_lexer": "ipython3",
   "version": "3.8.13"
  },
  "orig_nbformat": 4,
  "vscode": {
   "interpreter": {
    "hash": "9fcb6369795da4601a02b2815c04f0a26f88f21ed72ebd92a5250b6714a1bd38"
   }
  }
 },
 "nbformat": 4,
 "nbformat_minor": 2
}
