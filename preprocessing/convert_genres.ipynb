{
 "cells": [
  {
   "cell_type": "code",
   "execution_count": null,
   "metadata": {},
   "outputs": [],
   "source": [
    "import pandas as pd\n",
    "import numpy as np"
   ]
  },
  {
   "cell_type": "code",
   "execution_count": null,
   "metadata": {},
   "outputs": [],
   "source": [
    "movies = pd.read_csv(\"..\\data\\src\\movies.csv\")\n",
    "movies.head()"
   ]
  },
  {
   "cell_type": "code",
   "execution_count": null,
   "metadata": {},
   "outputs": [],
   "source": [
    "movies_genres = movies['genres']\n",
    "\n",
    "set_all_genres = set()\n",
    "\n",
    "for movie_genres in movies_genres:\n",
    "    set_all_genres.update(movie_genres.split(\"|\")) \n",
    "\n",
    "set_all_genres.remove(\"(no genres listed)\")"
   ]
  },
  {
   "cell_type": "code",
   "execution_count": null,
   "metadata": {},
   "outputs": [],
   "source": [
    "genrelist = list(set_all_genres)\n",
    "genrelist.sort()\n",
    "unique_genres = pd.DataFrame(genrelist,columns=[\"genrename\"])\n",
    "\n",
    "#Start Index from 1\n",
    "unique_genres.index = np.arange(1, len(unique_genres)+1)\n",
    "print(unique_genres)"
   ]
  },
  {
   "cell_type": "code",
   "execution_count": null,
   "metadata": {},
   "outputs": [],
   "source": [
    "unique_genres.to_csv(\"..\\data\\genres.csv\",index=True,header=True,index_label=\"id\")"
   ]
  }
 ],
 "metadata": {
  "kernelspec": {
   "display_name": "Python 3.8.13",
   "language": "python",
   "name": "python3"
  },
  "language_info": {
   "codemirror_mode": {
    "name": "ipython",
    "version": 3
   },
   "file_extension": ".py",
   "mimetype": "text/x-python",
   "name": "python",
   "nbconvert_exporter": "python",
   "pygments_lexer": "ipython3",
   "version": "3.8.13"
  },
  "orig_nbformat": 4,
  "vscode": {
   "interpreter": {
    "hash": "9fcb6369795da4601a02b2815c04f0a26f88f21ed72ebd92a5250b6714a1bd38"
   }
  }
 },
 "nbformat": 4,
 "nbformat_minor": 2
}
