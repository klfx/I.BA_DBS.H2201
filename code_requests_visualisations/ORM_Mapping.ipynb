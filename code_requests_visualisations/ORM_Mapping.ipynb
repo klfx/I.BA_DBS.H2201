{
 "cells": [
  {
   "cell_type": "code",
   "execution_count": 298,
   "metadata": {},
   "outputs": [],
   "source": [
    "from sqlalchemy.ext.automap import automap_base\n",
    "from sqlalchemy import Column, String, Integer, Float, Date, Table, ForeignKey\n",
    "from sqlalchemy import create_engine\n",
    "from sqlalchemy.orm import Session, relationship\n",
    "\n",
    "import pandas as pd"
   ]
  },
  {
   "cell_type": "code",
   "execution_count": 299,
   "metadata": {},
   "outputs": [
    {
     "name": "stdout",
     "output_type": "stream",
     "text": [
      "darth_vader\n"
     ]
    }
   ],
   "source": [
    "credentials = pd.read_csv('../credentials/credentials.csv')\n",
    "\n",
    "database_adress = credentials['Host'].iloc[0]\n",
    "database_user = credentials['User'].iloc[0]\n",
    "database_password = credentials['Password'].iloc[0]\n",
    "database_name = credentials['Database'].iloc[0]\n",
    "database_port = credentials['Port'].iloc[0]\n",
    "\n",
    "print(database_user)"
   ]
  },
  {
   "cell_type": "code",
   "execution_count": 300,
   "metadata": {},
   "outputs": [],
   "source": [
    "Base = automap_base()\n",
    "\n",
    "# Create the middle Table movie_genres which is between the tables movies and genres which is am many to many relationship\n",
    "movie_genres = Table(\n",
    "    \"movies_genres\",\n",
    "    Base.metadata,\n",
    "    Column(\"movieId\", ForeignKey(\"movies.movieId\")),\n",
    "    Column(\"genreId\", ForeignKey(\"genres.genreId\")),\n",
    ")\n",
    "\n",
    "#Creation of the class Genre(Tabele name 'genres') with it's 3 properties genre_id, name and all the movies that are assigned to that genre\n",
    "#Movies is a many to many relation because every genre can have multiple movies with it's genre and every movie can have multiple genres\n",
    "class Genre(Base):\n",
    "   __tablename__ = 'genres' \n",
    "   genre_id = Column('genreId', Integer, primary_key = True)\n",
    "   name = Column('genrename', String)\n",
    "   movies = relationship('Movie', secondary=movie_genres,\n",
    "                            backref='movies', viewonly=True)\n",
    "\n",
    "#Creation of the class Genome_Tag(Table name 'genometags') with it's two properties tag_id and tag\n",
    "class Genome_Tag(Base):\n",
    "    __tablename__ = 'genometags' \n",
    "    tag_id = Column('tagId', Integer, primary_key = True)\n",
    "    tag = Column('tag', String)\n",
    "\n",
    "#Creation of the class Link(Table name 'links') with it's three properties movie, imdb_id and tmdb_id.\n",
    "#Movie is the primary key of the table and at the same time the foreign key to the table movie\n",
    "class Link(Base):\n",
    "    __tablename__ = 'links' \n",
    "    movieId = Column(Integer, ForeignKey(\"movies.movieId\"), primary_key = True)\n",
    "    movie = relationship(\"Movie\", back_populates=\"link\", viewonly=True)\n",
    "    imdb_id = Column('imdbId', Integer)\n",
    "    tmdb_id = Column('tmdbId', Integer)\n",
    "\n",
    "#Creation of the class Rating(Table name 'ratings') with it's five properties rating_id, user_id, movie, rating, rating_date\n",
    "#Movie is a one to many relationship to Rating, which means that every rating rates one movie and every movie can have multiple ratings\n",
    "class Rating(Base):\n",
    "    __tablename__ = 'ratings' \n",
    "    rating_id = Column('rating_id', Integer, primary_key = True)\n",
    "    user_id = Column('userId', Integer)\n",
    "    movieId = Column(Integer, ForeignKey(\"movies.movieId\"))\n",
    "    movie = relationship(\"Movie\", back_populates=\"rating\", viewonly=True)\n",
    "    rating = Column('rating', Float)\n",
    "    rating_date = Column('rating_date', Date)\n",
    "\n",
    "#Creation of the class Tag(Table name 'tags') with it's five properties tag_id, user_id, movie, tag, tag_date\n",
    "#Movie is a one to many relationship to Tag, which means that every tag belongs to one movie and every movie can have multiple tags\n",
    "class Tag(Base):\n",
    "    __tablename__ = 'tags' \n",
    "    tag_id = Column('tag_id', Integer, primary_key = True)\n",
    "    user_id = Column('userId', Integer)\n",
    "    movieId = Column(Integer, ForeignKey(\"movies.movieId\"))\n",
    "    movie = relationship(\"Movie\", back_populates=\"tag\", viewonly=True)\n",
    "    tag = Column('tag', String)\n",
    "    tag_date = Column('tag_date', Date) \n",
    "\n",
    "#Creation of the class Genome_Score(Table name 'genomescores') with it's three properties tag_id, movie, relevance\n",
    "#Genome_Score has two primary keys because the combination of tag_id and movieId is unique to every entry\n",
    "#Movie is a many to many relationship to Genome_Score, which means that every genome_score belongs to every movie and every movie has a relevance rating of every tag\n",
    "class Genome_Score(Base):\n",
    "    __tablename__ = 'genomescores' \n",
    "    tag_id = Column('tagId', Integer, primary_key = True)\n",
    "    movieId = Column(Integer, ForeignKey(\"movies.movieId\"), primary_key = True)\n",
    "    movie = relationship(\"Movie\", back_populates=\"genome_score\", viewonly=True)\n",
    "    relevance = Column('relevance', Float)\n",
    "    \n",
    "\n",
    "#Creation of the class Movie(Table name 'movies') with it's eight properties movie_id, title, release_year, genres, ratings, tags, genome_scores, link\n",
    "#Genres is a many to many relation because every movie can have multiple genres with it's and every genre can have multiple movies\n",
    "#Ratings is many to one relation to Movie, because every movie can have multiple ratings and every rating belongs to one movie\n",
    "#Tags is many to one relation to Movie, because every movie can have multiple tags and every tag belongs to one movie\n",
    "#Genome_Scores is many to many relation to Movie with two primary keys, because every movie has a relevance rating to every tag so the combination of movieId an tagId is unique for every entry\n",
    "class Movie(Base):\n",
    "    __tablename__ = 'movies'\n",
    "\n",
    "    movie_id = Column('movieid', Integer, primary_key = True)\n",
    "    title = Column('title', String)\n",
    "    release_year = Column('release_year', Integer)\n",
    "\n",
    "    genres = relationship('Genre', secondary=movie_genres,\n",
    "                            backref='genres', viewonly=True)\n",
    "    ratings = relationship(\"Rating\" ,back_populates='movie', viewonly=True)\n",
    "    tags = relationship(\"Tag\" ,back_populates='movie', viewonly=True)\n",
    "    genome_scores = relationship(\"Genome_Score\" ,back_populates='movie', viewonly=True)\n",
    "    link = relationship(\"Link\" ,back_populates='movie', viewonly=True, uselist=False)"
   ]
  },
  {
   "cell_type": "code",
   "execution_count": 301,
   "metadata": {},
   "outputs": [],
   "source": [
    "#Build the connection with the database\n",
    "engine = create_engine(f'mysql+pymysql://{database_user}:{database_password}@{database_adress}:{database_port}/{database_name}')\n",
    "Base.prepare(autoload_with=engine)\n",
    "\n",
    "session = Session(engine)"
   ]
  },
  {
   "cell_type": "code",
   "execution_count": 302,
   "metadata": {},
   "outputs": [],
   "source": [
    "# Function which prints out all the information about a movie\n",
    "def print_Movie_Infos(movie):\n",
    "\n",
    "    ratings = list(movie.ratings)\n",
    "    tags = list(movie.tags)\n",
    "    genome_scores = list(movie.genome_scores)\n",
    "\n",
    "    print(f'Movie id: {movie.movie_id}')\n",
    "    print(f'Title: {movie.title}')\n",
    "    print(f'Release Year: {movie.release_year}')\n",
    "\n",
    "    print()\n",
    "    print(\"Genres: \")\n",
    "    for genre in list(movie.genres):\n",
    "        print(genre.name)\n",
    "\n",
    "    print()\n",
    "    print(f'IMDb id: {movie.link.imdb_id}')\n",
    "    print(f'TMDb id: {movie.link.tmdb_id}')\n",
    "\n",
    "    print()\n",
    "    print(f'First 10 ratings of movie {movie.title}')\n",
    "\n",
    "    i_ratings = 0\n",
    "\n",
    "    while i_ratings < 10:\n",
    "        print(ratings[i_ratings].rating)\n",
    "        i_ratings += 1\n",
    "\n",
    "    print()\n",
    "    print(f'First 10 tags of movie {movie.title}')\n",
    "\n",
    "    i_tags = 0\n",
    "\n",
    "    while i_tags < 10:\n",
    "        print(tags[i_tags].tag)\n",
    "        i_tags += 1\n",
    "\n",
    "    print()\n",
    "    print(f'First 10 genome_scores of movie {movie.title}')\n",
    "\n",
    "    i_genome_scores = 1\n",
    "\n",
    "    while i_genome_scores < 10:\n",
    "        print(genome_scores[i_genome_scores].relevance)\n",
    "        i_genome_scores += 1"
   ]
  },
  {
   "cell_type": "code",
   "execution_count": 303,
   "metadata": {},
   "outputs": [],
   "source": [
    "# Function which prints out all the information about a genome_Tag\n",
    "def print_Genome_Tag_Infos(genome_tag):\n",
    "    print(f'Genome tag id: {genome_tag.tag_id}')\n",
    "    print(f'Genome tag: {genome_tag.tag}')"
   ]
  },
  {
   "cell_type": "code",
   "execution_count": 304,
   "metadata": {},
   "outputs": [],
   "source": [
    "# Function which prints out all the information about a link\n",
    "def print_Link_Infos(link):\n",
    "    print(f'Movie title: {link.movie.title}')\n",
    "    print(f'IMDb id: {link.imdb_id}')\n",
    "    print(f'TMDb id: {link.tmdb_id}')"
   ]
  },
  {
   "cell_type": "code",
   "execution_count": 305,
   "metadata": {},
   "outputs": [],
   "source": [
    "# Function which prints out all the information about a rating\n",
    "def print_Rating_Infos(rating):\n",
    "    print(f'Rating id: {rating.rating_id}')\n",
    "    print(f'Rating user id: {rating.user_id}')\n",
    "    print(f'Rating movie title: {rating.movie.title}')\n",
    "    print(f'Rating: {rating.rating}')\n",
    "    print(f'Rating date: {rating.rating_date}')"
   ]
  },
  {
   "cell_type": "code",
   "execution_count": 306,
   "metadata": {},
   "outputs": [],
   "source": [
    "# Function which prints out all the information about a tag\n",
    "def print_Tag_Infos(tag):\n",
    "    print(f'Tag id: {tag.tag_id}')\n",
    "    print(f'Tag user id: {tag.user_id}')\n",
    "    print(f'Tag movie title: {tag.movie.title}')\n",
    "    print(f'Tag: {tag.tag}')\n",
    "    print(f'Tag date: {tag.tag_date}')\n"
   ]
  },
  {
   "cell_type": "code",
   "execution_count": 307,
   "metadata": {},
   "outputs": [],
   "source": [
    "# Function which prints out all the information about a genome_Score\n",
    "def print_Genome_Score_Infos(genome_score):\n",
    "    print(f'Genome score tag id: {genome_score.tag_id}')\n",
    "    print(f'Genome score movie title: {genome_score.movie.title}')\n",
    "    print(f'Genome score relevance: {genome_score.relevance}')"
   ]
  },
  {
   "cell_type": "code",
   "execution_count": 308,
   "metadata": {},
   "outputs": [],
   "source": [
    "# Function which prints out all the information about a genre\n",
    "def print_Genre_Infos(genre):\n",
    "    print(f'Genre id: {genre.genre_id}')\n",
    "    print(f'Genre name: {genre.name}')\n",
    "    print(f'First 10 movies with the genre {genre.name}: {genre.genre_id}')\n",
    "\n",
    "    movies = list(genre.movies)\n",
    "    i_movies = 0\n",
    "\n",
    "    while i_movies < 10:\n",
    "        print(movies[i_movies].title)\n",
    "        i_movies += 1    \n"
   ]
  },
  {
   "cell_type": "code",
   "execution_count": 309,
   "metadata": {},
   "outputs": [
    {
     "name": "stdout",
     "output_type": "stream",
     "text": [
      "Movie id: 1\n",
      "Title: Toy Story (1995)\n",
      "Release Year: 1995\n",
      "\n",
      "Genres: \n",
      "Adventure\n",
      "Animation\n",
      "Children\n",
      "Comedy\n",
      "Fantasy\n",
      "\n",
      "IMDb id: 0114709\n",
      "TMDb id: 862\n",
      "\n",
      "First 10 ratings of movie Toy Story (1995)\n",
      "4.0\n",
      "5.0\n",
      "4.5\n",
      "4.0\n",
      "4.0\n",
      "4.0\n",
      "5.0\n",
      "5.0\n",
      "4.5\n",
      "5.0\n",
      "\n",
      "First 10 tags of movie Toy Story (1995)\n",
      "animated\n",
      "buddy movie\n",
      "Cartoon\n",
      "cgi\n",
      "comedy\n",
      "computer animation\n",
      "family\n",
      "friendship\n",
      "kids\n",
      "toy\n",
      "\n",
      "First 10 genome_scores of movie Toy Story (1995)\n",
      "0.02375\n",
      "0.05425\n",
      "0.06875\n",
      "0.16\n",
      "0.19525\n",
      "0.076\n",
      "0.252\n",
      "0.2275\n",
      "0.024\n"
     ]
    }
   ],
   "source": [
    "movie_example = session.query(Movie).first()\n",
    "print_Movie_Infos(movie_example)"
   ]
  },
  {
   "cell_type": "code",
   "execution_count": 310,
   "metadata": {},
   "outputs": [
    {
     "name": "stdout",
     "output_type": "stream",
     "text": [
      "Genome tag id: 1\n",
      "Genome tag: 007\n"
     ]
    }
   ],
   "source": [
    "genome_tag_example = session.query(Genome_Tag).first()\n",
    "print_Genome_Tag_Infos(genome_tag_example)"
   ]
  },
  {
   "cell_type": "code",
   "execution_count": 311,
   "metadata": {},
   "outputs": [
    {
     "name": "stdout",
     "output_type": "stream",
     "text": [
      "Movie title: Toy Story (1995)\n",
      "IMDb id: 0114709\n",
      "TMDb id: 862\n"
     ]
    }
   ],
   "source": [
    "link_example = session.query(Link).first()\n",
    "print_Link_Infos(link_example)"
   ]
  },
  {
   "cell_type": "code",
   "execution_count": 312,
   "metadata": {},
   "outputs": [
    {
     "name": "stdout",
     "output_type": "stream",
     "text": [
      "Rating id: 1\n",
      "Rating user id: 1\n",
      "Rating movie title: Three Colors: Blue (Trois couleurs: Bleu) (1993)\n",
      "Rating: 3.5\n",
      "Rating date: 2009-10-27 09:00:21\n"
     ]
    }
   ],
   "source": [
    "rating_example = session.query(Rating).first()\n",
    "print_Rating_Infos(rating_example)"
   ]
  },
  {
   "cell_type": "code",
   "execution_count": 313,
   "metadata": {},
   "outputs": [
    {
     "name": "stdout",
     "output_type": "stream",
     "text": [
      "Tag id: 1\n",
      "Tag user id: 14\n",
      "Tag movie title: Braveheart (1995)\n",
      "Tag: epic\n",
      "Tag date: 2015-09-24 14:35:38\n"
     ]
    }
   ],
   "source": [
    "tag_example = session.query(Tag).first()\n",
    "print_Tag_Infos(tag_example)"
   ]
  },
  {
   "cell_type": "code",
   "execution_count": 314,
   "metadata": {},
   "outputs": [
    {
     "name": "stdout",
     "output_type": "stream",
     "text": [
      "Genome score tag id: 1\n",
      "Genome score movie title: Stranger by the Lake (L'inconnu du lac) (2013)\n",
      "Genome score relevance: 0.005\n"
     ]
    }
   ],
   "source": [
    "genome_score_example = session.query(Genome_Score).first()\n",
    "print_Genome_Score_Infos(genome_score_example)"
   ]
  },
  {
   "cell_type": "code",
   "execution_count": 315,
   "metadata": {},
   "outputs": [
    {
     "name": "stdout",
     "output_type": "stream",
     "text": [
      "Genre id: 1\n",
      "Genre name: Action\n",
      "First 10 movies with the genre Action: 1\n",
      "Heat (1995)\n",
      "Sudden Death (1995)\n",
      "GoldenEye (1995)\n",
      "Cutthroat Island (1995)\n",
      "Money Train (1995)\n",
      "Assassins (1995)\n",
      "Dead Presidents (1995)\n",
      "Mortal Kombat (1995)\n",
      "Guardian Angel (1994)\n",
      "Lawnmower Man 2: Beyond Cyberspace (1996)\n"
     ]
    }
   ],
   "source": [
    "genre_example = session.query(Genre).first()\n",
    "print_Genre_Infos(genre_example)"
   ]
  }
 ],
 "metadata": {
  "kernelspec": {
   "display_name": "Python 3.10.6 ('dviz')",
   "language": "python",
   "name": "python3"
  },
  "language_info": {
   "codemirror_mode": {
    "name": "ipython",
    "version": 3
   },
   "file_extension": ".py",
   "mimetype": "text/x-python",
   "name": "python",
   "nbconvert_exporter": "python",
   "pygments_lexer": "ipython3",
   "version": "3.10.6"
  },
  "orig_nbformat": 4,
  "vscode": {
   "interpreter": {
    "hash": "acc9a91b6998de036ca9c194e26b210da4c2e06b7cf5d9e1b42b0f3f179806fe"
   }
  }
 },
 "nbformat": 4,
 "nbformat_minor": 2
}
