{
 "cells": [
  {
   "cell_type": "code",
   "execution_count": 166,
   "metadata": {},
   "outputs": [],
   "source": [
    "from sqlalchemy.ext.automap import automap_base\n",
    "from sqlalchemy import Column, String, Integer, Float, Date, Table, ForeignKey\n",
    "from sqlalchemy import create_engine\n",
    "from sqlalchemy.orm import Session, relationship\n",
    "\n",
    "import pandas as pd"
   ]
  },
  {
   "cell_type": "code",
   "execution_count": 167,
   "metadata": {},
   "outputs": [
    {
     "name": "stdout",
     "output_type": "stream",
     "text": [
      "darth_vader\n"
     ]
    }
   ],
   "source": [
    "credentials = pd.read_csv('../credentials/credentials.csv')\n",
    "\n",
    "database_adress = credentials['Host'].iloc[0]\n",
    "database_user = credentials['User'].iloc[0]\n",
    "database_password = credentials['Password'].iloc[0]\n",
    "database_name = credentials['Database'].iloc[0]\n",
    "database_port = credentials['Port'].iloc[0]\n",
    "\n",
    "print(database_user)"
   ]
  },
  {
   "cell_type": "code",
   "execution_count": 168,
   "metadata": {},
   "outputs": [],
   "source": [
    "Base = automap_base()\n",
    "\n",
    "# Create the middle Table movie_genres\n",
    "movie_genres = Table(\n",
    "    \"movies_genres\",\n",
    "    Base.metadata,\n",
    "    Column(\"movieId\", ForeignKey(\"movies.movieId\")),\n",
    "    Column(\"genreId\", ForeignKey(\"genres.genreId\")),\n",
    ")\n",
    "\n",
    "#Create the class Genre with it's 2 properties genre_id and name\n",
    "class Genre(Base):\n",
    "   __tablename__ = 'genres' \n",
    "   genre_id = Column('genreId', Integer, primary_key = True)\n",
    "   name = Column('genrename', String)\n",
    "\n",
    "# Create the class Movie with it's 3 properites movie_id, title and release_year.\n",
    "# Additionally connect the genres table with the movies table\n",
    "\n",
    "class Genome_Tag(Base):\n",
    "    __tablename__ = 'genometags' \n",
    "    tag_id = Column('tagId', Integer, primary_key = True)\n",
    "    tag = Column('tag', String)\n",
    "\n",
    "\n",
    "class Link(Base):\n",
    "    __tablename__ = 'links' \n",
    "    movieId = Column(Integer, ForeignKey(\"movies.movieId\"), primary_key = True)\n",
    "    movie = relationship(\"Movie\", back_populates=\"link\", viewonly=True)\n",
    "    imdb_id = Column('imdbId', Integer)\n",
    "    tmdb_id = Column('tmdbId', Integer)\n",
    "\n",
    "class Rating(Base):\n",
    "    __tablename__ = 'ratings' \n",
    "    rating_id = Column('rating_id', Integer, primary_key = True)\n",
    "    user_id = Column('userId', Integer)\n",
    "    movieId = Column(Integer, ForeignKey(\"movies.movieId\"))\n",
    "    movie = relationship(\"Movie\", back_populates=\"rating\", viewonly=True)\n",
    "    rating = Column('rating', Float)\n",
    "    rating_date = Column('rating_date', Date)\n",
    "\n",
    "class Tag(Base):\n",
    "    __tablename__ = 'tags' \n",
    "    tag_id = Column('tag_id', Integer, primary_key = True)\n",
    "    user_id = Column('userId', Integer)\n",
    "    movieId = Column(Integer, ForeignKey(\"movies.movieId\"))\n",
    "    movie = relationship(\"Movie\", back_populates=\"tag\", viewonly=True)\n",
    "    tag = Column('tag', String)\n",
    "    tag_date = Column('tag_date', Date) \n",
    "\n",
    "class Genome_Score(Base):\n",
    "    __tablename__ = 'genomescores' \n",
    "    tag_id = Column('tagId', Integer, primary_key = True)\n",
    "    movieId = Column(Integer, ForeignKey(\"movies.movieId\"))\n",
    "    movie = relationship(\"Movie\", back_populates=\"genome_score\", viewonly=True)\n",
    "    relevance = Column('relevance', Float)\n",
    "    \n",
    "\n",
    "class Movie(Base):\n",
    "    __tablename__ = 'movies'\n",
    "\n",
    "    movie_id = Column('movieid', Integer, primary_key = True)\n",
    "    title = Column('title', String)\n",
    "    release_year = Column('release_year', Integer)\n",
    "\n",
    "    genres = relationship(Genre, secondary=movie_genres,\n",
    "                            backref='genres', viewonly=True)\n",
    "    ratings = relationship(\"Rating\" ,back_populates='movie', viewonly=True)\n",
    "    tags = relationship(\"Tag\" ,back_populates='movie', viewonly=True)\n",
    "    genome_scores = relationship(\"Genome_Score\" ,back_populates='movie', viewonly=True)\n",
    "    link = relationship(\"Link\" ,back_populates='movie', viewonly=True, uselist=False)"
   ]
  },
  {
   "cell_type": "code",
   "execution_count": 169,
   "metadata": {},
   "outputs": [],
   "source": [
    "#Build the connection with the database\n",
    "engine = create_engine(f'mysql+pymysql://{database_user}:{database_password}@{database_adress}:{database_port}/{database_name}')\n",
    "Base.prepare(autoload_with=engine)\n",
    "\n",
    "session = Session(engine)"
   ]
  },
  {
   "cell_type": "code",
   "execution_count": 170,
   "metadata": {},
   "outputs": [
    {
     "name": "stdout",
     "output_type": "stream",
     "text": [
      "Movie id: 1\n",
      "Title: Toy Story (1995)\n",
      "Release Year: 1995\n",
      "\n",
      "Genres: \n",
      "Adventure\n",
      "Animation\n",
      "Children\n",
      "Comedy\n",
      "Fantasy\n",
      "\n",
      "IMDb id: 0114709\n",
      "TMDb id: 862\n",
      "\n",
      "First 10 ratings of movie Toy Story (1995)\n",
      "5.0\n",
      "4.5\n",
      "4.0\n",
      "4.0\n",
      "4.0\n",
      "5.0\n",
      "5.0\n",
      "4.5\n",
      "5.0\n",
      "4.0\n",
      "\n",
      "First 10 tags of movie Toy Story (1995)\n",
      "buddy movie\n",
      "Cartoon\n",
      "cgi\n",
      "comedy\n",
      "computer animation\n",
      "family\n",
      "friendship\n",
      "kids\n",
      "toy\n",
      "toys\n",
      "\n",
      "First 10 genome_scores of movie Toy Story (1995)\n",
      "0.02375\n",
      "0.05425\n",
      "0.06875\n",
      "0.16\n",
      "0.19525\n",
      "0.076\n",
      "0.252\n",
      "0.2275\n",
      "0.024\n",
      "0.587\n"
     ]
    }
   ],
   "source": [
    "# Call the first Entry in the movies table and print out it's properties and all it's genres\n",
    "movie_example = session.query(Movie).first()\n",
    "print(f'Movie id: {movie_example.movie_id}')\n",
    "print(f'Title: {movie_example.title}')\n",
    "print(f'Release Year: {movie_example.release_year}')\n",
    "\n",
    "print()\n",
    "print(\"Genres: \")\n",
    "for genre in list(movie_example.genres):\n",
    "    print(genre.name)\n",
    "\n",
    "print()\n",
    "print(f'IMDb id: {movie_example.link.imdb_id}')\n",
    "print(f'TMDb id: {movie_example.link.tmdb_id}')\n",
    "\n",
    "i_ratings = 1\n",
    "ratings = list(movie_example.ratings)\n",
    "tags = list(movie_example.tags)\n",
    "genome_scores = list(movie_example.genome_scores)\n",
    "print()\n",
    "print(f'First 10 ratings of movie {movie_example.title}')\n",
    "\n",
    "while i_ratings <= 10:\n",
    "    print(ratings[i_ratings].rating)\n",
    "    if i_ratings >= 10:\n",
    "        break\n",
    "    i_ratings += 1\n",
    "\n",
    "i_tags = 1\n",
    "print()\n",
    "print(f'First 10 tags of movie {movie_example.title}')\n",
    "\n",
    "while i_tags <= 10:\n",
    "    print(tags[i_tags].tag)\n",
    "    if i_tags >= 10:\n",
    "        break\n",
    "    i_tags += 1\n",
    "\n",
    "i_genome_scores = 1\n",
    "\n",
    "print()\n",
    "print(f'First 10 genome_scores of movie {movie_example.title}')\n",
    "\n",
    "while i_genome_scores <= 10:\n",
    "    print(genome_scores[i_genome_scores].relevance)\n",
    "    if i_genome_scores >= 10:\n",
    "        break\n",
    "    i_genome_scores += 1"
   ]
  },
  {
   "cell_type": "code",
   "execution_count": 171,
   "metadata": {},
   "outputs": [
    {
     "name": "stdout",
     "output_type": "stream",
     "text": [
      "Genome tag id: 1\n",
      "Genome tag: 007\n"
     ]
    }
   ],
   "source": [
    "# Call the first Entry in the genre table and print out it's properites\n",
    "genome_tag_example = session.query(Genome_Tag).first()\n",
    "print(f'Genome tag id: {genome_tag_example.tag_id}')\n",
    "print(f'Genome tag: {genome_tag_example.tag}')"
   ]
  },
  {
   "cell_type": "code",
   "execution_count": 172,
   "metadata": {},
   "outputs": [
    {
     "name": "stdout",
     "output_type": "stream",
     "text": [
      "Movie title: Toy Story (1995)\n",
      "IMDb id: 0114709\n",
      "TMDb id: 862\n"
     ]
    }
   ],
   "source": [
    "link_example = session.query(Link).first()\n",
    "print(f'Movie title: {link_example.movie.title}')\n",
    "print(f'IMDb id: {link_example.imdb_id}')\n",
    "print(f'TMDb id: {link_example.tmdb_id}')"
   ]
  },
  {
   "cell_type": "code",
   "execution_count": 173,
   "metadata": {},
   "outputs": [
    {
     "name": "stdout",
     "output_type": "stream",
     "text": [
      "Rating id: 1\n",
      "Rating user id: 1\n",
      "Rating movie title: Three Colors: Blue (Trois couleurs: Bleu) (1993)\n",
      "Rating: 3.5\n",
      "Rating date: 2009-10-27 09:00:21\n"
     ]
    }
   ],
   "source": [
    "rating_example = session.query(Rating).first()\n",
    "print(f'Rating id: {rating_example.rating_id}')\n",
    "print(f'Rating user id: {rating_example.user_id}')\n",
    "print(f'Rating movie title: {rating_example.movie.title}')\n",
    "print(f'Rating: {rating_example.rating}')\n",
    "print(f'Rating date: {rating_example.rating_date}')"
   ]
  },
  {
   "cell_type": "code",
   "execution_count": 174,
   "metadata": {},
   "outputs": [
    {
     "name": "stdout",
     "output_type": "stream",
     "text": [
      "Tag id: 1\n",
      "Tag user id: 14\n",
      "Tag movie title: Braveheart (1995)\n",
      "Tag: epic\n",
      "Tag date: 2015-09-24 14:35:38\n"
     ]
    }
   ],
   "source": [
    "tag_example = session.query(Tag).first()\n",
    "print(f'Tag id: {tag_example.tag_id}')\n",
    "print(f'Tag user id: {tag_example.user_id}')\n",
    "print(f'Tag movie title: {tag_example.movie.title}')\n",
    "print(f'Tag: {tag_example.tag}')\n",
    "print(f'Tag date: {tag_example.tag_date}')\n",
    "\n"
   ]
  },
  {
   "cell_type": "code",
   "execution_count": 175,
   "metadata": {},
   "outputs": [
    {
     "name": "stdout",
     "output_type": "stream",
     "text": [
      "Genome score tag id: 1\n",
      "Genome score movie title: Toy Story (1995)\n",
      "Genome score relevance: 0.029\n"
     ]
    }
   ],
   "source": [
    "genome_score_example = session.query(Genome_Score).first()\n",
    "print(f'Genome score tag id: {genome_score_example.tag_id}')\n",
    "print(f'Genome score movie title: {genome_score_example.movie.title}')\n",
    "print(f'Genome score relevance: {genome_score_example.relevance}')"
   ]
  }
 ],
 "metadata": {
  "kernelspec": {
   "display_name": "Python 3.10.6 ('dviz')",
   "language": "python",
   "name": "python3"
  },
  "language_info": {
   "codemirror_mode": {
    "name": "ipython",
    "version": 3
   },
   "file_extension": ".py",
   "mimetype": "text/x-python",
   "name": "python",
   "nbconvert_exporter": "python",
   "pygments_lexer": "ipython3",
   "version": "3.10.6"
  },
  "orig_nbformat": 4,
  "vscode": {
   "interpreter": {
    "hash": "acc9a91b6998de036ca9c194e26b210da4c2e06b7cf5d9e1b42b0f3f179806fe"
   }
  }
 },
 "nbformat": 4,
 "nbformat_minor": 2
}
