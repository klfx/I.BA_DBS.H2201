{
 "cells": [
  {
   "cell_type": "code",
   "execution_count": 83,
   "metadata": {},
   "outputs": [],
   "source": [
    "from sqlalchemy.ext.automap import automap_base\n",
    "from sqlalchemy import Column, String, Integer, Float, Date, Table, ForeignKey\n",
    "from sqlalchemy import create_engine\n",
    "from sqlalchemy.orm import Session, relationship\n",
    "\n",
    "import pandas as pd"
   ]
  },
  {
   "cell_type": "code",
   "execution_count": 84,
   "metadata": {},
   "outputs": [
    {
     "name": "stdout",
     "output_type": "stream",
     "text": [
      "kubacka\n"
     ]
    }
   ],
   "source": [
    "credentials = pd.read_csv('../credentials/credentials.csv')\n",
    "\n",
    "database_adress = credentials['Host'].iloc[0]\n",
    "database_user = credentials['User'].iloc[0]\n",
    "database_password = credentials['Password'].iloc[0]\n",
    "database_name = credentials['Database'].iloc[0]\n",
    "database_port = credentials['Port'].iloc[0]\n",
    "\n",
    "print(database_user)"
   ]
  },
  {
   "cell_type": "code",
   "execution_count": 85,
   "metadata": {},
   "outputs": [],
   "source": [
    "Base = automap_base()"
   ]
  },
  {
   "attachments": {},
   "cell_type": "markdown",
   "metadata": {},
   "source": [
    "##### Create the middle Table **movie_genres** which is between the tables movies and genres which is am many to many relationship"
   ]
  },
  {
   "cell_type": "code",
   "execution_count": 86,
   "metadata": {},
   "outputs": [],
   "source": [
    "movie_genres = Table(\n",
    "    \"movies_genres\",\n",
    "    Base.metadata,\n",
    "    Column(\"movieId\", ForeignKey(\"movies.movieId\")),\n",
    "    Column(\"genreId\", ForeignKey(\"genres.genreId\")),\n",
    ")"
   ]
  },
  {
   "attachments": {},
   "cell_type": "markdown",
   "metadata": {},
   "source": [
    "##### Creation of the class **Genre**(Tabele name 'genres') with it's 3 properties genre_id, name and all the movies that are assigned to that genre </br> Movies is a many to many relation because every genre can have multiple movies with it's genre and every movie can have multiple genres"
   ]
  },
  {
   "cell_type": "code",
   "execution_count": 87,
   "metadata": {},
   "outputs": [],
   "source": [
    "class Genre(Base):\n",
    "   __tablename__ = 'genres' \n",
    "   genre_id = Column('genreId', Integer, primary_key = True)\n",
    "   name = Column('genrename', String)\n",
    "   movies = relationship('Movie', secondary=movie_genres,\n",
    "                            backref='movies', viewonly=True)"
   ]
  },
  {
   "attachments": {},
   "cell_type": "markdown",
   "metadata": {},
   "source": [
    "##### Creation of the class **Genome_Tag**(Table name 'genometags') with it's two properties tagId and tag"
   ]
  },
  {
   "cell_type": "code",
   "execution_count": 88,
   "metadata": {},
   "outputs": [],
   "source": [
    "class Genome_Tag(Base):\n",
    "    __tablename__ = 'genometags' \n",
    "    tagId = Column('tagId', Integer, primary_key = True)\n",
    "    tag = Column('tag', String)\n",
    "    genome_scores = relationship(\"Genome_Score\" ,back_populates='genome_tag', viewonly=True)"
   ]
  },
  {
   "attachments": {},
   "cell_type": "markdown",
   "metadata": {},
   "source": [
    "##### Creation of the class **Link**(Table name 'links') with it's three properties movie, imdb_id and tmdb_id. <br/> Movie is the primary key of the table and at the same time the foreign key to the table movie"
   ]
  },
  {
   "cell_type": "code",
   "execution_count": 89,
   "metadata": {},
   "outputs": [],
   "source": [
    "class Link(Base):\n",
    "    __tablename__ = 'links' \n",
    "    movieId = Column(Integer, ForeignKey(\"movies.movieId\"), primary_key = True)\n",
    "    movie = relationship(\"Movie\", back_populates=\"link\", viewonly=True, uselist=False)\n",
    "    imdb_id = Column('imdbId', Integer)\n",
    "    tmdb_id = Column('tmdbId', Integer)"
   ]
  },
  {
   "attachments": {},
   "cell_type": "markdown",
   "metadata": {},
   "source": [
    "##### Creation of the class **Rating**(Table name 'ratings') with it's five properties rating_id, user_id, movie, rating, rating_date <br/>Movie is a one to many relationship to Rating, which means that every rating rates one movie and every movie can have multiple ratings"
   ]
  },
  {
   "cell_type": "code",
   "execution_count": 90,
   "metadata": {},
   "outputs": [],
   "source": [
    "class Rating(Base):\n",
    "    __tablename__ = 'ratings' \n",
    "    rating_id = Column('rating_id', Integer, primary_key = True)\n",
    "    user_id = Column('userId', Integer)\n",
    "    movieId = Column(Integer, ForeignKey(\"movies.movieId\"))\n",
    "    movie = relationship(\"Movie\", back_populates=\"rating\", viewonly=True, uselist=False)\n",
    "    rating = Column('rating', Float)\n",
    "    rating_date = Column('rating_date', Date)"
   ]
  },
  {
   "attachments": {},
   "cell_type": "markdown",
   "metadata": {},
   "source": [
    "##### Creation of the class **Tag**(Table name 'tags') with it's five properties tag_id, user_id, movie, tag, tag_date <br/>Movie is a one to many relationship to Tag, which means that every tag belongs to one movie and every movie can have multiple tags"
   ]
  },
  {
   "cell_type": "code",
   "execution_count": 91,
   "metadata": {},
   "outputs": [],
   "source": [
    "class Tag(Base):\n",
    "    __tablename__ = 'tags' \n",
    "    tag_id = Column('tag_id', Integer, primary_key = True)\n",
    "    user_id = Column('userId', Integer)\n",
    "    movieId = Column(Integer, ForeignKey(\"movies.movieId\"))\n",
    "    movie = relationship(\"Movie\", back_populates=\"tag\", viewonly=True, uselist=False)\n",
    "    tag = Column('tag', String)\n",
    "    tag_date = Column('tag_date', Date) "
   ]
  },
  {
   "attachments": {},
   "cell_type": "markdown",
   "metadata": {},
   "source": [
    "##### Creation of the class **Genome_Score**(Table name 'genomescores') with it's three properties tagId, movie, relevance <br/>Genome_Score has two primary keys because the combination of tagId and movieId is unique to every entry <br/>Movie is a many to many relationship to Genome_Score, which means that every genome_score belongs to every movie and every movie has a relevance rating of every tag"
   ]
  },
  {
   "cell_type": "code",
   "execution_count": 92,
   "metadata": {},
   "outputs": [],
   "source": [
    "class Genome_Score(Base):\n",
    "    __tablename__ = 'genomescores' \n",
    "    tagId = Column(Integer, ForeignKey(\"genometags.tagId\"), primary_key = True)\n",
    "    tag = relationship('Genome_Tag', back_populates=\"genome_scores\", viewonly=True)\n",
    "    movieId = Column(Integer, ForeignKey(\"movies.movieId\"), primary_key = True)\n",
    "    movie = relationship(\"Movie\", back_populates=\"genome_score\", viewonly=True, uselist=False)\n",
    "    relevance = Column('relevance', Float)"
   ]
  },
  {
   "attachments": {},
   "cell_type": "markdown",
   "metadata": {},
   "source": [
    "##### Creation of the class **Movie**(Table name 'movies') with it's eight properties movie_id, title, release_year, genres, ratings, tags, genome_scores and link <br/>Genres is a many to many relation because every movie can have multiple genres with it's and every genre can have multiple movies<br/>Ratings is many to one relation to Movie, because every movie can have multiple ratings and every rating belongs to one movie<br/>Tags is many to one relation to Movie, because every movie can have multiple tags and every tag belongs to one movie<br/>Genome_Scores is many to many relation to Movie with two primary keys, because every movie has a relevance rating to every tag so the combination of movieId an tagId is unique for every entry\n"
   ]
  },
  {
   "cell_type": "code",
   "execution_count": 93,
   "metadata": {},
   "outputs": [],
   "source": [
    "class Movie(Base):\n",
    "    __tablename__ = 'movies'\n",
    "\n",
    "    movie_id = Column('movieId', Integer, primary_key = True)\n",
    "    title = Column('title', String)\n",
    "    release_year = Column('release_year', Integer)\n",
    "\n",
    "    genres = relationship('Genre', secondary=movie_genres,\n",
    "                            backref='genres', viewonly=True)\n",
    "    ratings = relationship(\"Rating\" ,back_populates='movie', viewonly=True)\n",
    "    tags = relationship(\"Tag\" ,back_populates='movie', viewonly=True)\n",
    "    genome_scores = relationship(\"Genome_Score\" ,back_populates='movie', viewonly=True)\n",
    "    link = relationship(\"Link\" ,back_populates='movie', viewonly=True, uselist=False)"
   ]
  },
  {
   "attachments": {},
   "cell_type": "markdown",
   "metadata": {},
   "source": [
    "### Build the connection with the database"
   ]
  },
  {
   "cell_type": "code",
   "execution_count": 94,
   "metadata": {},
   "outputs": [],
   "source": [
    "#Build the connection with the database\n",
    "engine = create_engine(f'mysql+pymysql://{database_user}:{database_password}@{database_adress}:{database_port}/{database_name}')\n",
    "Base.prepare(autoload_with=engine)\n",
    "\n",
    "session = Session(engine)"
   ]
  },
  {
   "attachments": {},
   "cell_type": "markdown",
   "metadata": {},
   "source": [
    "#### Function which prints out all the information about a movie"
   ]
  },
  {
   "cell_type": "code",
   "execution_count": 95,
   "metadata": {},
   "outputs": [],
   "source": [
    "def print_Movie_Infos(movie):\n",
    "\n",
    "    ratings = list(movie.ratings)\n",
    "    tags = list(movie.tags)\n",
    "    genome_scores = list(movie.genome_scores)\n",
    "    genres = list(movie.genres)\n",
    "\n",
    "    print(f'Movie id: {movie.movie_id}')\n",
    "    print(f'Title: {movie.title}')\n",
    "    print(f'Release Year: {movie.release_year}')\n",
    "\n",
    "    print()\n",
    "    print(\"Genres: \")\n",
    "    for genre in genres:\n",
    "        print(genre.name)\n",
    "\n",
    "    print()\n",
    "    print(f'IMDb id: {movie.link.imdb_id}')\n",
    "    print(f'TMDb id: {movie.link.tmdb_id}')\n",
    "\n",
    "    print()\n",
    "    print(f'First 10 ratings of movie {movie.title}')\n",
    "\n",
    "    i_ratings = 0\n",
    "\n",
    "    while i_ratings < 10:\n",
    "        print(ratings[i_ratings].rating)\n",
    "        i_ratings += 1\n",
    "\n",
    "    print()\n",
    "    print(f'First 10 tags of movie {movie.title}')\n",
    "\n",
    "    i_tags = 0\n",
    "\n",
    "    while i_tags < 10:\n",
    "        print(tags[i_tags].tag)\n",
    "        i_tags += 1\n",
    "\n",
    "    print()\n",
    "    print(f'First 10 genome_scores of movie {movie.title}')\n",
    "\n",
    "    i_genome_scores = 0\n",
    "\n",
    "    while i_genome_scores < 10:\n",
    "        print(genome_scores[i_genome_scores].tag.tag)\n",
    "        print(str(genome_scores[i_genome_scores].relevance))\n",
    "        i_genome_scores += 1"
   ]
  },
  {
   "attachments": {},
   "cell_type": "markdown",
   "metadata": {},
   "source": [
    "#### Function which prints out all the information about a genome_Tag"
   ]
  },
  {
   "cell_type": "code",
   "execution_count": 96,
   "metadata": {},
   "outputs": [],
   "source": [
    "def print_Genome_Tag_Infos(genome_tag):\n",
    "    print(f'Genome tag id: {genome_tag.tagId}')\n",
    "    print(f'Genome tag: {genome_tag.tag}')"
   ]
  },
  {
   "attachments": {},
   "cell_type": "markdown",
   "metadata": {},
   "source": [
    "#### Function which prints out all the information about a link"
   ]
  },
  {
   "cell_type": "code",
   "execution_count": 97,
   "metadata": {},
   "outputs": [],
   "source": [
    "def print_Link_Infos(link):\n",
    "    print(f'Movie title: {link.movie.title}')\n",
    "    print(f'IMDb id: {link.imdb_id}')\n",
    "    print(f'TMDb id: {link.tmdb_id}')"
   ]
  },
  {
   "attachments": {},
   "cell_type": "markdown",
   "metadata": {},
   "source": [
    "#### Function which prints out all the information about a rating"
   ]
  },
  {
   "cell_type": "code",
   "execution_count": 98,
   "metadata": {},
   "outputs": [],
   "source": [
    "\n",
    "def print_Rating_Infos(rating):\n",
    "    print(f'Rating id: {rating.rating_id}')\n",
    "    print(f'Rating user id: {rating.user_id}')\n",
    "    print(f'Rating movie title: {rating.movie.title}')\n",
    "    print(f'Rating: {rating.rating}')\n",
    "    print(f'Rating date: {rating.rating_date}')"
   ]
  },
  {
   "attachments": {},
   "cell_type": "markdown",
   "metadata": {},
   "source": [
    "#### Function which prints out all the information about a tag"
   ]
  },
  {
   "cell_type": "code",
   "execution_count": 99,
   "metadata": {},
   "outputs": [],
   "source": [
    "\n",
    "def print_Tag_Infos(tag):\n",
    "    print(f'Tag id: {tag.tag_id}')\n",
    "    print(f'Tag user id: {tag.user_id}')\n",
    "    print(f'Tag movie title: {tag.movie.title}')\n",
    "    print(f'Tag: {tag.tag}')\n",
    "    print(f'Tag date: {tag.tag_date}')\n"
   ]
  },
  {
   "attachments": {},
   "cell_type": "markdown",
   "metadata": {},
   "source": [
    "#### Function which prints out all the information about a genome_Score"
   ]
  },
  {
   "cell_type": "code",
   "execution_count": 100,
   "metadata": {},
   "outputs": [],
   "source": [
    "\n",
    "def print_Genome_Score_Infos(genome_score):\n",
    "    print(f'Genome score tag id: {genome_score.tagId}')\n",
    "    print(f'Genome score movie title: {genome_score.movie.title}')\n",
    "    print(f'Genome score relevance: {genome_score.relevance}')"
   ]
  },
  {
   "attachments": {},
   "cell_type": "markdown",
   "metadata": {},
   "source": [
    "#### Function which prints out all the information about a genre"
   ]
  },
  {
   "cell_type": "code",
   "execution_count": 101,
   "metadata": {},
   "outputs": [],
   "source": [
    "# Function which prints out all the information about a genre\n",
    "def print_Genre_Infos(genre):\n",
    "    print(f'Genre id: {genre.genre_id}')\n",
    "    print(f'Genre name: {genre.name}')\n",
    "    print(f'First 10 movies with the genre {genre.name}: {genre.genre_id}')\n",
    "\n",
    "    movies = list(genre.movies)\n",
    "    i_movies = 0\n",
    "\n",
    "    while i_movies < 10:\n",
    "        print(movies[i_movies].title)\n",
    "        i_movies += 1    \n"
   ]
  },
  {
   "cell_type": "code",
   "execution_count": 102,
   "metadata": {},
   "outputs": [
    {
     "name": "stdout",
     "output_type": "stream",
     "text": [
      "Movie id: 1\n",
      "Title: Toy Story (1995)\n",
      "Release Year: 1995\n",
      "\n",
      "Genres: \n",
      "Adventure\n",
      "Animation\n",
      "Children\n",
      "Comedy\n",
      "Fantasy\n",
      "\n",
      "IMDb id: 0114709\n",
      "TMDb id: 862\n",
      "\n",
      "First 10 ratings of movie Toy Story (1995)\n",
      "4.0\n",
      "5.0\n",
      "4.5\n",
      "4.0\n",
      "4.0\n",
      "4.0\n",
      "5.0\n",
      "5.0\n",
      "4.5\n",
      "5.0\n",
      "\n",
      "First 10 tags of movie Toy Story (1995)\n",
      "animated\n",
      "buddy movie\n",
      "Cartoon\n",
      "cgi\n",
      "comedy\n",
      "computer animation\n",
      "family\n",
      "friendship\n",
      "kids\n",
      "toy\n",
      "\n",
      "First 10 genome_scores of movie Toy Story (1995)\n",
      "007\n",
      "0.029\n",
      "007 (series)\n",
      "0.02375\n",
      "18th century\n",
      "0.05425\n",
      "1920s\n",
      "0.06875\n",
      "1930s\n",
      "0.16\n",
      "1950s\n",
      "0.19525\n",
      "1960s\n",
      "0.076\n",
      "1970s\n",
      "0.252\n",
      "1980s\n",
      "0.2275\n",
      "19th century\n",
      "0.024\n"
     ]
    }
   ],
   "source": [
    "movie_example = session.query(Movie).first()\n",
    "print_Movie_Infos(movie_example)"
   ]
  },
  {
   "cell_type": "code",
   "execution_count": 103,
   "metadata": {},
   "outputs": [
    {
     "name": "stdout",
     "output_type": "stream",
     "text": [
      "Genome tag id: 1\n",
      "Genome tag: 007\n"
     ]
    }
   ],
   "source": [
    "genome_tag_example = session.query(Genome_Tag).first()\n",
    "print_Genome_Tag_Infos(genome_tag_example)"
   ]
  },
  {
   "cell_type": "code",
   "execution_count": 104,
   "metadata": {},
   "outputs": [
    {
     "name": "stdout",
     "output_type": "stream",
     "text": [
      "Movie title: Toy Story (1995)\n",
      "IMDb id: 0114709\n",
      "TMDb id: 862\n"
     ]
    }
   ],
   "source": [
    "link_example = session.query(Link).first()\n",
    "print_Link_Infos(link_example)"
   ]
  },
  {
   "cell_type": "code",
   "execution_count": 105,
   "metadata": {},
   "outputs": [
    {
     "name": "stdout",
     "output_type": "stream",
     "text": [
      "Rating id: 1\n",
      "Rating user id: 1\n",
      "Rating movie title: Three Colors: Blue (Trois couleurs: Bleu) (1993)\n",
      "Rating: 3.5\n",
      "Rating date: 2009-10-27 09:00:21\n"
     ]
    }
   ],
   "source": [
    "rating_example = session.query(Rating).first()\n",
    "print_Rating_Infos(rating_example)"
   ]
  },
  {
   "cell_type": "code",
   "execution_count": 106,
   "metadata": {},
   "outputs": [
    {
     "name": "stdout",
     "output_type": "stream",
     "text": [
      "Tag id: 1\n",
      "Tag user id: 14\n",
      "Tag movie title: Braveheart (1995)\n",
      "Tag: epic\n",
      "Tag date: 2015-09-24 14:35:38\n"
     ]
    }
   ],
   "source": [
    "tag_example = session.query(Tag).first()\n",
    "print_Tag_Infos(tag_example)"
   ]
  },
  {
   "cell_type": "code",
   "execution_count": 107,
   "metadata": {},
   "outputs": [
    {
     "name": "stdout",
     "output_type": "stream",
     "text": [
      "Genome score tag id: 1\n",
      "Genome score movie title: Stranger by the Lake (L'inconnu du lac) (2013)\n",
      "Genome score relevance: 0.005\n"
     ]
    }
   ],
   "source": [
    "genome_score_example = session.query(Genome_Score).first()\n",
    "print_Genome_Score_Infos(genome_score_example)"
   ]
  },
  {
   "cell_type": "code",
   "execution_count": 108,
   "metadata": {},
   "outputs": [
    {
     "name": "stdout",
     "output_type": "stream",
     "text": [
      "Genre id: 1\n",
      "Genre name: Action\n",
      "First 10 movies with the genre Action: 1\n",
      "Heat (1995)\n",
      "Sudden Death (1995)\n",
      "GoldenEye (1995)\n",
      "Cutthroat Island (1995)\n",
      "Money Train (1995)\n",
      "Assassins (1995)\n",
      "Dead Presidents (1995)\n",
      "Mortal Kombat (1995)\n",
      "Guardian Angel (1994)\n",
      "Lawnmower Man 2: Beyond Cyberspace (1996)\n"
     ]
    }
   ],
   "source": [
    "genre_example = session.query(Genre).first()\n",
    "print_Genre_Infos(genre_example)"
   ]
  },
  {
   "cell_type": "code",
   "execution_count": 109,
   "metadata": {},
   "outputs": [],
   "source": [
    "star_wars_epIV = session.query(Movie).filter(Movie.title.like('Star Wars: Episode IV%')).first()"
   ]
  },
  {
   "cell_type": "code",
   "execution_count": 110,
   "metadata": {},
   "outputs": [
    {
     "name": "stdout",
     "output_type": "stream",
     "text": [
      "Star Wars: Episode IV - A New Hope (1977)\n"
     ]
    }
   ],
   "source": [
    "print(star_wars_epIV.title)"
   ]
  },
  {
   "cell_type": "code",
   "execution_count": 111,
   "metadata": {},
   "outputs": [
    {
     "name": "stdout",
     "output_type": "stream",
     "text": [
      "81815\n"
     ]
    }
   ],
   "source": [
    "print(len(list(star_wars_epIV.ratings)))"
   ]
  },
  {
   "cell_type": "code",
   "execution_count": 112,
   "metadata": {},
   "outputs": [
    {
     "name": "stdout",
     "output_type": "stream",
     "text": [
      "4.5\n",
      "4.0\n",
      "5.0\n",
      "4.0\n",
      "5.0\n",
      "1.5\n",
      "5.0\n",
      "5.0\n",
      "5.0\n",
      "4.5\n"
     ]
    }
   ],
   "source": [
    "star_wars_ratings = list(star_wars_epIV.ratings)\n",
    "i_ratings = 0\n",
    "\n",
    "while i_ratings < 10:\n",
    "    print(star_wars_ratings[i_ratings].rating)\n",
    "    i_ratings += 1"
   ]
  },
  {
   "cell_type": "code",
   "execution_count": 31,
   "metadata": {},
   "outputs": [
    {
     "name": "stdout",
     "output_type": "stream",
     "text": [
      "Movie id: 260\n",
      "Title: Star Wars: Episode IV - A New Hope (1977)\n",
      "Release Year: 1977\n",
      "\n",
      "Genres: \n",
      "Action\n",
      "Adventure\n",
      "Sci-Fi\n",
      "\n",
      "IMDb id: 0076759\n",
      "TMDb id: 11\n",
      "\n",
      "First 10 ratings of movie Star Wars: Episode IV - A New Hope (1977)\n",
      "4.5\n",
      "4.0\n",
      "5.0\n",
      "4.0\n",
      "5.0\n",
      "1.5\n",
      "5.0\n",
      "5.0\n",
      "5.0\n",
      "4.5\n",
      "\n",
      "First 10 tags of movie Star Wars: Episode IV - A New Hope (1977)\n",
      "sci-fi\n",
      "space action\n",
      "classic sci-fi\n",
      "Harrison Ford\n",
      "must see\n",
      "sci-fi\n",
      "Class sci-fi\n",
      "Mystical space epic\n",
      "classic sci-fi\n",
      "space adventure\n",
      "\n",
      "First 10 genome_scores of movie Star Wars: Episode IV - A New Hope (1977)\n",
      "007\n",
      "0.0695\n",
      "007 (series)\n",
      "0.04175\n",
      "18th century\n",
      "0.15525\n",
      "1920s\n",
      "0.1605\n",
      "1930s\n",
      "0.342\n",
      "1950s\n",
      "0.20575\n",
      "1960s\n",
      "0.109\n",
      "1970s\n",
      "0.47025\n",
      "1980s\n",
      "0.5015\n",
      "19th century\n",
      "0.08875\n"
     ]
    }
   ],
   "source": [
    "print_Movie_Infos(star_wars_epIV)"
   ]
  },
  {
   "cell_type": "code",
   "execution_count": 32,
   "metadata": {},
   "outputs": [
    {
     "name": "stdout",
     "output_type": "stream",
     "text": [
      "Movie id: 932\n",
      "Title: Affair to Remember, An (1957)\n",
      "Release Year: 1957\n",
      "\n",
      "Genres: \n",
      "Drama\n",
      "Romance\n",
      "\n",
      "IMDb id: 0050105\n",
      "TMDb id: 8356\n",
      "\n",
      "First 10 ratings of movie Affair to Remember, An (1957)\n",
      "4.0\n",
      "3.5\n",
      "5.0\n",
      "5.0\n",
      "3.5\n",
      "3.0\n",
      "5.0\n",
      "5.0\n",
      "4.0\n",
      "4.0\n",
      "\n",
      "First 10 tags of movie Affair to Remember, An (1957)\n",
      "Carey Grant\n",
      "classic love story\n",
      "Bob*ola\n",
      "Cary Grant\n",
      "Classic\n",
      "Infidelity\n",
      "romcom\n",
      "Infidelity\n",
      "Deborah Kerr\n",
      "painful to watch\n",
      "\n",
      "First 10 genome_scores of movie Affair to Remember, An (1957)\n",
      "007\n",
      "0.03225\n",
      "007 (series)\n",
      "0.035\n",
      "18th century\n",
      "0.14\n",
      "1920s\n",
      "0.10025\n",
      "1930s\n",
      "0.42525\n",
      "1950s\n",
      "0.49625\n",
      "1960s\n",
      "0.129\n",
      "1970s\n",
      "0.121\n",
      "1980s\n",
      "0.10125\n",
      "19th century\n",
      "0.1065\n"
     ]
    }
   ],
   "source": [
    "movie_932 = session.query(Movie).get(932)\n",
    "\n",
    "print_Movie_Infos(movie_932)"
   ]
  },
  {
   "cell_type": "code",
   "execution_count": 81,
   "metadata": {},
   "outputs": [],
   "source": [
    "#import pandas as pd"
   ]
  },
  {
   "cell_type": "code",
   "execution_count": 82,
   "metadata": {},
   "outputs": [
    {
     "ename": "KeyboardInterrupt",
     "evalue": "",
     "output_type": "error",
     "traceback": [
      "\u001b[0;31m---------------------------------------------------------------------------\u001b[0m",
      "\u001b[0;31mKeyboardInterrupt\u001b[0m                         Traceback (most recent call last)",
      "\u001b[1;32m/Users/fabienmorgan/Desktop/Ausbildung/Studium/DBS/Code/I.BA_DBS.H2201/code_requests_visualisations/ORM_Mapping.ipynb Cell 50\u001b[0m in \u001b[0;36m<cell line: 7>\u001b[0;34m()\u001b[0m\n\u001b[1;32m      <a href='vscode-notebook-cell:/Users/fabienmorgan/Desktop/Ausbildung/Studium/DBS/Code/I.BA_DBS.H2201/code_requests_visualisations/ORM_Mapping.ipynb#Y100sZmlsZQ%3D%3D?line=8'>9</a>\u001b[0m users_with_one_rating \u001b[39m=\u001b[39m \u001b[39m0\u001b[39m\n\u001b[1;32m     <a href='vscode-notebook-cell:/Users/fabienmorgan/Desktop/Ausbildung/Studium/DBS/Code/I.BA_DBS.H2201/code_requests_visualisations/ORM_Mapping.ipynb#Y100sZmlsZQ%3D%3D?line=10'>11</a>\u001b[0m \u001b[39mfor\u001b[39;00m rating \u001b[39min\u001b[39;00m movie\u001b[39m.\u001b[39mratings:\n\u001b[0;32m---> <a href='vscode-notebook-cell:/Users/fabienmorgan/Desktop/Ausbildung/Studium/DBS/Code/I.BA_DBS.H2201/code_requests_visualisations/ORM_Mapping.ipynb#Y100sZmlsZQ%3D%3D?line=11'>12</a>\u001b[0m     ratings_of_user \u001b[39m=\u001b[39m \u001b[39mlist\u001b[39;49m(session\u001b[39m.\u001b[39;49mquery(Rating)\u001b[39m.\u001b[39;49mfilter(Rating\u001b[39m.\u001b[39;49muser_id \u001b[39m==\u001b[39;49m rating\u001b[39m.\u001b[39;49muser_id))\n\u001b[1;32m     <a href='vscode-notebook-cell:/Users/fabienmorgan/Desktop/Ausbildung/Studium/DBS/Code/I.BA_DBS.H2201/code_requests_visualisations/ORM_Mapping.ipynb#Y100sZmlsZQ%3D%3D?line=12'>13</a>\u001b[0m     \u001b[39mif\u001b[39;00m \u001b[39mlen\u001b[39m(ratings_of_user) \u001b[39m==\u001b[39m \u001b[39m1\u001b[39m:\n\u001b[1;32m     <a href='vscode-notebook-cell:/Users/fabienmorgan/Desktop/Ausbildung/Studium/DBS/Code/I.BA_DBS.H2201/code_requests_visualisations/ORM_Mapping.ipynb#Y100sZmlsZQ%3D%3D?line=13'>14</a>\u001b[0m         users_with_one_rating \u001b[39m+\u001b[39m\u001b[39m=\u001b[39m \u001b[39m1\u001b[39m\n",
      "File \u001b[0;32m~/opt/anaconda3/envs/dviz/lib/python3.10/site-packages/sqlalchemy/orm/query.py:2896\u001b[0m, in \u001b[0;36mQuery.__iter__\u001b[0;34m(self)\u001b[0m\n\u001b[1;32m   2895\u001b[0m \u001b[39mdef\u001b[39;00m \u001b[39m__iter__\u001b[39m(\u001b[39mself\u001b[39m):\n\u001b[0;32m-> 2896\u001b[0m     \u001b[39mreturn\u001b[39;00m \u001b[39mself\u001b[39;49m\u001b[39m.\u001b[39;49m_iter()\u001b[39m.\u001b[39m\u001b[39m__iter__\u001b[39m()\n",
      "File \u001b[0;32m~/opt/anaconda3/envs/dviz/lib/python3.10/site-packages/sqlalchemy/orm/query.py:2903\u001b[0m, in \u001b[0;36mQuery._iter\u001b[0;34m(self)\u001b[0m\n\u001b[1;32m   2900\u001b[0m params \u001b[39m=\u001b[39m \u001b[39mself\u001b[39m\u001b[39m.\u001b[39m_params\n\u001b[1;32m   2902\u001b[0m statement \u001b[39m=\u001b[39m \u001b[39mself\u001b[39m\u001b[39m.\u001b[39m_statement_20()\n\u001b[0;32m-> 2903\u001b[0m result \u001b[39m=\u001b[39m \u001b[39mself\u001b[39;49m\u001b[39m.\u001b[39;49msession\u001b[39m.\u001b[39;49mexecute(\n\u001b[1;32m   2904\u001b[0m     statement,\n\u001b[1;32m   2905\u001b[0m     params,\n\u001b[1;32m   2906\u001b[0m     execution_options\u001b[39m=\u001b[39;49m{\u001b[39m\"\u001b[39;49m\u001b[39m_sa_orm_load_options\u001b[39;49m\u001b[39m\"\u001b[39;49m: \u001b[39mself\u001b[39;49m\u001b[39m.\u001b[39;49mload_options},\n\u001b[1;32m   2907\u001b[0m )\n\u001b[1;32m   2909\u001b[0m \u001b[39m# legacy: automatically set scalars, unique\u001b[39;00m\n\u001b[1;32m   2910\u001b[0m \u001b[39mif\u001b[39;00m result\u001b[39m.\u001b[39m_attributes\u001b[39m.\u001b[39mget(\u001b[39m\"\u001b[39m\u001b[39mis_single_entity\u001b[39m\u001b[39m\"\u001b[39m, \u001b[39mFalse\u001b[39;00m):\n",
      "File \u001b[0;32m~/opt/anaconda3/envs/dviz/lib/python3.10/site-packages/sqlalchemy/orm/session.py:1712\u001b[0m, in \u001b[0;36mSession.execute\u001b[0;34m(self, statement, params, execution_options, bind_arguments, _parent_execute_state, _add_event, **kw)\u001b[0m\n\u001b[1;32m   1710\u001b[0m \u001b[39melse\u001b[39;00m:\n\u001b[1;32m   1711\u001b[0m     conn \u001b[39m=\u001b[39m \u001b[39mself\u001b[39m\u001b[39m.\u001b[39m_connection_for_bind(bind)\n\u001b[0;32m-> 1712\u001b[0m result \u001b[39m=\u001b[39m conn\u001b[39m.\u001b[39;49m_execute_20(statement, params \u001b[39mor\u001b[39;49;00m {}, execution_options)\n\u001b[1;32m   1714\u001b[0m \u001b[39mif\u001b[39;00m compile_state_cls:\n\u001b[1;32m   1715\u001b[0m     result \u001b[39m=\u001b[39m compile_state_cls\u001b[39m.\u001b[39morm_setup_cursor_result(\n\u001b[1;32m   1716\u001b[0m         \u001b[39mself\u001b[39m,\n\u001b[1;32m   1717\u001b[0m         statement,\n\u001b[0;32m   (...)\u001b[0m\n\u001b[1;32m   1721\u001b[0m         result,\n\u001b[1;32m   1722\u001b[0m     )\n",
      "File \u001b[0;32m~/opt/anaconda3/envs/dviz/lib/python3.10/site-packages/sqlalchemy/engine/base.py:1631\u001b[0m, in \u001b[0;36mConnection._execute_20\u001b[0;34m(self, statement, parameters, execution_options)\u001b[0m\n\u001b[1;32m   1627\u001b[0m     util\u001b[39m.\u001b[39mraise_(\n\u001b[1;32m   1628\u001b[0m         exc\u001b[39m.\u001b[39mObjectNotExecutableError(statement), replace_context\u001b[39m=\u001b[39merr\n\u001b[1;32m   1629\u001b[0m     )\n\u001b[1;32m   1630\u001b[0m \u001b[39melse\u001b[39;00m:\n\u001b[0;32m-> 1631\u001b[0m     \u001b[39mreturn\u001b[39;00m meth(\u001b[39mself\u001b[39;49m, args_10style, kwargs_10style, execution_options)\n",
      "File \u001b[0;32m~/opt/anaconda3/envs/dviz/lib/python3.10/site-packages/sqlalchemy/sql/elements.py:332\u001b[0m, in \u001b[0;36mClauseElement._execute_on_connection\u001b[0;34m(self, connection, multiparams, params, execution_options, _force)\u001b[0m\n\u001b[1;32m    328\u001b[0m \u001b[39mdef\u001b[39;00m \u001b[39m_execute_on_connection\u001b[39m(\n\u001b[1;32m    329\u001b[0m     \u001b[39mself\u001b[39m, connection, multiparams, params, execution_options, _force\u001b[39m=\u001b[39m\u001b[39mFalse\u001b[39;00m\n\u001b[1;32m    330\u001b[0m ):\n\u001b[1;32m    331\u001b[0m     \u001b[39mif\u001b[39;00m _force \u001b[39mor\u001b[39;00m \u001b[39mself\u001b[39m\u001b[39m.\u001b[39msupports_execution:\n\u001b[0;32m--> 332\u001b[0m         \u001b[39mreturn\u001b[39;00m connection\u001b[39m.\u001b[39;49m_execute_clauseelement(\n\u001b[1;32m    333\u001b[0m             \u001b[39mself\u001b[39;49m, multiparams, params, execution_options\n\u001b[1;32m    334\u001b[0m         )\n\u001b[1;32m    335\u001b[0m     \u001b[39melse\u001b[39;00m:\n\u001b[1;32m    336\u001b[0m         \u001b[39mraise\u001b[39;00m exc\u001b[39m.\u001b[39mObjectNotExecutableError(\u001b[39mself\u001b[39m)\n",
      "File \u001b[0;32m~/opt/anaconda3/envs/dviz/lib/python3.10/site-packages/sqlalchemy/engine/base.py:1498\u001b[0m, in \u001b[0;36mConnection._execute_clauseelement\u001b[0;34m(self, elem, multiparams, params, execution_options)\u001b[0m\n\u001b[1;32m   1486\u001b[0m compiled_cache \u001b[39m=\u001b[39m execution_options\u001b[39m.\u001b[39mget(\n\u001b[1;32m   1487\u001b[0m     \u001b[39m\"\u001b[39m\u001b[39mcompiled_cache\u001b[39m\u001b[39m\"\u001b[39m, \u001b[39mself\u001b[39m\u001b[39m.\u001b[39mengine\u001b[39m.\u001b[39m_compiled_cache\n\u001b[1;32m   1488\u001b[0m )\n\u001b[1;32m   1490\u001b[0m compiled_sql, extracted_params, cache_hit \u001b[39m=\u001b[39m elem\u001b[39m.\u001b[39m_compile_w_cache(\n\u001b[1;32m   1491\u001b[0m     dialect\u001b[39m=\u001b[39mdialect,\n\u001b[1;32m   1492\u001b[0m     compiled_cache\u001b[39m=\u001b[39mcompiled_cache,\n\u001b[0;32m   (...)\u001b[0m\n\u001b[1;32m   1496\u001b[0m     linting\u001b[39m=\u001b[39m\u001b[39mself\u001b[39m\u001b[39m.\u001b[39mdialect\u001b[39m.\u001b[39mcompiler_linting \u001b[39m|\u001b[39m compiler\u001b[39m.\u001b[39mWARN_LINTING,\n\u001b[1;32m   1497\u001b[0m )\n\u001b[0;32m-> 1498\u001b[0m ret \u001b[39m=\u001b[39m \u001b[39mself\u001b[39;49m\u001b[39m.\u001b[39;49m_execute_context(\n\u001b[1;32m   1499\u001b[0m     dialect,\n\u001b[1;32m   1500\u001b[0m     dialect\u001b[39m.\u001b[39;49mexecution_ctx_cls\u001b[39m.\u001b[39;49m_init_compiled,\n\u001b[1;32m   1501\u001b[0m     compiled_sql,\n\u001b[1;32m   1502\u001b[0m     distilled_params,\n\u001b[1;32m   1503\u001b[0m     execution_options,\n\u001b[1;32m   1504\u001b[0m     compiled_sql,\n\u001b[1;32m   1505\u001b[0m     distilled_params,\n\u001b[1;32m   1506\u001b[0m     elem,\n\u001b[1;32m   1507\u001b[0m     extracted_params,\n\u001b[1;32m   1508\u001b[0m     cache_hit\u001b[39m=\u001b[39;49mcache_hit,\n\u001b[1;32m   1509\u001b[0m )\n\u001b[1;32m   1510\u001b[0m \u001b[39mif\u001b[39;00m has_events:\n\u001b[1;32m   1511\u001b[0m     \u001b[39mself\u001b[39m\u001b[39m.\u001b[39mdispatch\u001b[39m.\u001b[39mafter_execute(\n\u001b[1;32m   1512\u001b[0m         \u001b[39mself\u001b[39m,\n\u001b[1;32m   1513\u001b[0m         elem,\n\u001b[0;32m   (...)\u001b[0m\n\u001b[1;32m   1517\u001b[0m         ret,\n\u001b[1;32m   1518\u001b[0m     )\n",
      "File \u001b[0;32m~/opt/anaconda3/envs/dviz/lib/python3.10/site-packages/sqlalchemy/engine/base.py:1862\u001b[0m, in \u001b[0;36mConnection._execute_context\u001b[0;34m(self, dialect, constructor, statement, parameters, execution_options, *args, **kw)\u001b[0m\n\u001b[1;32m   1859\u001b[0m             branched\u001b[39m.\u001b[39mclose()\n\u001b[1;32m   1861\u001b[0m \u001b[39mexcept\u001b[39;00m \u001b[39mBaseException\u001b[39;00m \u001b[39mas\u001b[39;00m e:\n\u001b[0;32m-> 1862\u001b[0m     \u001b[39mself\u001b[39;49m\u001b[39m.\u001b[39;49m_handle_dbapi_exception(\n\u001b[1;32m   1863\u001b[0m         e, statement, parameters, cursor, context\n\u001b[1;32m   1864\u001b[0m     )\n\u001b[1;32m   1866\u001b[0m \u001b[39mreturn\u001b[39;00m result\n",
      "File \u001b[0;32m~/opt/anaconda3/envs/dviz/lib/python3.10/site-packages/sqlalchemy/engine/base.py:2047\u001b[0m, in \u001b[0;36mConnection._handle_dbapi_exception\u001b[0;34m(self, e, statement, parameters, cursor, context)\u001b[0m\n\u001b[1;32m   2043\u001b[0m         util\u001b[39m.\u001b[39mraise_(\n\u001b[1;32m   2044\u001b[0m             sqlalchemy_exception, with_traceback\u001b[39m=\u001b[39mexc_info[\u001b[39m2\u001b[39m], from_\u001b[39m=\u001b[39me\n\u001b[1;32m   2045\u001b[0m         )\n\u001b[1;32m   2046\u001b[0m     \u001b[39melse\u001b[39;00m:\n\u001b[0;32m-> 2047\u001b[0m         util\u001b[39m.\u001b[39;49mraise_(exc_info[\u001b[39m1\u001b[39;49m], with_traceback\u001b[39m=\u001b[39;49mexc_info[\u001b[39m2\u001b[39;49m])\n\u001b[1;32m   2049\u001b[0m \u001b[39mfinally\u001b[39;00m:\n\u001b[1;32m   2050\u001b[0m     \u001b[39mdel\u001b[39;00m \u001b[39mself\u001b[39m\u001b[39m.\u001b[39m_reentrant_error\n",
      "File \u001b[0;32m~/opt/anaconda3/envs/dviz/lib/python3.10/site-packages/sqlalchemy/util/compat.py:208\u001b[0m, in \u001b[0;36mraise_\u001b[0;34m(***failed resolving arguments***)\u001b[0m\n\u001b[1;32m    205\u001b[0m     exception\u001b[39m.\u001b[39m__cause__ \u001b[39m=\u001b[39m replace_context\n\u001b[1;32m    207\u001b[0m \u001b[39mtry\u001b[39;00m:\n\u001b[0;32m--> 208\u001b[0m     \u001b[39mraise\u001b[39;00m exception\n\u001b[1;32m    209\u001b[0m \u001b[39mfinally\u001b[39;00m:\n\u001b[1;32m    210\u001b[0m     \u001b[39m# credit to\u001b[39;00m\n\u001b[1;32m    211\u001b[0m     \u001b[39m# https://cosmicpercolator.com/2016/01/13/exception-leaks-in-python-2-and-3/\u001b[39;00m\n\u001b[1;32m    212\u001b[0m     \u001b[39m# as the __traceback__ object creates a cycle\u001b[39;00m\n\u001b[1;32m    213\u001b[0m     \u001b[39mdel\u001b[39;00m exception, replace_context, from_, with_traceback\n",
      "File \u001b[0;32m~/opt/anaconda3/envs/dviz/lib/python3.10/site-packages/sqlalchemy/engine/base.py:1819\u001b[0m, in \u001b[0;36mConnection._execute_context\u001b[0;34m(self, dialect, constructor, statement, parameters, execution_options, *args, **kw)\u001b[0m\n\u001b[1;32m   1817\u001b[0m                 \u001b[39mbreak\u001b[39;00m\n\u001b[1;32m   1818\u001b[0m     \u001b[39mif\u001b[39;00m \u001b[39mnot\u001b[39;00m evt_handled:\n\u001b[0;32m-> 1819\u001b[0m         \u001b[39mself\u001b[39;49m\u001b[39m.\u001b[39;49mdialect\u001b[39m.\u001b[39;49mdo_execute(\n\u001b[1;32m   1820\u001b[0m             cursor, statement, parameters, context\n\u001b[1;32m   1821\u001b[0m         )\n\u001b[1;32m   1823\u001b[0m \u001b[39mif\u001b[39;00m \u001b[39mself\u001b[39m\u001b[39m.\u001b[39m_has_events \u001b[39mor\u001b[39;00m \u001b[39mself\u001b[39m\u001b[39m.\u001b[39mengine\u001b[39m.\u001b[39m_has_events:\n\u001b[1;32m   1824\u001b[0m     \u001b[39mself\u001b[39m\u001b[39m.\u001b[39mdispatch\u001b[39m.\u001b[39mafter_cursor_execute(\n\u001b[1;32m   1825\u001b[0m         \u001b[39mself\u001b[39m,\n\u001b[1;32m   1826\u001b[0m         cursor,\n\u001b[0;32m   (...)\u001b[0m\n\u001b[1;32m   1830\u001b[0m         context\u001b[39m.\u001b[39mexecutemany,\n\u001b[1;32m   1831\u001b[0m     )\n",
      "File \u001b[0;32m~/opt/anaconda3/envs/dviz/lib/python3.10/site-packages/sqlalchemy/engine/default.py:732\u001b[0m, in \u001b[0;36mDefaultDialect.do_execute\u001b[0;34m(self, cursor, statement, parameters, context)\u001b[0m\n\u001b[1;32m    731\u001b[0m \u001b[39mdef\u001b[39;00m \u001b[39mdo_execute\u001b[39m(\u001b[39mself\u001b[39m, cursor, statement, parameters, context\u001b[39m=\u001b[39m\u001b[39mNone\u001b[39;00m):\n\u001b[0;32m--> 732\u001b[0m     cursor\u001b[39m.\u001b[39;49mexecute(statement, parameters)\n",
      "File \u001b[0;32m~/opt/anaconda3/envs/dviz/lib/python3.10/site-packages/pymysql/cursors.py:148\u001b[0m, in \u001b[0;36mCursor.execute\u001b[0;34m(self, query, args)\u001b[0m\n\u001b[1;32m    144\u001b[0m     \u001b[39mpass\u001b[39;00m\n\u001b[1;32m    146\u001b[0m query \u001b[39m=\u001b[39m \u001b[39mself\u001b[39m\u001b[39m.\u001b[39mmogrify(query, args)\n\u001b[0;32m--> 148\u001b[0m result \u001b[39m=\u001b[39m \u001b[39mself\u001b[39;49m\u001b[39m.\u001b[39;49m_query(query)\n\u001b[1;32m    149\u001b[0m \u001b[39mself\u001b[39m\u001b[39m.\u001b[39m_executed \u001b[39m=\u001b[39m query\n\u001b[1;32m    150\u001b[0m \u001b[39mreturn\u001b[39;00m result\n",
      "File \u001b[0;32m~/opt/anaconda3/envs/dviz/lib/python3.10/site-packages/pymysql/cursors.py:310\u001b[0m, in \u001b[0;36mCursor._query\u001b[0;34m(self, q)\u001b[0m\n\u001b[1;32m    308\u001b[0m \u001b[39mself\u001b[39m\u001b[39m.\u001b[39m_last_executed \u001b[39m=\u001b[39m q\n\u001b[1;32m    309\u001b[0m \u001b[39mself\u001b[39m\u001b[39m.\u001b[39m_clear_result()\n\u001b[0;32m--> 310\u001b[0m conn\u001b[39m.\u001b[39;49mquery(q)\n\u001b[1;32m    311\u001b[0m \u001b[39mself\u001b[39m\u001b[39m.\u001b[39m_do_get_result()\n\u001b[1;32m    312\u001b[0m \u001b[39mreturn\u001b[39;00m \u001b[39mself\u001b[39m\u001b[39m.\u001b[39mrowcount\n",
      "File \u001b[0;32m~/opt/anaconda3/envs/dviz/lib/python3.10/site-packages/pymysql/connections.py:548\u001b[0m, in \u001b[0;36mConnection.query\u001b[0;34m(self, sql, unbuffered)\u001b[0m\n\u001b[1;32m    546\u001b[0m     sql \u001b[39m=\u001b[39m sql\u001b[39m.\u001b[39mencode(\u001b[39mself\u001b[39m\u001b[39m.\u001b[39mencoding, \u001b[39m\"\u001b[39m\u001b[39msurrogateescape\u001b[39m\u001b[39m\"\u001b[39m)\n\u001b[1;32m    547\u001b[0m \u001b[39mself\u001b[39m\u001b[39m.\u001b[39m_execute_command(COMMAND\u001b[39m.\u001b[39mCOM_QUERY, sql)\n\u001b[0;32m--> 548\u001b[0m \u001b[39mself\u001b[39m\u001b[39m.\u001b[39m_affected_rows \u001b[39m=\u001b[39m \u001b[39mself\u001b[39;49m\u001b[39m.\u001b[39;49m_read_query_result(unbuffered\u001b[39m=\u001b[39;49munbuffered)\n\u001b[1;32m    549\u001b[0m \u001b[39mreturn\u001b[39;00m \u001b[39mself\u001b[39m\u001b[39m.\u001b[39m_affected_rows\n",
      "File \u001b[0;32m~/opt/anaconda3/envs/dviz/lib/python3.10/site-packages/pymysql/connections.py:775\u001b[0m, in \u001b[0;36mConnection._read_query_result\u001b[0;34m(self, unbuffered)\u001b[0m\n\u001b[1;32m    773\u001b[0m \u001b[39melse\u001b[39;00m:\n\u001b[1;32m    774\u001b[0m     result \u001b[39m=\u001b[39m MySQLResult(\u001b[39mself\u001b[39m)\n\u001b[0;32m--> 775\u001b[0m     result\u001b[39m.\u001b[39;49mread()\n\u001b[1;32m    776\u001b[0m \u001b[39mself\u001b[39m\u001b[39m.\u001b[39m_result \u001b[39m=\u001b[39m result\n\u001b[1;32m    777\u001b[0m \u001b[39mif\u001b[39;00m result\u001b[39m.\u001b[39mserver_status \u001b[39mis\u001b[39;00m \u001b[39mnot\u001b[39;00m \u001b[39mNone\u001b[39;00m:\n",
      "File \u001b[0;32m~/opt/anaconda3/envs/dviz/lib/python3.10/site-packages/pymysql/connections.py:1156\u001b[0m, in \u001b[0;36mMySQLResult.read\u001b[0;34m(self)\u001b[0m\n\u001b[1;32m   1154\u001b[0m \u001b[39mdef\u001b[39;00m \u001b[39mread\u001b[39m(\u001b[39mself\u001b[39m):\n\u001b[1;32m   1155\u001b[0m     \u001b[39mtry\u001b[39;00m:\n\u001b[0;32m-> 1156\u001b[0m         first_packet \u001b[39m=\u001b[39m \u001b[39mself\u001b[39;49m\u001b[39m.\u001b[39;49mconnection\u001b[39m.\u001b[39;49m_read_packet()\n\u001b[1;32m   1158\u001b[0m         \u001b[39mif\u001b[39;00m first_packet\u001b[39m.\u001b[39mis_ok_packet():\n\u001b[1;32m   1159\u001b[0m             \u001b[39mself\u001b[39m\u001b[39m.\u001b[39m_read_ok_packet(first_packet)\n",
      "File \u001b[0;32m~/opt/anaconda3/envs/dviz/lib/python3.10/site-packages/pymysql/connections.py:692\u001b[0m, in \u001b[0;36mConnection._read_packet\u001b[0;34m(self, packet_type)\u001b[0m\n\u001b[1;32m    690\u001b[0m buff \u001b[39m=\u001b[39m \u001b[39mbytearray\u001b[39m()\n\u001b[1;32m    691\u001b[0m \u001b[39mwhile\u001b[39;00m \u001b[39mTrue\u001b[39;00m:\n\u001b[0;32m--> 692\u001b[0m     packet_header \u001b[39m=\u001b[39m \u001b[39mself\u001b[39;49m\u001b[39m.\u001b[39;49m_read_bytes(\u001b[39m4\u001b[39;49m)\n\u001b[1;32m    693\u001b[0m     \u001b[39m# if DEBUG: dump_packet(packet_header)\u001b[39;00m\n\u001b[1;32m    695\u001b[0m     btrl, btrh, packet_number \u001b[39m=\u001b[39m struct\u001b[39m.\u001b[39munpack(\u001b[39m\"\u001b[39m\u001b[39m<HBB\u001b[39m\u001b[39m\"\u001b[39m, packet_header)\n",
      "File \u001b[0;32m~/opt/anaconda3/envs/dviz/lib/python3.10/site-packages/pymysql/connections.py:732\u001b[0m, in \u001b[0;36mConnection._read_bytes\u001b[0;34m(self, num_bytes)\u001b[0m\n\u001b[1;32m    730\u001b[0m \u001b[39mwhile\u001b[39;00m \u001b[39mTrue\u001b[39;00m:\n\u001b[1;32m    731\u001b[0m     \u001b[39mtry\u001b[39;00m:\n\u001b[0;32m--> 732\u001b[0m         data \u001b[39m=\u001b[39m \u001b[39mself\u001b[39;49m\u001b[39m.\u001b[39;49m_rfile\u001b[39m.\u001b[39;49mread(num_bytes)\n\u001b[1;32m    733\u001b[0m         \u001b[39mbreak\u001b[39;00m\n\u001b[1;32m    734\u001b[0m     \u001b[39mexcept\u001b[39;00m (\u001b[39mIOError\u001b[39;00m, \u001b[39mOSError\u001b[39;00m) \u001b[39mas\u001b[39;00m e:\n",
      "File \u001b[0;32m~/opt/anaconda3/envs/dviz/lib/python3.10/socket.py:705\u001b[0m, in \u001b[0;36mSocketIO.readinto\u001b[0;34m(self, b)\u001b[0m\n\u001b[1;32m    703\u001b[0m \u001b[39mwhile\u001b[39;00m \u001b[39mTrue\u001b[39;00m:\n\u001b[1;32m    704\u001b[0m     \u001b[39mtry\u001b[39;00m:\n\u001b[0;32m--> 705\u001b[0m         \u001b[39mreturn\u001b[39;00m \u001b[39mself\u001b[39;49m\u001b[39m.\u001b[39;49m_sock\u001b[39m.\u001b[39;49mrecv_into(b)\n\u001b[1;32m    706\u001b[0m     \u001b[39mexcept\u001b[39;00m timeout:\n\u001b[1;32m    707\u001b[0m         \u001b[39mself\u001b[39m\u001b[39m.\u001b[39m_timeout_occurred \u001b[39m=\u001b[39m \u001b[39mTrue\u001b[39;00m\n",
      "\u001b[0;31mKeyboardInterrupt\u001b[0m: "
     ]
    }
   ],
   "source": [
    "\"\"\"movies = session.query(Movie)\n",
    "\n",
    "test_count = 0\n",
    "\n",
    "list_movies_with_users_with_one_rating = []\n",
    "\n",
    "for movie in movies:\n",
    "    test_count += 1\n",
    "    users_with_one_rating = 0\n",
    "\n",
    "    for rating in movie.ratings:\n",
    "        ratings_of_user = list(session.query(Rating).filter(Rating.user_id == rating.user_id))\n",
    "        if len(ratings_of_user) == 1:\n",
    "            users_with_one_rating += 1\n",
    "\n",
    "    new_user_ratio = users_with_one_rating / len(movie.ratings)\n",
    "    list_movies_with_users_with_one_rating.append([movie.title, users_with_one_rating, new_user_ratio])\n",
    "\n",
    "    if test_count >= 2:\n",
    "        break\n",
    "\n",
    "df_movies_with_users_with_one_rating = pd.DataFrame(list_movies_with_users_with_one_rating, columns=['Title', 'Users with only one rating', 'Ratio Users with only one rating / all ratings'])\n",
    "#movies_with_users_with_one_rating.sort(key=lambda row: (row[1], row[2]))\"\"\""
   ]
  },
  {
   "cell_type": "code",
   "execution_count": 39,
   "metadata": {},
   "outputs": [
    {
     "name": "stdout",
     "output_type": "stream",
     "text": [
      "   First Column  Second Column  Third Column\n",
      "0   First entry              2             3\n",
      "1  Second entry              5             6\n"
     ]
    }
   ],
   "source": [
    "\"\"\"test_list = []\n",
    "\n",
    "test_list.append(['First entry', 2, 3])\n",
    "test_list.append(['Second entry', 5, 6])\n",
    "\n",
    "test_df = pd.DataFrame(test_list, columns=['First Column', 'Second Column', 'Third Column'])\n",
    "print(test_df)\"\"\""
   ]
  }
 ],
 "metadata": {
  "kernelspec": {
   "display_name": "Python 3.10.6 ('dviz')",
   "language": "python",
   "name": "python3"
  },
  "language_info": {
   "codemirror_mode": {
    "name": "ipython",
    "version": 3
   },
   "file_extension": ".py",
   "mimetype": "text/x-python",
   "name": "python",
   "nbconvert_exporter": "python",
   "pygments_lexer": "ipython3",
   "version": "3.10.6"
  },
  "orig_nbformat": 4,
  "vscode": {
   "interpreter": {
    "hash": "acc9a91b6998de036ca9c194e26b210da4c2e06b7cf5d9e1b42b0f3f179806fe"
   }
  }
 },
 "nbformat": 4,
 "nbformat_minor": 2
}
