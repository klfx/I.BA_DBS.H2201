{
 "cells": [
  {
   "cell_type": "code",
   "execution_count": 43,
   "metadata": {},
   "outputs": [],
   "source": [
    "from sqlalchemy.ext.automap import automap_base\n",
    "from sqlalchemy import Column, String, Integer, Float, Date, Table, ForeignKey\n",
    "from sqlalchemy import create_engine\n",
    "from sqlalchemy.orm import Session, relationship\n",
    "\n",
    "import pandas as pd"
   ]
  },
  {
   "cell_type": "code",
   "execution_count": 44,
   "metadata": {},
   "outputs": [
    {
     "name": "stdout",
     "output_type": "stream",
     "text": [
      "darth_vader\n"
     ]
    }
   ],
   "source": [
    "credentials = pd.read_csv('../credentials/credentials.csv')\n",
    "\n",
    "database_adress = credentials['Host'].iloc[0]\n",
    "database_user = credentials['User'].iloc[0]\n",
    "database_password = credentials['Password'].iloc[0]\n",
    "database_name = credentials['Database'].iloc[0]\n",
    "database_port = credentials['Port'].iloc[0]\n",
    "\n",
    "print(database_user)"
   ]
  },
  {
   "cell_type": "code",
   "execution_count": 45,
   "metadata": {},
   "outputs": [],
   "source": [
    "Base = automap_base()\n",
    "\n",
    "# Create the middle Table movie_genres\n",
    "movie_genres = Table(\n",
    "    \"movies_genres\",\n",
    "    Base.metadata,\n",
    "    Column(\"movieId\", ForeignKey(\"movies.movieId\")),\n",
    "    Column(\"genreId\", ForeignKey(\"genres.genreId\")),\n",
    ")\n",
    "\n",
    "#Create the class Genre with it's 2 properties genre_id and name\n",
    "class Genre(Base):\n",
    "   __tablename__ = 'genres' \n",
    "   genre_id = Column('genreId', Integer, primary_key = True)\n",
    "   name = Column('genrename', String)\n",
    "\n",
    "# Create the class Movie with it's 3 properites movie_id, title and release_year.\n",
    "# Additionally connect the genres table with the movies table\n",
    "class Movie(Base):\n",
    "    __tablename__ = 'movies'\n",
    "\n",
    "    movie_id = Column('movieid', Integer, primary_key = True)\n",
    "    title = Column('title', String)\n",
    "    release_year = Column('release_year', Integer)\n",
    "\n",
    "    genres = relationship(Genre, secondary=movie_genres,\n",
    "                            backref='genres', viewonly=True)\n",
    "class Genome_Tag(Base):\n",
    "    __tablename__ = 'genometags' \n",
    "    tag_id = Column('tagId', Integer, primary_key = True)\n",
    "    tag = Column('tag', String)\n",
    "\n",
    "\n",
    "class Link(Base):\n",
    "    __tablename__ = 'links' \n",
    "    movie_id = Column('movieId', Integer, primary_key = True)\n",
    "    imdb_id = Column('imdbId', Integer)\n",
    "    tmdb_id = Column('tmdbId', Integer)\n",
    "\n",
    "class Rating(Base):\n",
    "    __tablename__ = 'ratings' \n",
    "    rating_id = Column('rating_id', Integer, primary_key = True)\n",
    "    user_id = Column('userId', Integer)\n",
    "    movie = relationship(Movie, backref='movie_id', viewonly=True)\n",
    "    rating = Column('rating', Float)\n",
    "    rating_date = Column('rating_date', Date)\n",
    "\n",
    "class Tag(Base):\n",
    "    __tablename__ = 'tags' \n",
    "    tag_id = Column('tag_id', Integer, primary_key = True)\n",
    "    user_id = Column('userId', Integer)\n",
    "    movie = relationship(Movie, backref='movieId', viewonly=True)\n",
    "    tag = Column('tag', String)\n",
    "    tag_date = Column('tag_date', Date) \n",
    "\n",
    "class Genome_Score(Base):\n",
    "    __tablename__ = 'genomescores' \n",
    "    tag_id = Column('tagId', Integer, primary_key = True)\n",
    "    movie = relationship(Movie, backref='movieId', viewonly=True)\n",
    "    relevance = Column('relevance', Float)"
   ]
  },
  {
   "cell_type": "code",
   "execution_count": 46,
   "metadata": {},
   "outputs": [
    {
     "name": "stdout",
     "output_type": "stream",
     "text": [
      "1, Toy Story (1995), 1995\n",
      "Adventure\n",
      "Animation\n",
      "Children\n",
      "Comedy\n",
      "Fantasy\n",
      "1, Action\n",
      "Toy Story (1995)\n",
      "Braveheart (1995)\n"
     ]
    }
   ],
   "source": [
    "#Build the connection with the database\n",
    "engine = create_engine(f'mysql+pymysql://{database_user}:{database_password}@{database_adress}:{database_port}/{database_name}')\n",
    "Base.prepare(autoload_with=engine)\n",
    "\n",
    "session = Session(engine)\n",
    "\n",
    "# Call the first Entry in the movies table and print out it's properties and all it's genres\n",
    "u1 = session.query(Movie).first()\n",
    "print (f'{u1.movie_id}, {u1.title}, {u1.release_year}')\n",
    "\n",
    "for genre in list(u1.genres):\n",
    "    print(genre.name)\n",
    "\n",
    "# Call the first Entry in the genre table and print out it's properites\n",
    "u2 = session.query(Genre).first()\n",
    "print(f'{u2.genre_id}, {u2.name}')\n",
    "\n",
    "u3 = session.query(Genome_Score).first()\n",
    "print(u3.movie.title)\n",
    "\n",
    "u4 = session.query(Tag).first()\n",
    "print(u4.movie.title)"
   ]
  }
 ],
 "metadata": {
  "kernelspec": {
   "display_name": "Python 3.10.6 ('dviz')",
   "language": "python",
   "name": "python3"
  },
  "language_info": {
   "codemirror_mode": {
    "name": "ipython",
    "version": 3
   },
   "file_extension": ".py",
   "mimetype": "text/x-python",
   "name": "python",
   "nbconvert_exporter": "python",
   "pygments_lexer": "ipython3",
   "version": "3.10.6"
  },
  "orig_nbformat": 4,
  "vscode": {
   "interpreter": {
    "hash": "acc9a91b6998de036ca9c194e26b210da4c2e06b7cf5d9e1b42b0f3f179806fe"
   }
  }
 },
 "nbformat": 4,
 "nbformat_minor": 2
}
