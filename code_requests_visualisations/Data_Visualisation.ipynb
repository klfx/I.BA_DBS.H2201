{
 "cells": [
  {
   "cell_type": "code",
   "execution_count": null,
   "metadata": {},
   "outputs": [],
   "source": [
    "#1. Bibliotheken importieren\n",
    "import mysql.connector as mysql\n",
    "import pandas as pd"
   ]
  },
  {
   "cell_type": "code",
   "execution_count": null,
   "metadata": {},
   "outputs": [],
   "source": [
    "\"\"\"cursor.execute(\"SHOW DATABASES\")\n",
    "\n",
    "for x in cursor:\n",
    "  print(x)\"\"\""
   ]
  },
  {
   "cell_type": "code",
   "execution_count": null,
   "metadata": {},
   "outputs": [],
   "source": [
    "credentials = pd.read_csv('credentials.csv')"
   ]
  },
  {
   "cell_type": "code",
   "execution_count": null,
   "metadata": {},
   "outputs": [],
   "source": [
    "#All the credentials are saved in an external file\n",
    "credentials = pd.read_csv('credentials.csv')\n",
    "\n",
    "database_adress = credentials['Host'].iloc[0]\n",
    "database_user = credentials['User'].iloc[0]\n",
    "database_password = credentials['Password'].iloc[0]\n",
    "database_name = credentials['Database'].iloc[0]\n",
    "\n"
   ]
  },
  {
   "cell_type": "code",
   "execution_count": null,
   "metadata": {},
   "outputs": [],
   "source": [
    "db = mysql.connect(host=database_adress, user=database_user, passwd=database_password, database=database_name)\n",
    "cursor = db.cursor()\n",
    "\n",
    "query = \"SELECT * FROM movies;\" ## Read from DB\n",
    "cursor.execute(query)\n",
    "\n",
    "all_movies = pd.DataFrame(list(cursor), columns=['id', 'title', 'year'])\n",
    "\n",
    "#for entry in cursor:\n",
    "#    print(list(entry))\n",
    "all_movies.head()"
   ]
  },
  {
   "cell_type": "code",
   "execution_count": null,
   "metadata": {},
   "outputs": [],
   "source": [
    "from sqlalchemy import create_engine\n",
    "import matplotlib.pyplot as plt"
   ]
  },
  {
   "cell_type": "code",
   "execution_count": null,
   "metadata": {},
   "outputs": [],
   "source": [
    "db_connection_str = f\"mysql+pymysql://{database_user}:{database_password}@{database_adress}/{database_name}\"\n",
    "db_connection = create_engine(db_connection_str)"
   ]
  },
  {
   "cell_type": "code",
   "execution_count": null,
   "metadata": {},
   "outputs": [],
   "source": [
    "all_movies = pd.read_sql('SELECT * FROM movies ORDER BY release_year', con=db_connection)"
   ]
  },
  {
   "cell_type": "code",
   "execution_count": null,
   "metadata": {},
   "outputs": [],
   "source": [
    "all_movies.head(400)"
   ]
  },
  {
   "cell_type": "code",
   "execution_count": null,
   "metadata": {},
   "outputs": [],
   "source": [
    "fig, ax = plt.subplots(figsize=(10,5))\n",
    "\n",
    "year = pd.DataFrame(all_movies['release_year'].drop_duplicates())\n",
    "count = all_movies.groupby(['release_year'])['movieId'].count()\n",
    "\n",
    "year_count = pd.merge(year, count, on=[\"release_year\", \"release_year\"])\n",
    "year_count.rename(columns = {'movieId':'count'}, inplace=True)\n",
    "\n",
    "year_count.drop(0, inplace=True)\n",
    "year_count.drop(year_count.index[len(year_count)-1], inplace=True)\n",
    "\n",
    "ax.bar(year_count['release_year'], year_count['count'], color ='maroon',\n",
    "      width = 0.4)\n",
    "\n",
    "ax.set_title(\"Released movies over time\")\n",
    "#ax.set_xlim(1850,2018)"
   ]
  },
  {
   "cell_type": "code",
   "execution_count": null,
   "metadata": {},
   "outputs": [],
   "source": [
    "year_count['release_year'].head()"
   ]
  },
  {
   "cell_type": "code",
   "execution_count": null,
   "metadata": {},
   "outputs": [],
   "source": [
    "all_movies.groupby(['release_year']).head()#['movieId'].count()"
   ]
  },
  {
   "cell_type": "code",
   "execution_count": null,
   "metadata": {},
   "outputs": [],
   "source": [
    "count = all_movies.groupby(['release_year'])['movieId'].count()\n",
    "\n",
    "test_fig, test_ax = plt.subplots(figsize=(10,5))\n",
    "\n",
    "count = count.drop([-1])\n",
    "count = count.drop([2018])\n",
    "\n",
    "test_ax.bar(count.index, count.values, color ='maroon')\n",
    "\n",
    "test_ax.set_title(\"Released movies over time\")"
   ]
  },
  {
   "cell_type": "code",
   "execution_count": null,
   "metadata": {},
   "outputs": [],
   "source": [
    "all_movies.groupby(['release_year']).head()"
   ]
  },
  {
   "cell_type": "code",
   "execution_count": null,
   "metadata": {},
   "outputs": [],
   "source": [
    "movies_with_genres = pd.read_sql(\"\"\"SELECT m.movieId, m.title, g.genrename FROM movies as m \n",
    "INNER JOIN movies_genres as mg ON m.movieID = mg.movieId\n",
    "INNER JOIN genres as g ON mg.genreId = g.genreId\n",
    "ORDER BY m.movieId;\"\"\", con=db_connection)"
   ]
  },
  {
   "cell_type": "code",
   "execution_count": null,
   "metadata": {},
   "outputs": [],
   "source": [
    "genres = pd.read_sql(\"\"\"SELECT * FROM genres;\"\"\", con=db_connection)"
   ]
  },
  {
   "cell_type": "code",
   "execution_count": null,
   "metadata": {},
   "outputs": [],
   "source": [
    "genres_count = movies_with_genres.groupby(['genrename'])['movieId'].count()\n",
    "\n",
    "genres_count_fig, genres_count_ax = plt.subplots(figsize=(30,15))\n",
    "#genres_count.head()\n",
    "genres_count_ax.bar(genres_count.index, genres_count.values, color ='maroon')"
   ]
  },
  {
   "cell_type": "code",
   "execution_count": null,
   "metadata": {},
   "outputs": [],
   "source": [
    "genres.count()"
   ]
  },
  {
   "cell_type": "code",
   "execution_count": null,
   "metadata": {},
   "outputs": [],
   "source": [
    "genres_df = pd.read_sql('SELECT mg.movieId,mg.genreId,g.genrename FROM movies_genres AS mg INNER JOIN genres AS g ON mg.genreId=g.genreId;', con=db_connection)"
   ]
  },
  {
   "cell_type": "code",
   "execution_count": null,
   "metadata": {},
   "outputs": [],
   "source": [
    "genres_df.groupby(['genrename'])['movieId'].count()"
   ]
  }
 ],
 "metadata": {
  "kernelspec": {
   "display_name": "Python 3.10.6 ('hslu')",
   "language": "python",
   "name": "python3"
  },
  "language_info": {
   "codemirror_mode": {
    "name": "ipython",
    "version": 3
   },
   "file_extension": ".py",
   "mimetype": "text/x-python",
   "name": "python",
   "nbconvert_exporter": "python",
   "pygments_lexer": "ipython3",
   "version": "3.10.6"
  },
  "orig_nbformat": 4,
  "vscode": {
   "interpreter": {
    "hash": "e4966d2a7585fd1cffe75d2f63d56b8e758449507e2d4de7f8c723faeaf963fb"
   }
  }
 },
 "nbformat": 4,
 "nbformat_minor": 2
}
