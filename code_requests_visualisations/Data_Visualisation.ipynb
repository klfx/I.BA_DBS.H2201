{
 "cells": [
  {
   "cell_type": "code",
<<<<<<< HEAD
   "execution_count": 58,
=======
   "execution_count": null,
>>>>>>> 71ecb01fd9c49d3f00fd8a69135f18a94e3fe968
   "metadata": {},
   "outputs": [],
   "source": [
    "#1. Bibliotheken importieren\n",
    "import mysql.connector as mysql\n",
    "import pandas as pd"
   ]
  },
  {
   "cell_type": "code",
<<<<<<< HEAD
   "execution_count": 59,
   "metadata": {},
   "outputs": [
    {
     "data": {
      "text/plain": [
       "'cursor.execute(\"SHOW DATABASES\")\\n\\nfor x in cursor:\\n  print(x)'"
      ]
     },
     "execution_count": 59,
     "metadata": {},
     "output_type": "execute_result"
    }
   ],
=======
   "execution_count": null,
   "metadata": {},
   "outputs": [],
>>>>>>> 71ecb01fd9c49d3f00fd8a69135f18a94e3fe968
   "source": [
    "\"\"\"cursor.execute(\"SHOW DATABASES\")\n",
    "\n",
    "for x in cursor:\n",
    "  print(x)\"\"\""
   ]
  },
  {
   "cell_type": "code",
<<<<<<< HEAD
   "execution_count": 60,
=======
   "execution_count": null,
>>>>>>> 71ecb01fd9c49d3f00fd8a69135f18a94e3fe968
   "metadata": {},
   "outputs": [],
   "source": [
    "credentials = pd.read_csv('credentials.csv')"
   ]
  },
  {
   "cell_type": "code",
<<<<<<< HEAD
   "execution_count": 61,
=======
   "execution_count": null,
>>>>>>> 71ecb01fd9c49d3f00fd8a69135f18a94e3fe968
   "metadata": {},
   "outputs": [],
   "source": [
    "#All the credentials are saved in an external file\n",
    "credentials = pd.read_csv('credentials.csv')\n",
    "\n",
    "database_adress = credentials['Host'].iloc[0]\n",
    "database_user = credentials['User'].iloc[0]\n",
    "database_password = credentials['Password'].iloc[0]\n",
    "database_name = credentials['Database'].iloc[0]\n",
    "\n"
   ]
  },
  {
   "cell_type": "code",
<<<<<<< HEAD
   "execution_count": 62,
   "metadata": {},
   "outputs": [
    {
     "data": {
      "text/html": [
       "<div>\n",
       "<style scoped>\n",
       "    .dataframe tbody tr th:only-of-type {\n",
       "        vertical-align: middle;\n",
       "    }\n",
       "\n",
       "    .dataframe tbody tr th {\n",
       "        vertical-align: top;\n",
       "    }\n",
       "\n",
       "    .dataframe thead th {\n",
       "        text-align: right;\n",
       "    }\n",
       "</style>\n",
       "<table border=\"1\" class=\"dataframe\">\n",
       "  <thead>\n",
       "    <tr style=\"text-align: right;\">\n",
       "      <th></th>\n",
       "      <th>id</th>\n",
       "      <th>title</th>\n",
       "      <th>year</th>\n",
       "    </tr>\n",
       "  </thead>\n",
       "  <tbody>\n",
       "    <tr>\n",
       "      <th>0</th>\n",
       "      <td>1</td>\n",
       "      <td>Toy Story (1995)</td>\n",
       "      <td>1995</td>\n",
       "    </tr>\n",
       "    <tr>\n",
       "      <th>1</th>\n",
       "      <td>2</td>\n",
       "      <td>Jumanji (1995)</td>\n",
       "      <td>1995</td>\n",
       "    </tr>\n",
       "    <tr>\n",
       "      <th>2</th>\n",
       "      <td>3</td>\n",
       "      <td>Grumpier Old Men (1995)</td>\n",
       "      <td>1995</td>\n",
       "    </tr>\n",
       "    <tr>\n",
       "      <th>3</th>\n",
       "      <td>4</td>\n",
       "      <td>Waiting to Exhale (1995)</td>\n",
       "      <td>1995</td>\n",
       "    </tr>\n",
       "    <tr>\n",
       "      <th>4</th>\n",
       "      <td>5</td>\n",
       "      <td>Father of the Bride Part II (1995)</td>\n",
       "      <td>1995</td>\n",
       "    </tr>\n",
       "  </tbody>\n",
       "</table>\n",
       "</div>"
      ],
      "text/plain": [
       "   id                               title  year\n",
       "0   1                    Toy Story (1995)  1995\n",
       "1   2                      Jumanji (1995)  1995\n",
       "2   3             Grumpier Old Men (1995)  1995\n",
       "3   4            Waiting to Exhale (1995)  1995\n",
       "4   5  Father of the Bride Part II (1995)  1995"
      ]
     },
     "execution_count": 62,
     "metadata": {},
     "output_type": "execute_result"
    }
   ],
   "source": [
    "db = mysql.connect(host=database_adress, user=database_user, passwd=database_password, database=database_name)\n",
=======
   "execution_count": null,
   "metadata": {},
   "outputs": [],
   "source": [
    "#2. DSatenbankverbindung aufbauen\n",
    "db = mysql.connect(host=\"10.177.6.142\", user=\"remote_user\", passwd=pw, database=\"popular_movies\")\n",
    "\n",
    "#3. Cursor erstellen\n",
>>>>>>> 71ecb01fd9c49d3f00fd8a69135f18a94e3fe968
    "cursor = db.cursor()\n",
    "\n",
    "query = \"SELECT * FROM movies;\" ## Read from DB\n",
    "cursor.execute(query)\n",
    "\n",
    "all_movies = pd.DataFrame(list(cursor), columns=['id', 'title', 'year'])\n",
    "\n",
    "#for entry in cursor:\n",
    "#    print(list(entry))\n",
    "all_movies.head()"
   ]
  },
  {
   "cell_type": "code",
<<<<<<< HEAD
   "execution_count": 63,
=======
   "execution_count": null,
>>>>>>> 71ecb01fd9c49d3f00fd8a69135f18a94e3fe968
   "metadata": {},
   "outputs": [],
   "source": [
    "from sqlalchemy import create_engine\n",
    "import matplotlib.pyplot as plt"
   ]
  },
  {
   "cell_type": "code",
<<<<<<< HEAD
   "execution_count": 64,
=======
   "execution_count": null,
>>>>>>> 71ecb01fd9c49d3f00fd8a69135f18a94e3fe968
   "metadata": {},
   "outputs": [],
   "source": [
    "db_connection_str = f\"mysql+pymysql://{database_user}:{database_password}@{database_adress}/{database_name}\"\n",
    "db_connection = create_engine(db_connection_str)"
   ]
  },
  {
   "cell_type": "code",
<<<<<<< HEAD
   "execution_count": 65,
=======
   "execution_count": null,
>>>>>>> 71ecb01fd9c49d3f00fd8a69135f18a94e3fe968
   "metadata": {},
   "outputs": [],
   "source": [
    "all_movies = pd.read_sql('SELECT * FROM movies ORDER BY release_year', con=db_connection)"
   ]
  },
  {
   "cell_type": "code",
<<<<<<< HEAD
   "execution_count": 66,
   "metadata": {},
   "outputs": [
    {
     "data": {
      "text/html": [
       "<div>\n",
       "<style scoped>\n",
       "    .dataframe tbody tr th:only-of-type {\n",
       "        vertical-align: middle;\n",
       "    }\n",
       "\n",
       "    .dataframe tbody tr th {\n",
       "        vertical-align: top;\n",
       "    }\n",
       "\n",
       "    .dataframe thead th {\n",
       "        text-align: right;\n",
       "    }\n",
       "</style>\n",
       "<table border=\"1\" class=\"dataframe\">\n",
       "  <thead>\n",
       "    <tr style=\"text-align: right;\">\n",
       "      <th></th>\n",
       "      <th>movieId</th>\n",
       "      <th>title</th>\n",
       "      <th>release_year</th>\n",
       "    </tr>\n",
       "  </thead>\n",
       "  <tbody>\n",
       "    <tr>\n",
       "      <th>0</th>\n",
       "      <td>183665</td>\n",
       "      <td>The Moors Murders</td>\n",
       "      <td>-1</td>\n",
       "    </tr>\n",
       "    <tr>\n",
       "      <th>1</th>\n",
       "      <td>183709</td>\n",
       "      <td>Harvest</td>\n",
       "      <td>-1</td>\n",
       "    </tr>\n",
       "    <tr>\n",
       "      <th>2</th>\n",
       "      <td>183755</td>\n",
       "      <td>Basmati Blues</td>\n",
       "      <td>-1</td>\n",
       "    </tr>\n",
       "    <tr>\n",
       "      <th>3</th>\n",
       "      <td>183837</td>\n",
       "      <td>The Favourite</td>\n",
       "      <td>-1</td>\n",
       "    </tr>\n",
       "    <tr>\n",
       "      <th>4</th>\n",
       "      <td>183855</td>\n",
       "      <td>Terminal</td>\n",
       "      <td>-1</td>\n",
       "    </tr>\n",
       "    <tr>\n",
       "      <th>...</th>\n",
       "      <td>...</td>\n",
       "      <td>...</td>\n",
       "      <td>...</td>\n",
       "    </tr>\n",
       "    <tr>\n",
       "      <th>395</th>\n",
       "      <td>187379</td>\n",
       "      <td>Colleurs d'affiches (1897)</td>\n",
       "      <td>1897</td>\n",
       "    </tr>\n",
       "    <tr>\n",
       "      <th>396</th>\n",
       "      <td>192967</td>\n",
       "      <td>Football (1897)</td>\n",
       "      <td>1897</td>\n",
       "    </tr>\n",
       "    <tr>\n",
       "      <th>397</th>\n",
       "      <td>167504</td>\n",
       "      <td>Fifth Avenue, New York (1897)</td>\n",
       "      <td>1897</td>\n",
       "    </tr>\n",
       "    <tr>\n",
       "      <th>398</th>\n",
       "      <td>167508</td>\n",
       "      <td>Mr. Edison at Work in His Chemical Laboratory ...</td>\n",
       "      <td>1897</td>\n",
       "    </tr>\n",
       "    <tr>\n",
       "      <th>399</th>\n",
       "      <td>173981</td>\n",
       "      <td>The Haunted Castle (1897)</td>\n",
       "      <td>1897</td>\n",
       "    </tr>\n",
       "  </tbody>\n",
       "</table>\n",
       "<p>400 rows × 3 columns</p>\n",
       "</div>"
      ],
      "text/plain": [
       "     movieId                                              title  release_year\n",
       "0     183665                                  The Moors Murders            -1\n",
       "1     183709                                            Harvest            -1\n",
       "2     183755                                      Basmati Blues            -1\n",
       "3     183837                                      The Favourite            -1\n",
       "4     183855                                           Terminal            -1\n",
       "..       ...                                                ...           ...\n",
       "395   187379                         Colleurs d'affiches (1897)          1897\n",
       "396   192967                                    Football (1897)          1897\n",
       "397   167504                      Fifth Avenue, New York (1897)          1897\n",
       "398   167508  Mr. Edison at Work in His Chemical Laboratory ...          1897\n",
       "399   173981                          The Haunted Castle (1897)          1897\n",
       "\n",
       "[400 rows x 3 columns]"
      ]
     },
     "execution_count": 66,
     "metadata": {},
     "output_type": "execute_result"
    }
   ],
=======
   "execution_count": null,
   "metadata": {},
   "outputs": [],
>>>>>>> 71ecb01fd9c49d3f00fd8a69135f18a94e3fe968
   "source": [
    "all_movies.head(400)"
   ]
  },
  {
   "cell_type": "code",
<<<<<<< HEAD
   "execution_count": 67,
   "metadata": {},
   "outputs": [
    {
     "data": {
      "text/plain": [
       "Text(0.5, 1.0, 'Released movies over time')"
      ]
     },
     "execution_count": 67,
     "metadata": {},
     "output_type": "execute_result"
    },
    {
     "data": {
      "image/png": "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",
      "text/plain": [
       "<Figure size 1000x500 with 1 Axes>"
      ]
     },
     "metadata": {},
     "output_type": "display_data"
    }
   ],
=======
   "execution_count": null,
   "metadata": {},
   "outputs": [],
>>>>>>> 71ecb01fd9c49d3f00fd8a69135f18a94e3fe968
   "source": [
    "fig, ax = plt.subplots(figsize=(10,5))\n",
    "\n",
    "year = pd.DataFrame(all_movies['release_year'].drop_duplicates())\n",
    "count = all_movies.groupby(['release_year'])['movieId'].count()\n",
    "\n",
    "year_count = pd.merge(year, count, on=[\"release_year\", \"release_year\"])\n",
    "year_count.rename(columns = {'movieId':'count'}, inplace=True)\n",
    "\n",
    "year_count.drop(0, inplace=True)\n",
    "year_count.drop(year_count.index[len(year_count)-1], inplace=True)\n",
    "\n",
    "ax.bar(year_count['release_year'], year_count['count'], color ='maroon',\n",
    "      width = 0.4)\n",
    "\n",
    "ax.set_title(\"Released movies over time\")\n",
    "#ax.set_xlim(1850,2018)"
   ]
  },
  {
   "cell_type": "code",
<<<<<<< HEAD
   "execution_count": 68,
   "metadata": {},
   "outputs": [
    {
     "data": {
      "text/plain": [
       "1    1874\n",
       "2    1878\n",
       "3    1883\n",
       "4    1887\n",
       "5    1888\n",
       "Name: release_year, dtype: int64"
      ]
     },
     "execution_count": 68,
     "metadata": {},
     "output_type": "execute_result"
    }
   ],
   "source": [
    "year_count['release_year'].head()"
   ]
  },
  {
   "cell_type": "code",
   "execution_count": 69,
   "metadata": {},
   "outputs": [
    {
     "data": {
      "text/html": [
       "<div>\n",
       "<style scoped>\n",
       "    .dataframe tbody tr th:only-of-type {\n",
       "        vertical-align: middle;\n",
       "    }\n",
       "\n",
       "    .dataframe tbody tr th {\n",
       "        vertical-align: top;\n",
       "    }\n",
       "\n",
       "    .dataframe thead th {\n",
       "        text-align: right;\n",
       "    }\n",
       "</style>\n",
       "<table border=\"1\" class=\"dataframe\">\n",
       "  <thead>\n",
       "    <tr style=\"text-align: right;\">\n",
       "      <th></th>\n",
       "      <th>movieId</th>\n",
       "      <th>title</th>\n",
       "      <th>release_year</th>\n",
       "    </tr>\n",
       "  </thead>\n",
       "  <tbody>\n",
       "    <tr>\n",
       "      <th>0</th>\n",
       "      <td>183665</td>\n",
       "      <td>The Moors Murders</td>\n",
       "      <td>-1</td>\n",
       "    </tr>\n",
       "    <tr>\n",
       "      <th>1</th>\n",
       "      <td>183709</td>\n",
       "      <td>Harvest</td>\n",
       "      <td>-1</td>\n",
       "    </tr>\n",
       "    <tr>\n",
       "      <th>2</th>\n",
       "      <td>183755</td>\n",
       "      <td>Basmati Blues</td>\n",
       "      <td>-1</td>\n",
       "    </tr>\n",
       "    <tr>\n",
       "      <th>3</th>\n",
       "      <td>183837</td>\n",
       "      <td>The Favourite</td>\n",
       "      <td>-1</td>\n",
       "    </tr>\n",
       "    <tr>\n",
       "      <th>4</th>\n",
       "      <td>183855</td>\n",
       "      <td>Terminal</td>\n",
       "      <td>-1</td>\n",
       "    </tr>\n",
       "    <tr>\n",
       "      <th>...</th>\n",
       "      <td>...</td>\n",
       "      <td>...</td>\n",
       "      <td>...</td>\n",
       "    </tr>\n",
       "    <tr>\n",
       "      <th>57237</th>\n",
       "      <td>183589</td>\n",
       "      <td>Fifty Shades Freed (2018)</td>\n",
       "      <td>2018</td>\n",
       "    </tr>\n",
       "    <tr>\n",
       "      <th>57238</th>\n",
       "      <td>183591</td>\n",
       "      <td>Winning Ticket (2018)</td>\n",
       "      <td>2018</td>\n",
       "    </tr>\n",
       "    <tr>\n",
       "      <th>57239</th>\n",
       "      <td>183611</td>\n",
       "      <td>Game Night (2018)</td>\n",
       "      <td>2018</td>\n",
       "    </tr>\n",
       "    <tr>\n",
       "      <th>57240</th>\n",
       "      <td>183613</td>\n",
       "      <td>Thoroughbreds (2018)</td>\n",
       "      <td>2018</td>\n",
       "    </tr>\n",
       "    <tr>\n",
       "      <th>57241</th>\n",
       "      <td>183619</td>\n",
       "      <td>Den of Thieves (2018)</td>\n",
       "      <td>2018</td>\n",
       "    </tr>\n",
       "  </tbody>\n",
       "</table>\n",
       "<p>651 rows × 3 columns</p>\n",
       "</div>"
      ],
      "text/plain": [
       "       movieId                      title  release_year\n",
       "0       183665          The Moors Murders            -1\n",
       "1       183709                    Harvest            -1\n",
       "2       183755              Basmati Blues            -1\n",
       "3       183837              The Favourite            -1\n",
       "4       183855                   Terminal            -1\n",
       "...        ...                        ...           ...\n",
       "57237   183589  Fifty Shades Freed (2018)          2018\n",
       "57238   183591      Winning Ticket (2018)          2018\n",
       "57239   183611          Game Night (2018)          2018\n",
       "57240   183613       Thoroughbreds (2018)          2018\n",
       "57241   183619      Den of Thieves (2018)          2018\n",
       "\n",
       "[651 rows x 3 columns]"
      ]
     },
     "execution_count": 69,
     "metadata": {},
     "output_type": "execute_result"
    }
   ],
=======
   "execution_count": null,
   "metadata": {},
   "outputs": [],
>>>>>>> 71ecb01fd9c49d3f00fd8a69135f18a94e3fe968
   "source": [
    "all_movies.groupby(['release_year']).head()#['movieId'].count()"
   ]
  },
  {
   "cell_type": "code",
<<<<<<< HEAD
   "execution_count": 70,
   "metadata": {},
   "outputs": [
    {
     "data": {
      "text/plain": [
       "Text(0.5, 1.0, 'Released movies over time')"
      ]
     },
     "execution_count": 70,
     "metadata": {},
     "output_type": "execute_result"
    },
    {
     "data": {
      "image/png": "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",
      "text/plain": [
       "<Figure size 1000x500 with 1 Axes>"
      ]
     },
     "metadata": {},
     "output_type": "display_data"
    }
   ],
=======
   "execution_count": null,
   "metadata": {},
   "outputs": [],
>>>>>>> 71ecb01fd9c49d3f00fd8a69135f18a94e3fe968
   "source": [
    "count = all_movies.groupby(['release_year'])['movieId'].count()\n",
    "\n",
    "test_fig, test_ax = plt.subplots(figsize=(10,5))\n",
    "\n",
    "count = count.drop([-1])\n",
    "count = count.drop([2018])\n",
    "\n",
    "test_ax.bar(count.index, count.values, color ='maroon')\n",
    "\n",
    "test_ax.set_title(\"Released movies over time\")"
   ]
  },
  {
   "cell_type": "code",
<<<<<<< HEAD
   "execution_count": 71,
   "metadata": {},
   "outputs": [
    {
     "data": {
      "text/html": [
       "<div>\n",
       "<style scoped>\n",
       "    .dataframe tbody tr th:only-of-type {\n",
       "        vertical-align: middle;\n",
       "    }\n",
       "\n",
       "    .dataframe tbody tr th {\n",
       "        vertical-align: top;\n",
       "    }\n",
       "\n",
       "    .dataframe thead th {\n",
       "        text-align: right;\n",
       "    }\n",
       "</style>\n",
       "<table border=\"1\" class=\"dataframe\">\n",
       "  <thead>\n",
       "    <tr style=\"text-align: right;\">\n",
       "      <th></th>\n",
       "      <th>movieId</th>\n",
       "      <th>title</th>\n",
       "      <th>release_year</th>\n",
       "    </tr>\n",
       "  </thead>\n",
       "  <tbody>\n",
       "    <tr>\n",
       "      <th>0</th>\n",
       "      <td>183665</td>\n",
       "      <td>The Moors Murders</td>\n",
       "      <td>-1</td>\n",
       "    </tr>\n",
       "    <tr>\n",
       "      <th>1</th>\n",
       "      <td>183709</td>\n",
       "      <td>Harvest</td>\n",
       "      <td>-1</td>\n",
       "    </tr>\n",
       "    <tr>\n",
       "      <th>2</th>\n",
       "      <td>183755</td>\n",
       "      <td>Basmati Blues</td>\n",
       "      <td>-1</td>\n",
       "    </tr>\n",
       "    <tr>\n",
       "      <th>3</th>\n",
       "      <td>183837</td>\n",
       "      <td>The Favourite</td>\n",
       "      <td>-1</td>\n",
       "    </tr>\n",
       "    <tr>\n",
       "      <th>4</th>\n",
       "      <td>183855</td>\n",
       "      <td>Terminal</td>\n",
       "      <td>-1</td>\n",
       "    </tr>\n",
       "    <tr>\n",
       "      <th>...</th>\n",
       "      <td>...</td>\n",
       "      <td>...</td>\n",
       "      <td>...</td>\n",
       "    </tr>\n",
       "    <tr>\n",
       "      <th>57237</th>\n",
       "      <td>183589</td>\n",
       "      <td>Fifty Shades Freed (2018)</td>\n",
       "      <td>2018</td>\n",
       "    </tr>\n",
       "    <tr>\n",
       "      <th>57238</th>\n",
       "      <td>183591</td>\n",
       "      <td>Winning Ticket (2018)</td>\n",
       "      <td>2018</td>\n",
       "    </tr>\n",
       "    <tr>\n",
       "      <th>57239</th>\n",
       "      <td>183611</td>\n",
       "      <td>Game Night (2018)</td>\n",
       "      <td>2018</td>\n",
       "    </tr>\n",
       "    <tr>\n",
       "      <th>57240</th>\n",
       "      <td>183613</td>\n",
       "      <td>Thoroughbreds (2018)</td>\n",
       "      <td>2018</td>\n",
       "    </tr>\n",
       "    <tr>\n",
       "      <th>57241</th>\n",
       "      <td>183619</td>\n",
       "      <td>Den of Thieves (2018)</td>\n",
       "      <td>2018</td>\n",
       "    </tr>\n",
       "  </tbody>\n",
       "</table>\n",
       "<p>651 rows × 3 columns</p>\n",
       "</div>"
      ],
      "text/plain": [
       "       movieId                      title  release_year\n",
       "0       183665          The Moors Murders            -1\n",
       "1       183709                    Harvest            -1\n",
       "2       183755              Basmati Blues            -1\n",
       "3       183837              The Favourite            -1\n",
       "4       183855                   Terminal            -1\n",
       "...        ...                        ...           ...\n",
       "57237   183589  Fifty Shades Freed (2018)          2018\n",
       "57238   183591      Winning Ticket (2018)          2018\n",
       "57239   183611          Game Night (2018)          2018\n",
       "57240   183613       Thoroughbreds (2018)          2018\n",
       "57241   183619      Den of Thieves (2018)          2018\n",
       "\n",
       "[651 rows x 3 columns]"
      ]
     },
     "execution_count": 71,
     "metadata": {},
     "output_type": "execute_result"
    }
   ],
=======
   "execution_count": null,
   "metadata": {},
   "outputs": [],
>>>>>>> 71ecb01fd9c49d3f00fd8a69135f18a94e3fe968
   "source": [
    "all_movies.groupby(['release_year']).head()"
   ]
  },
  {
   "cell_type": "code",
<<<<<<< HEAD
   "execution_count": 72,
=======
   "execution_count": null,
>>>>>>> 71ecb01fd9c49d3f00fd8a69135f18a94e3fe968
   "metadata": {},
   "outputs": [],
   "source": [
    "movies_with_genres = pd.read_sql(\"\"\"SELECT m.movieId, m.title, g.genrename FROM movies as m \n",
    "INNER JOIN movies_genres as mg ON m.movieID = mg.movieId\n",
    "INNER JOIN genres as g ON mg.genreId = g.genreId\n",
    "ORDER BY m.movieId;\"\"\", con=db_connection)"
   ]
  },
  {
   "cell_type": "code",
<<<<<<< HEAD
   "execution_count": 73,
=======
   "execution_count": null,
>>>>>>> 71ecb01fd9c49d3f00fd8a69135f18a94e3fe968
   "metadata": {},
   "outputs": [],
   "source": [
    "genres = pd.read_sql(\"\"\"SELECT * FROM genres;\"\"\", con=db_connection)"
   ]
  },
  {
   "cell_type": "code",
<<<<<<< HEAD
   "execution_count": 74,
   "metadata": {},
   "outputs": [
    {
     "data": {
      "text/plain": [
       "<BarContainer object of 19 artists>"
      ]
     },
     "execution_count": 74,
     "metadata": {},
     "output_type": "execute_result"
    },
    {
     "data": {
      "image/png": "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",
      "text/plain": [
       "<Figure size 3000x1500 with 1 Axes>"
      ]
     },
     "metadata": {},
     "output_type": "display_data"
    }
   ],
=======
   "execution_count": null,
   "metadata": {},
   "outputs": [],
>>>>>>> 71ecb01fd9c49d3f00fd8a69135f18a94e3fe968
   "source": [
    "genres_count = movies_with_genres.groupby(['genrename'])['movieId'].count()\n",
    "\n",
    "genres_count_fig, genres_count_ax = plt.subplots(figsize=(30,15))\n",
    "#genres_count.head()\n",
    "genres_count_ax.bar(genres_count.index, genres_count.values, color ='maroon')"
   ]
  },
  {
   "cell_type": "code",
<<<<<<< HEAD
   "execution_count": 75,
   "metadata": {},
   "outputs": [
    {
     "data": {
      "text/plain": [
       "genreId      19\n",
       "genrename    19\n",
       "dtype: int64"
      ]
     },
     "execution_count": 75,
     "metadata": {},
     "output_type": "execute_result"
    }
   ],
=======
   "execution_count": null,
   "metadata": {},
   "outputs": [],
>>>>>>> 71ecb01fd9c49d3f00fd8a69135f18a94e3fe968
   "source": [
    "genres.count()"
   ]
  },
  {
   "cell_type": "code",
   "execution_count": 76,
   "metadata": {},
   "outputs": [],
   "source": [
    "genres_df = pd.read_sql('SELECT mg.movieId,mg.genreId,g.genrename FROM movies_genres AS mg INNER JOIN genres AS g ON mg.genreId=g.genreId;', con=db_connection)"
   ]
  },
  {
   "cell_type": "code",
   "execution_count": 77,
   "metadata": {},
   "outputs": [
    {
     "data": {
      "text/plain": [
       "genrename\n",
       "Action          7130\n",
       "Adventure       4067\n",
       "Animation       2663\n",
       "Children        2749\n",
       "Comedy         15956\n",
       "Crime           5105\n",
       "Documentary     5118\n",
       "Drama          24144\n",
       "Fantasy         2637\n",
       "Film-Noir        364\n",
       "Horror          5555\n",
       "IMAX             197\n",
       "Musical         1113\n",
       "Mystery         2773\n",
       "Romance         7412\n",
       "Sci-Fi          3444\n",
       "Thriller        8216\n",
       "War             1820\n",
       "Western         1378\n",
       "Name: movieId, dtype: int64"
      ]
     },
     "execution_count": 77,
     "metadata": {},
     "output_type": "execute_result"
    }
   ],
   "source": [
    "genres_df.groupby(['genrename'])['movieId'].count()"
   ]
  }
 ],
 "metadata": {
  "kernelspec": {
   "display_name": "Python 3.10.6 ('hslu')",
   "language": "python",
   "name": "python3"
  },
  "language_info": {
   "codemirror_mode": {
    "name": "ipython",
    "version": 3
   },
   "file_extension": ".py",
   "mimetype": "text/x-python",
   "name": "python",
   "nbconvert_exporter": "python",
   "pygments_lexer": "ipython3",
   "version": "3.10.6"
  },
  "orig_nbformat": 4,
  "vscode": {
   "interpreter": {
    "hash": "e4966d2a7585fd1cffe75d2f63d56b8e758449507e2d4de7f8c723faeaf963fb"
   }
  }
 },
 "nbformat": 4,
 "nbformat_minor": 2
}
