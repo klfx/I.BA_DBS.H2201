{
 "cells": [
  {
   "cell_type": "code",
   "execution_count": null,
   "metadata": {},
   "outputs": [],
   "source": [
    "import mysql.connector as mysql\n",
    "import pandas as pd"
   ]
  },
  {
   "cell_type": "code",
   "execution_count": null,
   "metadata": {},
   "outputs": [],
   "source": [
    "\"\"\"cursor.execute(\"SHOW DATABASES\")\n",
    "\n",
    "for x in cursor:\n",
    "  print(x)\"\"\""
   ]
  },
  {
   "cell_type": "code",
   "execution_count": null,
   "metadata": {},
   "outputs": [],
   "source": [
    "#Save password in file 'pw' (in this directory)\n",
    "pw = pd.read_csv('pw',header=None).iloc[0,0]"
   ]
  },
  {
   "cell_type": "code",
   "execution_count": null,
   "metadata": {},
   "outputs": [],
   "source": [
    "db = mysql.connect(host=\"10.177.6.142\", user=\"remote_user\", passwd=pw, database=\"popular_movies\")\n",
    "cursor = db.cursor()\n",
    "\n",
    "query = \"SELECT * FROM movies;\" ## Read from DB\n",
    "cursor.execute(query)\n",
    "\n",
    "df = pd.DataFrame(list(cursor), columns=['id', 'title', 'year'])\n",
    "\n",
    "#for entry in cursor:\n",
    "#    print(list(entry))"
   ]
  },
  {
   "cell_type": "code",
   "execution_count": null,
   "metadata": {},
   "outputs": [],
   "source": [
    "df.head(30)"
   ]
  },
  {
   "cell_type": "code",
   "execution_count": null,
   "metadata": {},
   "outputs": [],
   "source": [
    "from sqlalchemy import create_engine\n",
    "import matplotlib.pyplot as plt"
   ]
  },
  {
   "cell_type": "code",
   "execution_count": null,
   "metadata": {},
   "outputs": [],
   "source": [
    "username='remote_user'\n",
    "password=pw\n",
    "domain='10.177.6.142'\n",
    "database='popular_movies'\n",
    "\n",
    "db_connection_str = f\"mysql+pymysql://{username}:{password}@{domain}/{database}\"\n",
    "db_connection = create_engine(db_connection_str)"
   ]
  },
  {
   "cell_type": "code",
   "execution_count": null,
   "metadata": {},
   "outputs": [],
   "source": [
    "df = pd.read_sql('SELECT * FROM movies ORDER BY release_year', con=db_connection)"
   ]
  },
  {
   "cell_type": "code",
   "execution_count": null,
   "metadata": {},
   "outputs": [],
   "source": [
    "df.head(400)"
   ]
  },
  {
   "cell_type": "code",
   "execution_count": null,
   "metadata": {},
   "outputs": [],
   "source": [
    "fig, ax = plt.subplots(figsize=(10,5))\n",
    "\n",
    "year = pd.DataFrame(df['release_year'].drop_duplicates())\n",
    "count = df.groupby(['release_year'])['movieId'].count()\n",
    "\n",
    "\n",
    "year_count = pd.merge(year, count, on=[\"release_year\", \"release_year\"])\n",
    "year_count.rename(columns = {'movieId':'count'}, inplace=True)\n",
    "\n",
    "ax.bar(year_count['release_year'], year_count['count'], color ='maroon',\n",
    "      width = 0.4)\n",
    "\n",
    "plt.title(\"Released movies over time\")\n",
    "ax.set_xlim(1850,2018)"
   ]
  }
 ],
 "metadata": {
  "kernelspec": {
   "display_name": "Python 3.8.13",
   "language": "python",
   "name": "python3"
  },
  "language_info": {
   "codemirror_mode": {
    "name": "ipython",
    "version": 3
   },
   "file_extension": ".py",
   "mimetype": "text/x-python",
   "name": "python",
   "nbconvert_exporter": "python",
   "pygments_lexer": "ipython3",
   "version": "3.8.13"
  },
  "orig_nbformat": 4,
  "vscode": {
   "interpreter": {
    "hash": "9fcb6369795da4601a02b2815c04f0a26f88f21ed72ebd92a5250b6714a1bd38"
   }
  }
 },
 "nbformat": 4,
 "nbformat_minor": 2
}
