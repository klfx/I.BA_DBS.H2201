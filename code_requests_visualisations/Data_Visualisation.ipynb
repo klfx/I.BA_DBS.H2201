{
 "cells": [
  {
   "cell_type": "code",
   "execution_count": 29,
   "metadata": {},
   "outputs": [],
   "source": [
    "#1. Bibliotheken importieren\n",
    "import mysql.connector as mysql\n",
    "import pandas as pd\n",
    "import plotly.express as px\n",
    "import plotly.graph_objects as go\n",
    "import plotly.io as pio\n",
    "from plotly import tools\n",
    "import warnings\n",
    "warnings.simplefilter(action='ignore', category=pd.errors.PerformanceWarning)"
   ]
  },
  {
   "cell_type": "code",
   "execution_count": 3,
   "metadata": {},
   "outputs": [
    {
     "data": {
      "text/plain": [
       "'cursor.execute(\"SHOW DATABASES\")\\n\\nfor x in cursor:\\n  print(x)'"
      ]
     },
     "execution_count": 3,
     "metadata": {},
     "output_type": "execute_result"
    }
   ],
   "source": [
    "\"\"\"cursor.execute(\"SHOW DATABASES\")\n",
    "\n",
    "for x in cursor:\n",
    "  print(x)\"\"\""
   ]
  },
  {
   "cell_type": "code",
   "execution_count": 4,
   "metadata": {},
   "outputs": [
    {
     "name": "stdout",
     "output_type": "stream",
     "text": [
      "darth_vader\n"
     ]
    }
   ],
   "source": [
    "#Read all the credentials from external file\n",
    "credentials = pd.read_csv('../credentials/credentials.csv')\n",
    "\n",
    "database_adress = credentials['Host'].iloc[0]\n",
    "database_user = credentials['User'].iloc[0]\n",
    "database_password = credentials['Password'].iloc[0]\n",
    "database_name = credentials['Database'].iloc[0]\n",
    "\n",
    "print(database_user)"
   ]
  },
  {
   "cell_type": "code",
   "execution_count": 5,
   "metadata": {},
   "outputs": [
    {
     "name": "stderr",
     "output_type": "stream",
     "text": [
      "C:\\Users\\kluse\\AppData\\Local\\Temp\\ipykernel_11504\\1500676116.py:12: FutureWarning:\n",
      "\n",
      "this method is deprecated in favour of `Styler.hide(axis='index')`\n",
      "\n"
     ]
    },
    {
     "data": {
      "text/html": [
       "<style type=\"text/css\">\n",
       "</style>\n",
       "<table id=\"T_45b94\">\n",
       "  <thead>\n",
       "    <tr>\n",
       "      <th id=\"T_45b94_level0_col0\" class=\"col_heading level0 col0\" >id</th>\n",
       "      <th id=\"T_45b94_level0_col1\" class=\"col_heading level0 col1\" >title</th>\n",
       "      <th id=\"T_45b94_level0_col2\" class=\"col_heading level0 col2\" >year</th>\n",
       "    </tr>\n",
       "  </thead>\n",
       "  <tbody>\n",
       "    <tr>\n",
       "      <td id=\"T_45b94_row0_col0\" class=\"data row0 col0\" >1</td>\n",
       "      <td id=\"T_45b94_row0_col1\" class=\"data row0 col1\" >Toy Story (1995)</td>\n",
       "      <td id=\"T_45b94_row0_col2\" class=\"data row0 col2\" >1995</td>\n",
       "    </tr>\n",
       "    <tr>\n",
       "      <td id=\"T_45b94_row1_col0\" class=\"data row1 col0\" >2</td>\n",
       "      <td id=\"T_45b94_row1_col1\" class=\"data row1 col1\" >Jumanji (1995)</td>\n",
       "      <td id=\"T_45b94_row1_col2\" class=\"data row1 col2\" >1995</td>\n",
       "    </tr>\n",
       "    <tr>\n",
       "      <td id=\"T_45b94_row2_col0\" class=\"data row2 col0\" >3</td>\n",
       "      <td id=\"T_45b94_row2_col1\" class=\"data row2 col1\" >Grumpier Old Men (1995)</td>\n",
       "      <td id=\"T_45b94_row2_col2\" class=\"data row2 col2\" >1995</td>\n",
       "    </tr>\n",
       "    <tr>\n",
       "      <td id=\"T_45b94_row3_col0\" class=\"data row3 col0\" >4</td>\n",
       "      <td id=\"T_45b94_row3_col1\" class=\"data row3 col1\" >Waiting to Exhale (1995)</td>\n",
       "      <td id=\"T_45b94_row3_col2\" class=\"data row3 col2\" >1995</td>\n",
       "    </tr>\n",
       "    <tr>\n",
       "      <td id=\"T_45b94_row4_col0\" class=\"data row4 col0\" >5</td>\n",
       "      <td id=\"T_45b94_row4_col1\" class=\"data row4 col1\" >Father of the Bride Part II (1995)</td>\n",
       "      <td id=\"T_45b94_row4_col2\" class=\"data row4 col2\" >1995</td>\n",
       "    </tr>\n",
       "    <tr>\n",
       "      <td id=\"T_45b94_row5_col0\" class=\"data row5 col0\" >6</td>\n",
       "      <td id=\"T_45b94_row5_col1\" class=\"data row5 col1\" >Heat (1995)</td>\n",
       "      <td id=\"T_45b94_row5_col2\" class=\"data row5 col2\" >1995</td>\n",
       "    </tr>\n",
       "    <tr>\n",
       "      <td id=\"T_45b94_row6_col0\" class=\"data row6 col0\" >7</td>\n",
       "      <td id=\"T_45b94_row6_col1\" class=\"data row6 col1\" >Sabrina (1995)</td>\n",
       "      <td id=\"T_45b94_row6_col2\" class=\"data row6 col2\" >1995</td>\n",
       "    </tr>\n",
       "    <tr>\n",
       "      <td id=\"T_45b94_row7_col0\" class=\"data row7 col0\" >8</td>\n",
       "      <td id=\"T_45b94_row7_col1\" class=\"data row7 col1\" >Tom and Huck (1995)</td>\n",
       "      <td id=\"T_45b94_row7_col2\" class=\"data row7 col2\" >1995</td>\n",
       "    </tr>\n",
       "    <tr>\n",
       "      <td id=\"T_45b94_row8_col0\" class=\"data row8 col0\" >9</td>\n",
       "      <td id=\"T_45b94_row8_col1\" class=\"data row8 col1\" >Sudden Death (1995)</td>\n",
       "      <td id=\"T_45b94_row8_col2\" class=\"data row8 col2\" >1995</td>\n",
       "    </tr>\n",
       "    <tr>\n",
       "      <td id=\"T_45b94_row9_col0\" class=\"data row9 col0\" >10</td>\n",
       "      <td id=\"T_45b94_row9_col1\" class=\"data row9 col1\" >GoldenEye (1995)</td>\n",
       "      <td id=\"T_45b94_row9_col2\" class=\"data row9 col2\" >1995</td>\n",
       "    </tr>\n",
       "  </tbody>\n",
       "</table>\n"
      ],
      "text/plain": [
       "<pandas.io.formats.style.Styler at 0x206af1d43d0>"
      ]
     },
     "execution_count": 5,
     "metadata": {},
     "output_type": "execute_result"
    }
   ],
   "source": [
    "#Connect to Database\n",
    "db = mysql.connect(host=database_adress, user=database_user, passwd=database_password, database=database_name)\n",
    "cursor = db.cursor()\n",
    "\n",
    "#Form and execute query\n",
    "query = \"SELECT * FROM movies;\" ## Read from DB\n",
    "cursor.execute(query)\n",
    "\n",
    "#Load query in Dataframe and print it out\n",
    "all_movies = pd.DataFrame(list(cursor), columns=['id', 'title', 'year'])\n",
    "\n",
    "all_movies.iloc[0:10].style.hide_index()\n"
   ]
  },
  {
   "cell_type": "code",
   "execution_count": 6,
   "metadata": {},
   "outputs": [],
   "source": [
    "from sqlalchemy import create_engine\n",
    "import matplotlib.pyplot as plt"
   ]
  },
  {
   "cell_type": "code",
   "execution_count": 7,
   "metadata": {},
   "outputs": [],
   "source": [
    "db_connection_str = f\"mysql+pymysql://{database_user}:{database_password}@{database_adress}/{database_name}\"\n",
    "db_connection = create_engine(db_connection_str)"
   ]
  },
  {
   "cell_type": "code",
   "execution_count": 8,
   "metadata": {},
   "outputs": [],
   "source": [
    "all_movies = pd.read_sql('SELECT * FROM movies ORDER BY release_year', con=db_connection)"
   ]
  },
  {
   "cell_type": "code",
   "execution_count": 9,
   "metadata": {},
   "outputs": [
    {
     "data": {
      "text/html": [
       "<div>\n",
       "<style scoped>\n",
       "    .dataframe tbody tr th:only-of-type {\n",
       "        vertical-align: middle;\n",
       "    }\n",
       "\n",
       "    .dataframe tbody tr th {\n",
       "        vertical-align: top;\n",
       "    }\n",
       "\n",
       "    .dataframe thead th {\n",
       "        text-align: right;\n",
       "    }\n",
       "</style>\n",
       "<table border=\"1\" class=\"dataframe\">\n",
       "  <thead>\n",
       "    <tr style=\"text-align: right;\">\n",
       "      <th></th>\n",
       "      <th>movieId</th>\n",
       "      <th>title</th>\n",
       "      <th>release_year</th>\n",
       "    </tr>\n",
       "  </thead>\n",
       "  <tbody>\n",
       "    <tr>\n",
       "      <th>0</th>\n",
       "      <td>183665</td>\n",
       "      <td>The Moors Murders</td>\n",
       "      <td>-1</td>\n",
       "    </tr>\n",
       "    <tr>\n",
       "      <th>1</th>\n",
       "      <td>183709</td>\n",
       "      <td>Harvest</td>\n",
       "      <td>-1</td>\n",
       "    </tr>\n",
       "    <tr>\n",
       "      <th>2</th>\n",
       "      <td>183755</td>\n",
       "      <td>Basmati Blues</td>\n",
       "      <td>-1</td>\n",
       "    </tr>\n",
       "    <tr>\n",
       "      <th>3</th>\n",
       "      <td>183837</td>\n",
       "      <td>The Favourite</td>\n",
       "      <td>-1</td>\n",
       "    </tr>\n",
       "    <tr>\n",
       "      <th>4</th>\n",
       "      <td>183855</td>\n",
       "      <td>Terminal</td>\n",
       "      <td>-1</td>\n",
       "    </tr>\n",
       "    <tr>\n",
       "      <th>...</th>\n",
       "      <td>...</td>\n",
       "      <td>...</td>\n",
       "      <td>...</td>\n",
       "    </tr>\n",
       "    <tr>\n",
       "      <th>395</th>\n",
       "      <td>187379</td>\n",
       "      <td>Colleurs d'affiches (1897)</td>\n",
       "      <td>1897</td>\n",
       "    </tr>\n",
       "    <tr>\n",
       "      <th>396</th>\n",
       "      <td>192967</td>\n",
       "      <td>Football (1897)</td>\n",
       "      <td>1897</td>\n",
       "    </tr>\n",
       "    <tr>\n",
       "      <th>397</th>\n",
       "      <td>167504</td>\n",
       "      <td>Fifth Avenue, New York (1897)</td>\n",
       "      <td>1897</td>\n",
       "    </tr>\n",
       "    <tr>\n",
       "      <th>398</th>\n",
       "      <td>167508</td>\n",
       "      <td>Mr. Edison at Work in His Chemical Laboratory ...</td>\n",
       "      <td>1897</td>\n",
       "    </tr>\n",
       "    <tr>\n",
       "      <th>399</th>\n",
       "      <td>173981</td>\n",
       "      <td>The Haunted Castle (1897)</td>\n",
       "      <td>1897</td>\n",
       "    </tr>\n",
       "  </tbody>\n",
       "</table>\n",
       "<p>400 rows × 3 columns</p>\n",
       "</div>"
      ],
      "text/plain": [
       "     movieId                                              title  release_year\n",
       "0     183665                                  The Moors Murders            -1\n",
       "1     183709                                            Harvest            -1\n",
       "2     183755                                      Basmati Blues            -1\n",
       "3     183837                                      The Favourite            -1\n",
       "4     183855                                           Terminal            -1\n",
       "..       ...                                                ...           ...\n",
       "395   187379                         Colleurs d'affiches (1897)          1897\n",
       "396   192967                                    Football (1897)          1897\n",
       "397   167504                      Fifth Avenue, New York (1897)          1897\n",
       "398   167508  Mr. Edison at Work in His Chemical Laboratory ...          1897\n",
       "399   173981                          The Haunted Castle (1897)          1897\n",
       "\n",
       "[400 rows x 3 columns]"
      ]
     },
     "execution_count": 9,
     "metadata": {},
     "output_type": "execute_result"
    }
   ],
   "source": [
    "all_movies.head(400)"
   ]
  },
  {
   "cell_type": "code",
   "execution_count": 10,
   "metadata": {},
   "outputs": [
    {
     "data": {
      "text/plain": [
       "Text(0.5, 1.0, 'Released movies over time')"
      ]
     },
     "execution_count": 10,
     "metadata": {},
     "output_type": "execute_result"
    },
    {
     "data": {
      "image/png": "[encoded data removed]",
      "text/plain": [
       "<Figure size 1000x500 with 1 Axes>"
      ]
     },
     "metadata": {},
     "output_type": "display_data"
    }
   ],
   "source": [
    "fig, ax = plt.subplots(figsize=(10,5))\n",
    "\n",
    "year = pd.DataFrame(all_movies['release_year'].drop_duplicates())\n",
    "count = all_movies.groupby(['release_year'])['movieId'].count()\n",
    "\n",
    "year_count = pd.merge(year, count, on=[\"release_year\", \"release_year\"])\n",
    "year_count.rename(columns = {'movieId':'count'}, inplace=True)\n",
    "\n",
    "year_count.drop(0, inplace=True)\n",
    "year_count.drop(year_count.index[len(year_count)-1], inplace=True)\n",
    "\n",
    "ax.bar(year_count['release_year'], year_count['count'], color ='maroon',\n",
    "      width = 0.4)\n",
    "\n",
    "ax.set_title(\"Released movies over time\")\n",
    "#ax.set_xlim(1850,2018)"
   ]
  },
  {
   "cell_type": "code",
   "execution_count": 11,
   "metadata": {},
   "outputs": [
    {
     "data": {
      "text/plain": [
       "1    1874\n",
       "2    1878\n",
       "3    1883\n",
       "4    1887\n",
       "5    1888\n",
       "Name: release_year, dtype: int64"
      ]
     },
     "execution_count": 11,
     "metadata": {},
     "output_type": "execute_result"
    }
   ],
   "source": [
    "year_count['release_year'].head()"
   ]
  },
  {
   "cell_type": "code",
   "execution_count": 12,
   "metadata": {},
   "outputs": [
    {
     "data": {
      "text/html": [
       "<div>\n",
       "<style scoped>\n",
       "    .dataframe tbody tr th:only-of-type {\n",
       "        vertical-align: middle;\n",
       "    }\n",
       "\n",
       "    .dataframe tbody tr th {\n",
       "        vertical-align: top;\n",
       "    }\n",
       "\n",
       "    .dataframe thead th {\n",
       "        text-align: right;\n",
       "    }\n",
       "</style>\n",
       "<table border=\"1\" class=\"dataframe\">\n",
       "  <thead>\n",
       "    <tr style=\"text-align: right;\">\n",
       "      <th></th>\n",
       "      <th>movieId</th>\n",
       "      <th>title</th>\n",
       "      <th>release_year</th>\n",
       "    </tr>\n",
       "  </thead>\n",
       "  <tbody>\n",
       "    <tr>\n",
       "      <th>0</th>\n",
       "      <td>183665</td>\n",
       "      <td>The Moors Murders</td>\n",
       "      <td>-1</td>\n",
       "    </tr>\n",
       "    <tr>\n",
       "      <th>1</th>\n",
       "      <td>183709</td>\n",
       "      <td>Harvest</td>\n",
       "      <td>-1</td>\n",
       "    </tr>\n",
       "    <tr>\n",
       "      <th>2</th>\n",
       "      <td>183755</td>\n",
       "      <td>Basmati Blues</td>\n",
       "      <td>-1</td>\n",
       "    </tr>\n",
       "    <tr>\n",
       "      <th>3</th>\n",
       "      <td>183837</td>\n",
       "      <td>The Favourite</td>\n",
       "      <td>-1</td>\n",
       "    </tr>\n",
       "    <tr>\n",
       "      <th>4</th>\n",
       "      <td>183855</td>\n",
       "      <td>Terminal</td>\n",
       "      <td>-1</td>\n",
       "    </tr>\n",
       "    <tr>\n",
       "      <th>...</th>\n",
       "      <td>...</td>\n",
       "      <td>...</td>\n",
       "      <td>...</td>\n",
       "    </tr>\n",
       "    <tr>\n",
       "      <th>57237</th>\n",
       "      <td>183589</td>\n",
       "      <td>Fifty Shades Freed (2018)</td>\n",
       "      <td>2018</td>\n",
       "    </tr>\n",
       "    <tr>\n",
       "      <th>57238</th>\n",
       "      <td>183591</td>\n",
       "      <td>Winning Ticket (2018)</td>\n",
       "      <td>2018</td>\n",
       "    </tr>\n",
       "    <tr>\n",
       "      <th>57239</th>\n",
       "      <td>183611</td>\n",
       "      <td>Game Night (2018)</td>\n",
       "      <td>2018</td>\n",
       "    </tr>\n",
       "    <tr>\n",
       "      <th>57240</th>\n",
       "      <td>183613</td>\n",
       "      <td>Thoroughbreds (2018)</td>\n",
       "      <td>2018</td>\n",
       "    </tr>\n",
       "    <tr>\n",
       "      <th>57241</th>\n",
       "      <td>183619</td>\n",
       "      <td>Den of Thieves (2018)</td>\n",
       "      <td>2018</td>\n",
       "    </tr>\n",
       "  </tbody>\n",
       "</table>\n",
       "<p>651 rows × 3 columns</p>\n",
       "</div>"
      ],
      "text/plain": [
       "       movieId                      title  release_year\n",
       "0       183665          The Moors Murders            -1\n",
       "1       183709                    Harvest            -1\n",
       "2       183755              Basmati Blues            -1\n",
       "3       183837              The Favourite            -1\n",
       "4       183855                   Terminal            -1\n",
       "...        ...                        ...           ...\n",
       "57237   183589  Fifty Shades Freed (2018)          2018\n",
       "57238   183591      Winning Ticket (2018)          2018\n",
       "57239   183611          Game Night (2018)          2018\n",
       "57240   183613       Thoroughbreds (2018)          2018\n",
       "57241   183619      Den of Thieves (2018)          2018\n",
       "\n",
       "[651 rows x 3 columns]"
      ]
     },
     "execution_count": 12,
     "metadata": {},
     "output_type": "execute_result"
    }
   ],
   "source": [
    "all_movies.groupby(['release_year']).head()#['movieId'].count()"
   ]
  },
  {
   "cell_type": "code",
   "execution_count": 13,
   "metadata": {},
   "outputs": [
    {
     "data": {
      "text/plain": [
       "Text(0.5, 1.0, 'Released movies over time')"
      ]
     },
     "execution_count": 13,
     "metadata": {},
     "output_type": "execute_result"
    },
    {
     "data": {
      "image/png": "[encoded data removed]",
      "text/plain": [
       "<Figure size 1000x500 with 1 Axes>"
      ]
     },
     "metadata": {},
     "output_type": "display_data"
    }
   ],
   "source": [
    "count = all_movies.groupby(['release_year'])['movieId'].count()\n",
    "\n",
    "test_fig, test_ax = plt.subplots(figsize=(10,5))\n",
    "\n",
    "count = count.drop([-1])\n",
    "count = count.drop([2018])\n",
    "\n",
    "test_ax.bar(count.index, count.values, color ='maroon')\n",
    "\n",
    "test_ax.set_title(\"Released movies over time\")"
   ]
  },
  {
   "cell_type": "code",
   "execution_count": 14,
   "metadata": {},
   "outputs": [
    {
     "data": {
      "text/html": [
       "<div>\n",
       "<style scoped>\n",
       "    .dataframe tbody tr th:only-of-type {\n",
       "        vertical-align: middle;\n",
       "    }\n",
       "\n",
       "    .dataframe tbody tr th {\n",
       "        vertical-align: top;\n",
       "    }\n",
       "\n",
       "    .dataframe thead th {\n",
       "        text-align: right;\n",
       "    }\n",
       "</style>\n",
       "<table border=\"1\" class=\"dataframe\">\n",
       "  <thead>\n",
       "    <tr style=\"text-align: right;\">\n",
       "      <th></th>\n",
       "      <th>movieId</th>\n",
       "      <th>title</th>\n",
       "      <th>release_year</th>\n",
       "    </tr>\n",
       "  </thead>\n",
       "  <tbody>\n",
       "    <tr>\n",
       "      <th>0</th>\n",
       "      <td>183665</td>\n",
       "      <td>The Moors Murders</td>\n",
       "      <td>-1</td>\n",
       "    </tr>\n",
       "    <tr>\n",
       "      <th>1</th>\n",
       "      <td>183709</td>\n",
       "      <td>Harvest</td>\n",
       "      <td>-1</td>\n",
       "    </tr>\n",
       "    <tr>\n",
       "      <th>2</th>\n",
       "      <td>183755</td>\n",
       "      <td>Basmati Blues</td>\n",
       "      <td>-1</td>\n",
       "    </tr>\n",
       "    <tr>\n",
       "      <th>3</th>\n",
       "      <td>183837</td>\n",
       "      <td>The Favourite</td>\n",
       "      <td>-1</td>\n",
       "    </tr>\n",
       "    <tr>\n",
       "      <th>4</th>\n",
       "      <td>183855</td>\n",
       "      <td>Terminal</td>\n",
       "      <td>-1</td>\n",
       "    </tr>\n",
       "    <tr>\n",
       "      <th>...</th>\n",
       "      <td>...</td>\n",
       "      <td>...</td>\n",
       "      <td>...</td>\n",
       "    </tr>\n",
       "    <tr>\n",
       "      <th>57237</th>\n",
       "      <td>183589</td>\n",
       "      <td>Fifty Shades Freed (2018)</td>\n",
       "      <td>2018</td>\n",
       "    </tr>\n",
       "    <tr>\n",
       "      <th>57238</th>\n",
       "      <td>183591</td>\n",
       "      <td>Winning Ticket (2018)</td>\n",
       "      <td>2018</td>\n",
       "    </tr>\n",
       "    <tr>\n",
       "      <th>57239</th>\n",
       "      <td>183611</td>\n",
       "      <td>Game Night (2018)</td>\n",
       "      <td>2018</td>\n",
       "    </tr>\n",
       "    <tr>\n",
       "      <th>57240</th>\n",
       "      <td>183613</td>\n",
       "      <td>Thoroughbreds (2018)</td>\n",
       "      <td>2018</td>\n",
       "    </tr>\n",
       "    <tr>\n",
       "      <th>57241</th>\n",
       "      <td>183619</td>\n",
       "      <td>Den of Thieves (2018)</td>\n",
       "      <td>2018</td>\n",
       "    </tr>\n",
       "  </tbody>\n",
       "</table>\n",
       "<p>651 rows × 3 columns</p>\n",
       "</div>"
      ],
      "text/plain": [
       "       movieId                      title  release_year\n",
       "0       183665          The Moors Murders            -1\n",
       "1       183709                    Harvest            -1\n",
       "2       183755              Basmati Blues            -1\n",
       "3       183837              The Favourite            -1\n",
       "4       183855                   Terminal            -1\n",
       "...        ...                        ...           ...\n",
       "57237   183589  Fifty Shades Freed (2018)          2018\n",
       "57238   183591      Winning Ticket (2018)          2018\n",
       "57239   183611          Game Night (2018)          2018\n",
       "57240   183613       Thoroughbreds (2018)          2018\n",
       "57241   183619      Den of Thieves (2018)          2018\n",
       "\n",
       "[651 rows x 3 columns]"
      ]
     },
     "execution_count": 14,
     "metadata": {},
     "output_type": "execute_result"
    }
   ],
   "source": [
    "all_movies.groupby(['release_year']).head()"
   ]
  },
  {
   "cell_type": "code",
   "execution_count": 15,
   "metadata": {},
   "outputs": [],
   "source": [
    "movies_with_genres = pd.read_sql(\"\"\"SELECT m.movieId, m.title, g.genrename FROM movies as m \n",
    "INNER JOIN movies_genres as mg ON m.movieID = mg.movieId\n",
    "INNER JOIN genres as g ON mg.genreId = g.genreId\n",
    "ORDER BY m.movieId;\"\"\", con=db_connection)"
   ]
  },
  {
   "cell_type": "code",
   "execution_count": 16,
   "metadata": {},
   "outputs": [],
   "source": [
    "genres = pd.read_sql(\"\"\"SELECT * FROM genres;\"\"\", con=db_connection)"
   ]
  },
  {
   "cell_type": "code",
   "execution_count": 17,
   "metadata": {},
   "outputs": [
    {
     "data": {
      "text/plain": [
       "<BarContainer object of 19 artists>"
      ]
     },
     "execution_count": 17,
     "metadata": {},
     "output_type": "execute_result"
    },
    {
     "data": {
      "image/png": "[encoded data removed]",
      "text/plain": [
       "<Figure size 3000x1500 with 1 Axes>"
      ]
     },
     "metadata": {},
     "output_type": "display_data"
    }
   ],
   "source": [
    "genres_count = movies_with_genres.groupby(['genrename'])['movieId'].count()\n",
    "\n",
    "genres_count_fig, genres_count_ax = plt.subplots(figsize=(30,15))\n",
    "#genres_count.head()\n",
    "genres_count_ax.bar(genres_count.index, genres_count.values, color ='maroon')"
   ]
  },
  {
   "cell_type": "code",
   "execution_count": 18,
   "metadata": {},
   "outputs": [
    {
     "data": {
      "text/plain": [
       "genreId      19\n",
       "genrename    19\n",
       "dtype: int64"
      ]
     },
     "execution_count": 18,
     "metadata": {},
     "output_type": "execute_result"
    }
   ],
   "source": [
    "genres.count()"
   ]
  },
  {
   "cell_type": "code",
   "execution_count": 19,
   "metadata": {},
   "outputs": [],
   "source": [
    "genres_df = pd.read_sql('SELECT mg.movieId,mg.genreId,g.genrename FROM movies_genres AS mg INNER JOIN genres AS g ON mg.genreId=g.genreId;', con=db_connection)"
   ]
  },
  {
   "cell_type": "code",
   "execution_count": 20,
   "metadata": {},
   "outputs": [
    {
     "data": {
      "text/plain": [
       "genrename\n",
       "Action          7130\n",
       "Adventure       4067\n",
       "Animation       2663\n",
       "Children        2749\n",
       "Comedy         15956\n",
       "Crime           5105\n",
       "Documentary     5118\n",
       "Drama          24144\n",
       "Fantasy         2637\n",
       "Film-Noir        364\n",
       "Horror          5555\n",
       "IMAX             197\n",
       "Musical         1113\n",
       "Mystery         2773\n",
       "Romance         7412\n",
       "Sci-Fi          3444\n",
       "Thriller        8216\n",
       "War             1820\n",
       "Western         1378\n",
       "Name: movieId, dtype: int64"
      ]
     },
     "execution_count": 20,
     "metadata": {},
     "output_type": "execute_result"
    }
   ],
   "source": [
    "genres_df.groupby(['genrename'])['movieId'].count()"
   ]
  },
  {
   "attachments": {},
   "cell_type": "markdown",
   "metadata": {},
   "source": [
    "## (1) Released movies over time (in Plotly)"
   ]
  },
  {
   "cell_type": "code",
   "execution_count": 21,
   "metadata": {},
   "outputs": [],
   "source": [
    "all_movies = pd.read_sql('SELECT * FROM movies ORDER BY release_year', con=db_connection)"
   ]
  },
  {
   "cell_type": "code",
   "execution_count": 22,
   "metadata": {},
   "outputs": [
    {
     "name": "stdout",
     "output_type": "stream",
     "text": [
      "Movies without year: 323 or 0.56%\n"
     ]
    },
    {
     "data": {
      "application/vnd.plotly.v1+json": {
       "config": {
        "plotlyServerURL": "https://plot.ly"
       },
       "data": [
        {
         "alignmentgroup": "True",
         "hovertemplate": "Year of release=%{x}<br>Amount of movies=%{y}<extra></extra>",
         "legendgroup": "",
         "marker": {
          "color": "maroon",
          "pattern": {
           "shape": ""
          }
         },
         "name": "",
         "offsetgroup": "",
         "orientation": "v",
         "showlegend": false,
         "textposition": "auto",
         "type": "bar",
         "x": [
          1874,
          1878,
          1883,
          1887,
          1888,
          1890,
          1891,
          1892,
          1893,
          1894,
          1895,
          1896,
          1897,
          1898,
          1899,
          1900,
          1901,
          1902,
          1903,
          1904,
          1905,
          1906,
          1907,
          1908,
          1909,
          1910,
          1911,
          1912,
          1913,
          1914,
          1915,
          1916,
          1917,
          1918,
          1919,
          1920,
          1921,
          1922,
          1923,
          1924,
          1925,
          1926,
          1927,
          1928,
          1929,
          1930,
          1931,
          1932,
          1933,
          1934,
          1935,
          1936,
          1937,
          1938,
          1939,
          1940,
          1941,
          1942,
          1943,
          1944,
          1945,
          1946,
          1947,
          1948,
          1949,
          1950,
          1951,
          1952,
          1953,
          1954,
          1955,
          1956,
          1957,
          1958,
          1959,
          1960,
          1961,
          1962,
          1963,
          1964,
          1965,
          1966,
          1967,
          1968,
          1969,
          1970,
          1971,
          1972,
          1973,
          1974,
          1975,
          1976,
          1977,
          1978,
          1979,
          1980,
          1981,
          1982,
          1983,
          1984,
          1985,
          1986,
          1987,
          1988,
          1989,
          1990,
          1991,
          1992,
          1993,
          1994,
          1995,
          1996,
          1997,
          1998,
          1999,
          2000,
          2001,
          2002,
          2003,
          2004,
          2005,
          2006,
          2007,
          2008,
          2009,
          2010,
          2011,
          2012,
          2013,
          2014,
          2015,
          2016,
          2017
         ],
         "xaxis": "x",
         "y": [
          1,
          1,
          1,
          1,
          4,
          5,
          6,
          3,
          1,
          22,
          8,
          19,
          11,
          13,
          6,
          17,
          13,
          4,
          23,
          8,
          8,
          15,
          15,
          15,
          16,
          12,
          10,
          20,
          14,
          40,
          29,
          34,
          24,
          18,
          29,
          30,
          40,
          43,
          28,
          42,
          47,
          58,
          55,
          70,
          104,
          123,
          156,
          196,
          199,
          198,
          211,
          225,
          227,
          199,
          209,
          212,
          220,
          239,
          208,
          199,
          197,
          192,
          216,
          218,
          245,
          261,
          252,
          274,
          295,
          267,
          298,
          277,
          321,
          286,
          293,
          263,
          273,
          279,
          296,
          347,
          340,
          378,
          367,
          442,
          414,
          469,
          506,
          528,
          488,
          490,
          453,
          468,
          446,
          429,
          473,
          457,
          446,
          440,
          436,
          433,
          479,
          475,
          560,
          578,
          557,
          529,
          523,
          558,
          567,
          655,
          697,
          714,
          792,
          812,
          814,
          930,
          966,
          1020,
          1025,
          1158,
          1248,
          1458,
          1502,
          1651,
          1823,
          1742,
          1897,
          2019,
          2188,
          2297,
          2312,
          2219,
          1892
         ],
         "yaxis": "y"
        }
       ],
       "layout": {
        "barmode": "relative",
        "legend": {
         "tracegroupgap": 0
        },
        "template": {
         "data": {
          "bar": [
           {
            "error_x": {
             "color": "#2a3f5f"
            },
            "error_y": {
             "color": "#2a3f5f"
            },
            "marker": {
             "line": {
              "color": "#E5ECF6",
              "width": 0.5
             },
             "pattern": {
              "fillmode": "overlay",
              "size": 10,
              "solidity": 0.2
             }
            },
            "type": "bar"
           }
          ],
          "barpolar": [
           {
            "marker": {
             "line": {
              "color": "#E5ECF6",
              "width": 0.5
             },
             "pattern": {
              "fillmode": "overlay",
              "size": 10,
              "solidity": 0.2
             }
            },
            "type": "barpolar"
           }
          ],
          "carpet": [
           {
            "aaxis": {
             "endlinecolor": "#2a3f5f",
             "gridcolor": "white",
             "linecolor": "white",
             "minorgridcolor": "white",
             "startlinecolor": "#2a3f5f"
            },
            "baxis": {
             "endlinecolor": "#2a3f5f",
             "gridcolor": "white",
             "linecolor": "white",
             "minorgridcolor": "white",
             "startlinecolor": "#2a3f5f"
            },
            "type": "carpet"
           }
          ],
          "choropleth": [
           {
            "colorbar": {
             "outlinewidth": 0,
             "ticks": ""
            },
            "type": "choropleth"
           }
          ],
          "contour": [
           {
            "colorbar": {
             "outlinewidth": 0,
             "ticks": ""
            },
            "colorscale": [
             [
              0,
              "#0d0887"
             ],
             [
              0.1111111111111111,
              "#46039f"
             ],
             [
              0.2222222222222222,
              "#7201a8"
             ],
             [
              0.3333333333333333,
              "#9c179e"
             ],
             [
              0.4444444444444444,
              "#bd3786"
             ],
             [
              0.5555555555555556,
              "#d8576b"
             ],
             [
              0.6666666666666666,
              "#ed7953"
             ],
             [
              0.7777777777777778,
              "#fb9f3a"
             ],
             [
              0.8888888888888888,
              "#fdca26"
             ],
             [
              1,
              "#f0f921"
             ]
            ],
            "type": "contour"
           }
          ],
          "contourcarpet": [
           {
            "colorbar": {
             "outlinewidth": 0,
             "ticks": ""
            },
            "type": "contourcarpet"
           }
          ],
          "heatmap": [
           {
            "colorbar": {
             "outlinewidth": 0,
             "ticks": ""
            },
            "colorscale": [
             [
              0,
              "#0d0887"
             ],
             [
              0.1111111111111111,
              "#46039f"
             ],
             [
              0.2222222222222222,
              "#7201a8"
             ],
             [
              0.3333333333333333,
              "#9c179e"
             ],
             [
              0.4444444444444444,
              "#bd3786"
             ],
             [
              0.5555555555555556,
              "#d8576b"
             ],
             [
              0.6666666666666666,
              "#ed7953"
             ],
             [
              0.7777777777777778,
              "#fb9f3a"
             ],
             [
              0.8888888888888888,
              "#fdca26"
             ],
             [
              1,
              "#f0f921"
             ]
            ],
            "type": "heatmap"
           }
          ],
          "heatmapgl": [
           {
            "colorbar": {
             "outlinewidth": 0,
             "ticks": ""
            },
            "colorscale": [
             [
              0,
              "#0d0887"
             ],
             [
              0.1111111111111111,
              "#46039f"
             ],
             [
              0.2222222222222222,
              "#7201a8"
             ],
             [
              0.3333333333333333,
              "#9c179e"
             ],
             [
              0.4444444444444444,
              "#bd3786"
             ],
             [
              0.5555555555555556,
              "#d8576b"
             ],
             [
              0.6666666666666666,
              "#ed7953"
             ],
             [
              0.7777777777777778,
              "#fb9f3a"
             ],
             [
              0.8888888888888888,
              "#fdca26"
             ],
             [
              1,
              "#f0f921"
             ]
            ],
            "type": "heatmapgl"
           }
          ],
          "histogram": [
           {
            "marker": {
             "pattern": {
              "fillmode": "overlay",
              "size": 10,
              "solidity": 0.2
             }
            },
            "type": "histogram"
           }
          ],
          "histogram2d": [
           {
            "colorbar": {
             "outlinewidth": 0,
             "ticks": ""
            },
            "colorscale": [
             [
              0,
              "#0d0887"
             ],
             [
              0.1111111111111111,
              "#46039f"
             ],
             [
              0.2222222222222222,
              "#7201a8"
             ],
             [
              0.3333333333333333,
              "#9c179e"
             ],
             [
              0.4444444444444444,
              "#bd3786"
             ],
             [
              0.5555555555555556,
              "#d8576b"
             ],
             [
              0.6666666666666666,
              "#ed7953"
             ],
             [
              0.7777777777777778,
              "#fb9f3a"
             ],
             [
              0.8888888888888888,
              "#fdca26"
             ],
             [
              1,
              "#f0f921"
             ]
            ],
            "type": "histogram2d"
           }
          ],
          "histogram2dcontour": [
           {
            "colorbar": {
             "outlinewidth": 0,
             "ticks": ""
            },
            "colorscale": [
             [
              0,
              "#0d0887"
             ],
             [
              0.1111111111111111,
              "#46039f"
             ],
             [
              0.2222222222222222,
              "#7201a8"
             ],
             [
              0.3333333333333333,
              "#9c179e"
             ],
             [
              0.4444444444444444,
              "#bd3786"
             ],
             [
              0.5555555555555556,
              "#d8576b"
             ],
             [
              0.6666666666666666,
              "#ed7953"
             ],
             [
              0.7777777777777778,
              "#fb9f3a"
             ],
             [
              0.8888888888888888,
              "#fdca26"
             ],
             [
              1,
              "#f0f921"
             ]
            ],
            "type": "histogram2dcontour"
           }
          ],
          "mesh3d": [
           {
            "colorbar": {
             "outlinewidth": 0,
             "ticks": ""
            },
            "type": "mesh3d"
           }
          ],
          "parcoords": [
           {
            "line": {
             "colorbar": {
              "outlinewidth": 0,
              "ticks": ""
             }
            },
            "type": "parcoords"
           }
          ],
          "pie": [
           {
            "automargin": true,
            "type": "pie"
           }
          ],
          "scatter": [
           {
            "fillpattern": {
             "fillmode": "overlay",
             "size": 10,
             "solidity": 0.2
            },
            "type": "scatter"
           }
          ],
          "scatter3d": [
           {
            "line": {
             "colorbar": {
              "outlinewidth": 0,
              "ticks": ""
             }
            },
            "marker": {
             "colorbar": {
              "outlinewidth": 0,
              "ticks": ""
             }
            },
            "type": "scatter3d"
           }
          ],
          "scattercarpet": [
           {
            "marker": {
             "colorbar": {
              "outlinewidth": 0,
              "ticks": ""
             }
            },
            "type": "scattercarpet"
           }
          ],
          "scattergeo": [
           {
            "marker": {
             "colorbar": {
              "outlinewidth": 0,
              "ticks": ""
             }
            },
            "type": "scattergeo"
           }
          ],
          "scattergl": [
           {
            "marker": {
             "colorbar": {
              "outlinewidth": 0,
              "ticks": ""
             }
            },
            "type": "scattergl"
           }
          ],
          "scattermapbox": [
           {
            "marker": {
             "colorbar": {
              "outlinewidth": 0,
              "ticks": ""
             }
            },
            "type": "scattermapbox"
           }
          ],
          "scatterpolar": [
           {
            "marker": {
             "colorbar": {
              "outlinewidth": 0,
              "ticks": ""
             }
            },
            "type": "scatterpolar"
           }
          ],
          "scatterpolargl": [
           {
            "marker": {
             "colorbar": {
              "outlinewidth": 0,
              "ticks": ""
             }
            },
            "type": "scatterpolargl"
           }
          ],
          "scatterternary": [
           {
            "marker": {
             "colorbar": {
              "outlinewidth": 0,
              "ticks": ""
             }
            },
            "type": "scatterternary"
           }
          ],
          "surface": [
           {
            "colorbar": {
             "outlinewidth": 0,
             "ticks": ""
            },
            "colorscale": [
             [
              0,
              "#0d0887"
             ],
             [
              0.1111111111111111,
              "#46039f"
             ],
             [
              0.2222222222222222,
              "#7201a8"
             ],
             [
              0.3333333333333333,
              "#9c179e"
             ],
             [
              0.4444444444444444,
              "#bd3786"
             ],
             [
              0.5555555555555556,
              "#d8576b"
             ],
             [
              0.6666666666666666,
              "#ed7953"
             ],
             [
              0.7777777777777778,
              "#fb9f3a"
             ],
             [
              0.8888888888888888,
              "#fdca26"
             ],
             [
              1,
              "#f0f921"
             ]
            ],
            "type": "surface"
           }
          ],
          "table": [
           {
            "cells": {
             "fill": {
              "color": "#EBF0F8"
             },
             "line": {
              "color": "white"
             }
            },
            "header": {
             "fill": {
              "color": "#C8D4E3"
             },
             "line": {
              "color": "white"
             }
            },
            "type": "table"
           }
          ]
         },
         "layout": {
          "annotationdefaults": {
           "arrowcolor": "#2a3f5f",
           "arrowhead": 0,
           "arrowwidth": 1
          },
          "autotypenumbers": "strict",
          "coloraxis": {
           "colorbar": {
            "outlinewidth": 0,
            "ticks": ""
           }
          },
          "colorscale": {
           "diverging": [
            [
             0,
             "#8e0152"
            ],
            [
             0.1,
             "#c51b7d"
            ],
            [
             0.2,
             "#de77ae"
            ],
            [
             0.3,
             "#f1b6da"
            ],
            [
             0.4,
             "#fde0ef"
            ],
            [
             0.5,
             "#f7f7f7"
            ],
            [
             0.6,
             "#e6f5d0"
            ],
            [
             0.7,
             "#b8e186"
            ],
            [
             0.8,
             "#7fbc41"
            ],
            [
             0.9,
             "#4d9221"
            ],
            [
             1,
             "#276419"
            ]
           ],
           "sequential": [
            [
             0,
             "#0d0887"
            ],
            [
             0.1111111111111111,
             "#46039f"
            ],
            [
             0.2222222222222222,
             "#7201a8"
            ],
            [
             0.3333333333333333,
             "#9c179e"
            ],
            [
             0.4444444444444444,
             "#bd3786"
            ],
            [
             0.5555555555555556,
             "#d8576b"
            ],
            [
             0.6666666666666666,
             "#ed7953"
            ],
            [
             0.7777777777777778,
             "#fb9f3a"
            ],
            [
             0.8888888888888888,
             "#fdca26"
            ],
            [
             1,
             "#f0f921"
            ]
           ],
           "sequentialminus": [
            [
             0,
             "#0d0887"
            ],
            [
             0.1111111111111111,
             "#46039f"
            ],
            [
             0.2222222222222222,
             "#7201a8"
            ],
            [
             0.3333333333333333,
             "#9c179e"
            ],
            [
             0.4444444444444444,
             "#bd3786"
            ],
            [
             0.5555555555555556,
             "#d8576b"
            ],
            [
             0.6666666666666666,
             "#ed7953"
            ],
            [
             0.7777777777777778,
             "#fb9f3a"
            ],
            [
             0.8888888888888888,
             "#fdca26"
            ],
            [
             1,
             "#f0f921"
            ]
           ]
          },
          "colorway": [
           "#636efa",
           "#EF553B",
           "#00cc96",
           "#ab63fa",
           "#FFA15A",
           "#19d3f3",
           "#FF6692",
           "#B6E880",
           "#FF97FF",
           "#FECB52"
          ],
          "font": {
           "color": "#2a3f5f"
          },
          "geo": {
           "bgcolor": "white",
           "lakecolor": "white",
           "landcolor": "#E5ECF6",
           "showlakes": true,
           "showland": true,
           "subunitcolor": "white"
          },
          "hoverlabel": {
           "align": "left"
          },
          "hovermode": "closest",
          "mapbox": {
           "style": "light"
          },
          "paper_bgcolor": "white",
          "plot_bgcolor": "#E5ECF6",
          "polar": {
           "angularaxis": {
            "gridcolor": "white",
            "linecolor": "white",
            "ticks": ""
           },
           "bgcolor": "#E5ECF6",
           "radialaxis": {
            "gridcolor": "white",
            "linecolor": "white",
            "ticks": ""
           }
          },
          "scene": {
           "xaxis": {
            "backgroundcolor": "#E5ECF6",
            "gridcolor": "white",
            "gridwidth": 2,
            "linecolor": "white",
            "showbackground": true,
            "ticks": "",
            "zerolinecolor": "white"
           },
           "yaxis": {
            "backgroundcolor": "#E5ECF6",
            "gridcolor": "white",
            "gridwidth": 2,
            "linecolor": "white",
            "showbackground": true,
            "ticks": "",
            "zerolinecolor": "white"
           },
           "zaxis": {
            "backgroundcolor": "#E5ECF6",
            "gridcolor": "white",
            "gridwidth": 2,
            "linecolor": "white",
            "showbackground": true,
            "ticks": "",
            "zerolinecolor": "white"
           }
          },
          "shapedefaults": {
           "line": {
            "color": "#2a3f5f"
           }
          },
          "ternary": {
           "aaxis": {
            "gridcolor": "white",
            "linecolor": "white",
            "ticks": ""
           },
           "baxis": {
            "gridcolor": "white",
            "linecolor": "white",
            "ticks": ""
           },
           "bgcolor": "#E5ECF6",
           "caxis": {
            "gridcolor": "white",
            "linecolor": "white",
            "ticks": ""
           }
          },
          "title": {
           "x": 0.05
          },
          "xaxis": {
           "automargin": true,
           "gridcolor": "white",
           "linecolor": "white",
           "ticks": "",
           "title": {
            "standoff": 15
           },
           "zerolinecolor": "white",
           "zerolinewidth": 2
          },
          "yaxis": {
           "automargin": true,
           "gridcolor": "white",
           "linecolor": "white",
           "ticks": "",
           "title": {
            "standoff": 15
           },
           "zerolinecolor": "white",
           "zerolinewidth": 2
          }
         }
        },
        "title": {
         "text": "Released movies over time"
        },
        "xaxis": {
         "anchor": "y",
         "domain": [
          0,
          1
         ],
         "title": {
          "font": {
           "size": 16
          },
          "text": "Year of release"
         }
        },
        "yaxis": {
         "anchor": "x",
         "domain": [
          0,
          1
         ],
         "title": {
          "font": {
           "size": 16
          },
          "text": "Amount of movies"
         }
        }
       }
      }
     },
     "metadata": {},
     "output_type": "display_data"
    }
   ],
   "source": [
    "count = all_movies.groupby(['release_year'])['movieId'].count()\n",
    "\n",
    "noyear_count = count[-1]\n",
    "print(f'Movies without year: {noyear_count} or {((noyear_count / count.values.sum())*100):.2f}%')\n",
    "\n",
    "count = count.drop([-1])\n",
    "count = count.drop([2018])\n",
    "\n",
    "count_df = count.to_frame()\n",
    "\n",
    "fig1 = px.bar(count_df, x=count_df.index, y='movieId', title='Released movies over time',\n",
    "labels={\n",
    "                     \"release_year\": \"Year of release\",\n",
    "                     \"movieId\": \"Amount of movies\"\n",
    "                 },\n",
    "                )\n",
    "            \n",
    "fig1.update_layout(\n",
    "    xaxis=dict(\n",
    "        title='Year of release',\n",
    "        titlefont_size=16\n",
    "    ),\n",
    "    yaxis=dict(\n",
    "        title='Amount of movies',\n",
    "        titlefont_size=16\n",
    "    )\n",
    ")\n",
    "fig1.update_traces(marker_color='maroon')\n",
    "fig1.show()"
   ]
  },
  {
   "attachments": {},
   "cell_type": "markdown",
   "metadata": {},
   "source": [
    "## (3) Genre share over time\n",
    "\n",
    "Diagram Type: 100% Stacked Area Chart (https://codejock.com/products/chart/100-stacked-area-chart.asp)\n",
    "\n",
    "**Challenges**\n",
    "* [OK] Multiple genres\n",
    "* [OK] Amount of genres to display"
   ]
  },
  {
   "cell_type": "code",
   "execution_count": 23,
   "metadata": {},
   "outputs": [
    {
     "data": {
      "text/html": [
       "<div>\n",
       "<style scoped>\n",
       "    .dataframe tbody tr th:only-of-type {\n",
       "        vertical-align: middle;\n",
       "    }\n",
       "\n",
       "    .dataframe tbody tr th {\n",
       "        vertical-align: top;\n",
       "    }\n",
       "\n",
       "    .dataframe thead th {\n",
       "        text-align: right;\n",
       "    }\n",
       "</style>\n",
       "<table border=\"1\" class=\"dataframe\">\n",
       "  <thead>\n",
       "    <tr style=\"text-align: right;\">\n",
       "      <th></th>\n",
       "      <th>movieId</th>\n",
       "      <th>title</th>\n",
       "      <th>release_year</th>\n",
       "      <th>genreId</th>\n",
       "      <th>genrename</th>\n",
       "    </tr>\n",
       "  </thead>\n",
       "  <tbody>\n",
       "    <tr>\n",
       "      <th>0</th>\n",
       "      <td>1</td>\n",
       "      <td>Toy Story (1995)</td>\n",
       "      <td>1995</td>\n",
       "      <td>9</td>\n",
       "      <td>Fantasy</td>\n",
       "    </tr>\n",
       "    <tr>\n",
       "      <th>1</th>\n",
       "      <td>1</td>\n",
       "      <td>Toy Story (1995)</td>\n",
       "      <td>1995</td>\n",
       "      <td>5</td>\n",
       "      <td>Comedy</td>\n",
       "    </tr>\n",
       "    <tr>\n",
       "      <th>2</th>\n",
       "      <td>1</td>\n",
       "      <td>Toy Story (1995)</td>\n",
       "      <td>1995</td>\n",
       "      <td>4</td>\n",
       "      <td>Children</td>\n",
       "    </tr>\n",
       "    <tr>\n",
       "      <th>3</th>\n",
       "      <td>1</td>\n",
       "      <td>Toy Story (1995)</td>\n",
       "      <td>1995</td>\n",
       "      <td>3</td>\n",
       "      <td>Animation</td>\n",
       "    </tr>\n",
       "    <tr>\n",
       "      <th>4</th>\n",
       "      <td>1</td>\n",
       "      <td>Toy Story (1995)</td>\n",
       "      <td>1995</td>\n",
       "      <td>2</td>\n",
       "      <td>Adventure</td>\n",
       "    </tr>\n",
       "    <tr>\n",
       "      <th>5</th>\n",
       "      <td>2</td>\n",
       "      <td>Jumanji (1995)</td>\n",
       "      <td>1995</td>\n",
       "      <td>2</td>\n",
       "      <td>Adventure</td>\n",
       "    </tr>\n",
       "    <tr>\n",
       "      <th>6</th>\n",
       "      <td>2</td>\n",
       "      <td>Jumanji (1995)</td>\n",
       "      <td>1995</td>\n",
       "      <td>4</td>\n",
       "      <td>Children</td>\n",
       "    </tr>\n",
       "    <tr>\n",
       "      <th>7</th>\n",
       "      <td>2</td>\n",
       "      <td>Jumanji (1995)</td>\n",
       "      <td>1995</td>\n",
       "      <td>9</td>\n",
       "      <td>Fantasy</td>\n",
       "    </tr>\n",
       "    <tr>\n",
       "      <th>8</th>\n",
       "      <td>3</td>\n",
       "      <td>Grumpier Old Men (1995)</td>\n",
       "      <td>1995</td>\n",
       "      <td>15</td>\n",
       "      <td>Romance</td>\n",
       "    </tr>\n",
       "    <tr>\n",
       "      <th>9</th>\n",
       "      <td>3</td>\n",
       "      <td>Grumpier Old Men (1995)</td>\n",
       "      <td>1995</td>\n",
       "      <td>5</td>\n",
       "      <td>Comedy</td>\n",
       "    </tr>\n",
       "  </tbody>\n",
       "</table>\n",
       "</div>"
      ],
      "text/plain": [
       "   movieId                    title  release_year  genreId  genrename\n",
       "0        1         Toy Story (1995)          1995        9    Fantasy\n",
       "1        1         Toy Story (1995)          1995        5     Comedy\n",
       "2        1         Toy Story (1995)          1995        4   Children\n",
       "3        1         Toy Story (1995)          1995        3  Animation\n",
       "4        1         Toy Story (1995)          1995        2  Adventure\n",
       "5        2           Jumanji (1995)          1995        2  Adventure\n",
       "6        2           Jumanji (1995)          1995        4   Children\n",
       "7        2           Jumanji (1995)          1995        9    Fantasy\n",
       "8        3  Grumpier Old Men (1995)          1995       15    Romance\n",
       "9        3  Grumpier Old Men (1995)          1995        5     Comedy"
      ]
     },
     "execution_count": 23,
     "metadata": {},
     "output_type": "execute_result"
    }
   ],
   "source": [
    "movies_genres = pd.read_sql('SELECT m.movieId, m.title, m.release_year, g.genreId, g.genrename FROM movies as m inner join movies_genres as mg on m.movieId=mg.movieId inner join genres as g on mg.genreId=g.genreId order by m.movieId', con=db_connection)\n",
    "movies_genres[:10]"
   ]
  },
  {
   "cell_type": "code",
   "execution_count": 24,
   "metadata": {},
   "outputs": [
    {
     "name": "stdout",
     "output_type": "stream",
     "text": [
      "Average genres per film: 1.89\n",
      "\n",
      "Check total distribution\n",
      "             genrename      share\n",
      "Drama            24144  23.707544\n",
      "Comedy           15956  15.667560\n",
      "Thriller          8216   8.067478\n",
      "Romance           7412   7.278012\n",
      "Action            7130   7.001110\n",
      "Horror            5555   5.454581\n",
      "Documentary       5118   5.025481\n",
      "Crime             5105   5.012716\n",
      "Adventure         4067   3.993480\n",
      "Sci-Fi            3444   3.381742\n",
      "Mystery           2773   2.722872\n",
      "Children          2749   2.699306\n",
      "Animation         2663   2.614860\n",
      "Fantasy           2637   2.589330\n",
      "War               1820   1.787099\n",
      "Western           1378   1.353090\n",
      "Musical           1113   1.092880\n",
      "Film-Noir          364   0.357420\n",
      "IMAX               197   0.193439\n"
     ]
    }
   ],
   "source": [
    "print(f'Average genres per film: {len(movies_genres) / len(movies_genres.movieId.unique()):.2f}')\n",
    "print('\\nCheck total distribution')\n",
    "genres_total_dist = movies_genres.genrename.value_counts().to_frame()\n",
    "genres_total_dist['share'] = genres_total_dist.apply(lambda x: (x / genres_total_dist.genrename.sum()*100))\n",
    "print(genres_total_dist)"
   ]
  },
  {
   "cell_type": "code",
   "execution_count": 25,
   "metadata": {},
   "outputs": [
    {
     "data": {
      "text/plain": [
       "\"\\nfor year in range(1900,2018+1):\\n    genres_hist[year] = movies_genres.query(f'release_year == {year}').genrename.value_counts()\\n\""
      ]
     },
     "execution_count": 25,
     "metadata": {},
     "output_type": "execute_result"
    }
   ],
   "source": [
    "#Calculating right share based on amount of genres\n",
    "#For example: Jumanji (1995) has 3 genres assigned. Every genre should only count 1/3. \n",
    "\n",
    "#DISCLAIMER: can take up to 5min! not optimized yet!\n",
    "\n",
    "genres_hist = pd.DataFrame(index=movies_genres.genrename.unique())\n",
    "\n",
    "for year in range(1900,2018+1):\n",
    "    q = movies_genres.query(f'release_year == {year}').copy()\n",
    "    q['genre_vote'] = q['movieId'].apply(lambda x: (1/len(q.query(f'movieId == {x}'))))\n",
    "    q = q.groupby(by='genrename').sum()\n",
    "    q = q['genre_vote']\n",
    "    q = q.round(decimals=2)\n",
    "    genres_hist[year] = q\n",
    "\n",
    "\n",
    "#old approach: absolute amount genre per year\n",
    "\"\"\"\n",
    "for year in range(1900,2018+1):\n",
    "    genres_hist[year] = movies_genres.query(f'release_year == {year}').genrename.value_counts()\n",
    "\"\"\""
   ]
  },
  {
   "cell_type": "code",
   "execution_count": 26,
   "metadata": {},
   "outputs": [
    {
     "data": {
      "text/html": [
       "<div>\n",
       "<style scoped>\n",
       "    .dataframe tbody tr th:only-of-type {\n",
       "        vertical-align: middle;\n",
       "    }\n",
       "\n",
       "    .dataframe tbody tr th {\n",
       "        vertical-align: top;\n",
       "    }\n",
       "\n",
       "    .dataframe thead th {\n",
       "        text-align: right;\n",
       "    }\n",
       "</style>\n",
       "<table border=\"1\" class=\"dataframe\">\n",
       "  <thead>\n",
       "    <tr style=\"text-align: right;\">\n",
       "      <th></th>\n",
       "      <th>Fantasy</th>\n",
       "      <th>Comedy</th>\n",
       "      <th>Children</th>\n",
       "      <th>Animation</th>\n",
       "      <th>Adventure</th>\n",
       "      <th>Romance</th>\n",
       "      <th>Drama</th>\n",
       "      <th>Action</th>\n",
       "      <th>Thriller</th>\n",
       "      <th>Crime</th>\n",
       "      <th>Horror</th>\n",
       "      <th>Mystery</th>\n",
       "      <th>Sci-Fi</th>\n",
       "      <th>IMAX</th>\n",
       "      <th>Documentary</th>\n",
       "      <th>War</th>\n",
       "      <th>Musical</th>\n",
       "      <th>Western</th>\n",
       "      <th>Film-Noir</th>\n",
       "    </tr>\n",
       "  </thead>\n",
       "  <tbody>\n",
       "    <tr>\n",
       "      <th>1900</th>\n",
       "      <td>0.00</td>\n",
       "      <td>14.29</td>\n",
       "      <td>0.00</td>\n",
       "      <td>0.00</td>\n",
       "      <td>0.00</td>\n",
       "      <td>28.57</td>\n",
       "      <td>14.29</td>\n",
       "      <td>0.00</td>\n",
       "      <td>0.00</td>\n",
       "      <td>0.00</td>\n",
       "      <td>0.00</td>\n",
       "      <td>0.00</td>\n",
       "      <td>0.00</td>\n",
       "      <td>0.00</td>\n",
       "      <td>42.86</td>\n",
       "      <td>0.00</td>\n",
       "      <td>0.00</td>\n",
       "      <td>0.00</td>\n",
       "      <td>0.0</td>\n",
       "    </tr>\n",
       "    <tr>\n",
       "      <th>1901</th>\n",
       "      <td>0.00</td>\n",
       "      <td>25.00</td>\n",
       "      <td>0.00</td>\n",
       "      <td>0.00</td>\n",
       "      <td>0.00</td>\n",
       "      <td>0.00</td>\n",
       "      <td>12.50</td>\n",
       "      <td>0.00</td>\n",
       "      <td>0.00</td>\n",
       "      <td>12.50</td>\n",
       "      <td>0.00</td>\n",
       "      <td>0.00</td>\n",
       "      <td>0.00</td>\n",
       "      <td>0.00</td>\n",
       "      <td>50.00</td>\n",
       "      <td>0.00</td>\n",
       "      <td>0.00</td>\n",
       "      <td>0.00</td>\n",
       "      <td>0.0</td>\n",
       "    </tr>\n",
       "    <tr>\n",
       "      <th>1902</th>\n",
       "      <td>50.00</td>\n",
       "      <td>0.00</td>\n",
       "      <td>0.00</td>\n",
       "      <td>0.00</td>\n",
       "      <td>0.00</td>\n",
       "      <td>0.00</td>\n",
       "      <td>50.00</td>\n",
       "      <td>0.00</td>\n",
       "      <td>0.00</td>\n",
       "      <td>0.00</td>\n",
       "      <td>0.00</td>\n",
       "      <td>0.00</td>\n",
       "      <td>0.00</td>\n",
       "      <td>0.00</td>\n",
       "      <td>0.00</td>\n",
       "      <td>0.00</td>\n",
       "      <td>0.00</td>\n",
       "      <td>0.00</td>\n",
       "      <td>0.0</td>\n",
       "    </tr>\n",
       "    <tr>\n",
       "      <th>1903</th>\n",
       "      <td>38.89</td>\n",
       "      <td>27.78</td>\n",
       "      <td>0.00</td>\n",
       "      <td>0.00</td>\n",
       "      <td>0.00</td>\n",
       "      <td>0.00</td>\n",
       "      <td>5.56</td>\n",
       "      <td>5.56</td>\n",
       "      <td>0.00</td>\n",
       "      <td>5.56</td>\n",
       "      <td>5.56</td>\n",
       "      <td>0.00</td>\n",
       "      <td>0.00</td>\n",
       "      <td>0.00</td>\n",
       "      <td>11.11</td>\n",
       "      <td>0.00</td>\n",
       "      <td>0.00</td>\n",
       "      <td>0.00</td>\n",
       "      <td>0.0</td>\n",
       "    </tr>\n",
       "    <tr>\n",
       "      <th>1904</th>\n",
       "      <td>33.33</td>\n",
       "      <td>33.33</td>\n",
       "      <td>0.00</td>\n",
       "      <td>0.00</td>\n",
       "      <td>0.00</td>\n",
       "      <td>0.00</td>\n",
       "      <td>0.00</td>\n",
       "      <td>0.00</td>\n",
       "      <td>0.00</td>\n",
       "      <td>0.00</td>\n",
       "      <td>0.00</td>\n",
       "      <td>0.00</td>\n",
       "      <td>0.00</td>\n",
       "      <td>0.00</td>\n",
       "      <td>33.33</td>\n",
       "      <td>0.00</td>\n",
       "      <td>0.00</td>\n",
       "      <td>0.00</td>\n",
       "      <td>0.0</td>\n",
       "    </tr>\n",
       "    <tr>\n",
       "      <th>...</th>\n",
       "      <td>...</td>\n",
       "      <td>...</td>\n",
       "      <td>...</td>\n",
       "      <td>...</td>\n",
       "      <td>...</td>\n",
       "      <td>...</td>\n",
       "      <td>...</td>\n",
       "      <td>...</td>\n",
       "      <td>...</td>\n",
       "      <td>...</td>\n",
       "      <td>...</td>\n",
       "      <td>...</td>\n",
       "      <td>...</td>\n",
       "      <td>...</td>\n",
       "      <td>...</td>\n",
       "      <td>...</td>\n",
       "      <td>...</td>\n",
       "      <td>...</td>\n",
       "      <td>...</td>\n",
       "    </tr>\n",
       "    <tr>\n",
       "      <th>2014</th>\n",
       "      <td>1.46</td>\n",
       "      <td>17.95</td>\n",
       "      <td>2.17</td>\n",
       "      <td>1.98</td>\n",
       "      <td>2.12</td>\n",
       "      <td>5.18</td>\n",
       "      <td>25.92</td>\n",
       "      <td>4.67</td>\n",
       "      <td>8.34</td>\n",
       "      <td>2.92</td>\n",
       "      <td>6.03</td>\n",
       "      <td>1.60</td>\n",
       "      <td>2.83</td>\n",
       "      <td>0.19</td>\n",
       "      <td>15.17</td>\n",
       "      <td>0.80</td>\n",
       "      <td>0.24</td>\n",
       "      <td>0.42</td>\n",
       "      <td>0.0</td>\n",
       "    </tr>\n",
       "    <tr>\n",
       "      <th>2015</th>\n",
       "      <td>1.48</td>\n",
       "      <td>18.23</td>\n",
       "      <td>2.72</td>\n",
       "      <td>2.19</td>\n",
       "      <td>2.34</td>\n",
       "      <td>4.72</td>\n",
       "      <td>25.38</td>\n",
       "      <td>4.53</td>\n",
       "      <td>8.97</td>\n",
       "      <td>2.39</td>\n",
       "      <td>7.16</td>\n",
       "      <td>1.86</td>\n",
       "      <td>3.10</td>\n",
       "      <td>0.00</td>\n",
       "      <td>13.88</td>\n",
       "      <td>0.76</td>\n",
       "      <td>0.00</td>\n",
       "      <td>0.29</td>\n",
       "      <td>0.0</td>\n",
       "    </tr>\n",
       "    <tr>\n",
       "      <th>2016</th>\n",
       "      <td>1.57</td>\n",
       "      <td>19.15</td>\n",
       "      <td>2.16</td>\n",
       "      <td>2.31</td>\n",
       "      <td>1.96</td>\n",
       "      <td>5.11</td>\n",
       "      <td>25.63</td>\n",
       "      <td>5.25</td>\n",
       "      <td>9.33</td>\n",
       "      <td>2.36</td>\n",
       "      <td>6.19</td>\n",
       "      <td>1.72</td>\n",
       "      <td>2.41</td>\n",
       "      <td>0.00</td>\n",
       "      <td>14.04</td>\n",
       "      <td>0.59</td>\n",
       "      <td>0.00</td>\n",
       "      <td>0.25</td>\n",
       "      <td>0.0</td>\n",
       "    </tr>\n",
       "    <tr>\n",
       "      <th>2017</th>\n",
       "      <td>1.48</td>\n",
       "      <td>18.71</td>\n",
       "      <td>1.71</td>\n",
       "      <td>2.28</td>\n",
       "      <td>1.88</td>\n",
       "      <td>4.51</td>\n",
       "      <td>25.39</td>\n",
       "      <td>5.53</td>\n",
       "      <td>8.84</td>\n",
       "      <td>2.74</td>\n",
       "      <td>6.90</td>\n",
       "      <td>1.83</td>\n",
       "      <td>3.31</td>\n",
       "      <td>0.00</td>\n",
       "      <td>13.69</td>\n",
       "      <td>0.74</td>\n",
       "      <td>0.00</td>\n",
       "      <td>0.46</td>\n",
       "      <td>0.0</td>\n",
       "    </tr>\n",
       "    <tr>\n",
       "      <th>2018</th>\n",
       "      <td>1.98</td>\n",
       "      <td>21.56</td>\n",
       "      <td>1.61</td>\n",
       "      <td>2.11</td>\n",
       "      <td>2.23</td>\n",
       "      <td>4.21</td>\n",
       "      <td>24.54</td>\n",
       "      <td>5.33</td>\n",
       "      <td>9.05</td>\n",
       "      <td>2.97</td>\n",
       "      <td>5.95</td>\n",
       "      <td>1.61</td>\n",
       "      <td>3.97</td>\n",
       "      <td>0.00</td>\n",
       "      <td>11.52</td>\n",
       "      <td>0.74</td>\n",
       "      <td>0.00</td>\n",
       "      <td>0.62</td>\n",
       "      <td>0.0</td>\n",
       "    </tr>\n",
       "  </tbody>\n",
       "</table>\n",
       "<p>119 rows × 19 columns</p>\n",
       "</div>"
      ],
      "text/plain": [
       "      Fantasy  Comedy  Children  Animation  Adventure  Romance  Drama  Action  \\\n",
       "1900     0.00   14.29      0.00       0.00       0.00    28.57  14.29    0.00   \n",
       "1901     0.00   25.00      0.00       0.00       0.00     0.00  12.50    0.00   \n",
       "1902    50.00    0.00      0.00       0.00       0.00     0.00  50.00    0.00   \n",
       "1903    38.89   27.78      0.00       0.00       0.00     0.00   5.56    5.56   \n",
       "1904    33.33   33.33      0.00       0.00       0.00     0.00   0.00    0.00   \n",
       "...       ...     ...       ...        ...        ...      ...    ...     ...   \n",
       "2014     1.46   17.95      2.17       1.98       2.12     5.18  25.92    4.67   \n",
       "2015     1.48   18.23      2.72       2.19       2.34     4.72  25.38    4.53   \n",
       "2016     1.57   19.15      2.16       2.31       1.96     5.11  25.63    5.25   \n",
       "2017     1.48   18.71      1.71       2.28       1.88     4.51  25.39    5.53   \n",
       "2018     1.98   21.56      1.61       2.11       2.23     4.21  24.54    5.33   \n",
       "\n",
       "      Thriller  Crime  Horror  Mystery  Sci-Fi  IMAX  Documentary   War  \\\n",
       "1900      0.00   0.00    0.00     0.00    0.00  0.00        42.86  0.00   \n",
       "1901      0.00  12.50    0.00     0.00    0.00  0.00        50.00  0.00   \n",
       "1902      0.00   0.00    0.00     0.00    0.00  0.00         0.00  0.00   \n",
       "1903      0.00   5.56    5.56     0.00    0.00  0.00        11.11  0.00   \n",
       "1904      0.00   0.00    0.00     0.00    0.00  0.00        33.33  0.00   \n",
       "...        ...    ...     ...      ...     ...   ...          ...   ...   \n",
       "2014      8.34   2.92    6.03     1.60    2.83  0.19        15.17  0.80   \n",
       "2015      8.97   2.39    7.16     1.86    3.10  0.00        13.88  0.76   \n",
       "2016      9.33   2.36    6.19     1.72    2.41  0.00        14.04  0.59   \n",
       "2017      8.84   2.74    6.90     1.83    3.31  0.00        13.69  0.74   \n",
       "2018      9.05   2.97    5.95     1.61    3.97  0.00        11.52  0.74   \n",
       "\n",
       "      Musical  Western  Film-Noir  \n",
       "1900     0.00     0.00        0.0  \n",
       "1901     0.00     0.00        0.0  \n",
       "1902     0.00     0.00        0.0  \n",
       "1903     0.00     0.00        0.0  \n",
       "1904     0.00     0.00        0.0  \n",
       "...       ...      ...        ...  \n",
       "2014     0.24     0.42        0.0  \n",
       "2015     0.00     0.29        0.0  \n",
       "2016     0.00     0.25        0.0  \n",
       "2017     0.00     0.46        0.0  \n",
       "2018     0.00     0.62        0.0  \n",
       "\n",
       "[119 rows x 19 columns]"
      ]
     },
     "execution_count": 26,
     "metadata": {},
     "output_type": "execute_result"
    }
   ],
   "source": [
    "#Fill na with 0 and set type int\n",
    "genres_hist.fillna(0,inplace=True)\n",
    "genres_hist = genres_hist.astype(int)\n",
    "\n",
    "#calculate relative share for every year\n",
    "for year in range(1900,2018+1):\n",
    "    sum = genres_hist[year].sum()\n",
    "    genres_hist[year] = genres_hist[year].apply(lambda x: round((x / sum)*100,2))\n",
    "\n",
    "#Transpose for easier data access\n",
    "genres_hist = genres_hist.T\n",
    "genres_hist"
   ]
  },
  {
   "cell_type": "code",
   "execution_count": 31,
   "metadata": {},
   "outputs": [
    {
     "data": {
      "application/vnd.plotly.v1+json": {
       "config": {
        "plotlyServerURL": "https://plot.ly"
       },
       "data": [
        {
         "line": {
          "color": "#3366CC",
          "dash": "solid"
         },
         "mode": "lines",
         "name": "Drama",
         "stackgroup": "one",
         "type": "scatter",
         "x": [
          1900,
          1901,
          1902,
          1903,
          1904,
          1905,
          1906,
          1907,
          1908,
          1909,
          1910,
          1911,
          1912,
          1913,
          1914,
          1915,
          1916,
          1917,
          1918,
          1919,
          1920,
          1921,
          1922,
          1923,
          1924,
          1925,
          1926,
          1927,
          1928,
          1929,
          1930,
          1931,
          1932,
          1933,
          1934,
          1935,
          1936,
          1937,
          1938,
          1939,
          1940,
          1941,
          1942,
          1943,
          1944,
          1945,
          1946,
          1947,
          1948,
          1949,
          1950,
          1951,
          1952,
          1953,
          1954,
          1955,
          1956,
          1957,
          1958,
          1959,
          1960,
          1961,
          1962,
          1963,
          1964,
          1965,
          1966,
          1967,
          1968,
          1969,
          1970,
          1971,
          1972,
          1973,
          1974,
          1975,
          1976,
          1977,
          1978,
          1979,
          1980,
          1981,
          1982,
          1983,
          1984,
          1985,
          1986,
          1987,
          1988,
          1989,
          1990,
          1991,
          1992,
          1993,
          1994,
          1995,
          1996,
          1997,
          1998,
          1999,
          2000,
          2001,
          2002,
          2003,
          2004,
          2005,
          2006,
          2007,
          2008,
          2009,
          2010,
          2011,
          2012,
          2013,
          2014,
          2015,
          2016,
          2017,
          2018
         ],
         "y": [
          14.29,
          12.5,
          50,
          5.56,
          0,
          20,
          0,
          0,
          0,
          16.67,
          66.67,
          0,
          50,
          85.71,
          9.09,
          40.91,
          34.62,
          36.84,
          38.46,
          40.91,
          29.17,
          36.36,
          29.63,
          45.45,
          41.94,
          44.44,
          38.78,
          40.48,
          47.46,
          48.78,
          32.67,
          38.06,
          39.41,
          33.92,
          28.57,
          24.72,
          27.78,
          32.66,
          26.86,
          27.32,
          30.05,
          21.57,
          23.22,
          23.94,
          26.4,
          24.29,
          31.4,
          29.73,
          28.65,
          34.4,
          29.06,
          27.75,
          28.57,
          28.74,
          29.05,
          32.71,
          31.85,
          31.4,
          30.83,
          29.41,
          35.42,
          34.32,
          38.43,
          30.77,
          25.88,
          29.7,
          23.03,
          26.83,
          25.69,
          34.34,
          33.33,
          26.72,
          27.16,
          26.08,
          28.77,
          27.92,
          28.3,
          27.43,
          27.2,
          29.3,
          24.69,
          25.91,
          28.43,
          25.58,
          29.46,
          23.89,
          25.52,
          24.05,
          23.78,
          24.7,
          27.54,
          28.34,
          28.49,
          28.41,
          27.52,
          28.53,
          31.14,
          30.11,
          30.36,
          30.2,
          32.59,
          31.18,
          31.3,
          29.1,
          30.55,
          30.06,
          28.76,
          28.48,
          26.95,
          26.33,
          27.87,
          27.94,
          26.87,
          26.82,
          25.92,
          25.38,
          25.63,
          25.39,
          24.54
         ]
        },
        {
         "line": {
          "color": "#DC3912",
          "dash": "solid"
         },
         "mode": "lines",
         "name": "Comedy",
         "stackgroup": "one",
         "type": "scatter",
         "x": [
          1900,
          1901,
          1902,
          1903,
          1904,
          1905,
          1906,
          1907,
          1908,
          1909,
          1910,
          1911,
          1912,
          1913,
          1914,
          1915,
          1916,
          1917,
          1918,
          1919,
          1920,
          1921,
          1922,
          1923,
          1924,
          1925,
          1926,
          1927,
          1928,
          1929,
          1930,
          1931,
          1932,
          1933,
          1934,
          1935,
          1936,
          1937,
          1938,
          1939,
          1940,
          1941,
          1942,
          1943,
          1944,
          1945,
          1946,
          1947,
          1948,
          1949,
          1950,
          1951,
          1952,
          1953,
          1954,
          1955,
          1956,
          1957,
          1958,
          1959,
          1960,
          1961,
          1962,
          1963,
          1964,
          1965,
          1966,
          1967,
          1968,
          1969,
          1970,
          1971,
          1972,
          1973,
          1974,
          1975,
          1976,
          1977,
          1978,
          1979,
          1980,
          1981,
          1982,
          1983,
          1984,
          1985,
          1986,
          1987,
          1988,
          1989,
          1990,
          1991,
          1992,
          1993,
          1994,
          1995,
          1996,
          1997,
          1998,
          1999,
          2000,
          2001,
          2002,
          2003,
          2004,
          2005,
          2006,
          2007,
          2008,
          2009,
          2010,
          2011,
          2012,
          2013,
          2014,
          2015,
          2016,
          2017,
          2018
         ],
         "y": [
          14.29,
          25,
          0,
          27.78,
          33.33,
          0,
          40,
          60,
          44.44,
          41.67,
          0,
          66.67,
          25,
          0,
          69.7,
          40.91,
          42.31,
          47.37,
          46.15,
          40.91,
          41.67,
          45.45,
          33.33,
          36.36,
          22.58,
          22.22,
          18.37,
          21.43,
          22.03,
          15.85,
          19.8,
          16.42,
          18.24,
          18.71,
          22.86,
          23.03,
          22.22,
          21.61,
          25.14,
          19.07,
          20.21,
          28.43,
          19.91,
          18.09,
          16.85,
          17.51,
          12.79,
          17.84,
          14.06,
          16.51,
          15.38,
          17.18,
          18.25,
          14.18,
          14.94,
          12.41,
          14.11,
          15.7,
          13.04,
          15.29,
          14.17,
          17.8,
          18.18,
          23.46,
          21.41,
          19.47,
          19.53,
          17.68,
          16.37,
          17.58,
          15.24,
          15.52,
          16.63,
          10.43,
          13.69,
          18.02,
          18.87,
          15.29,
          18.67,
          18.89,
          24.45,
          21.07,
          21.57,
          23.02,
          21.78,
          22.25,
          20.19,
          21.44,
          19.29,
          20.85,
          19.92,
          22.18,
          21.91,
          18.37,
          21.14,
          15.85,
          20.81,
          18.94,
          17.98,
          20.93,
          19.86,
          18.15,
          17.23,
          17.75,
          18.29,
          16.91,
          17.12,
          17.03,
          16.41,
          17.3,
          16.2,
          17.2,
          17.11,
          17.72,
          17.95,
          18.23,
          19.15,
          18.71,
          21.56
         ]
        },
        {
         "line": {
          "color": "#FF9900",
          "dash": "solid"
         },
         "mode": "lines",
         "name": "Documentary",
         "stackgroup": "one",
         "type": "scatter",
         "x": [
          1900,
          1901,
          1902,
          1903,
          1904,
          1905,
          1906,
          1907,
          1908,
          1909,
          1910,
          1911,
          1912,
          1913,
          1914,
          1915,
          1916,
          1917,
          1918,
          1919,
          1920,
          1921,
          1922,
          1923,
          1924,
          1925,
          1926,
          1927,
          1928,
          1929,
          1930,
          1931,
          1932,
          1933,
          1934,
          1935,
          1936,
          1937,
          1938,
          1939,
          1940,
          1941,
          1942,
          1943,
          1944,
          1945,
          1946,
          1947,
          1948,
          1949,
          1950,
          1951,
          1952,
          1953,
          1954,
          1955,
          1956,
          1957,
          1958,
          1959,
          1960,
          1961,
          1962,
          1963,
          1964,
          1965,
          1966,
          1967,
          1968,
          1969,
          1970,
          1971,
          1972,
          1973,
          1974,
          1975,
          1976,
          1977,
          1978,
          1979,
          1980,
          1981,
          1982,
          1983,
          1984,
          1985,
          1986,
          1987,
          1988,
          1989,
          1990,
          1991,
          1992,
          1993,
          1994,
          1995,
          1996,
          1997,
          1998,
          1999,
          2000,
          2001,
          2002,
          2003,
          2004,
          2005,
          2006,
          2007,
          2008,
          2009,
          2010,
          2011,
          2012,
          2013,
          2014,
          2015,
          2016,
          2017,
          2018
         ],
         "y": [
          42.86,
          50,
          0,
          11.11,
          33.33,
          20,
          10,
          0,
          0,
          8.33,
          16.67,
          33.33,
          0,
          0,
          0,
          0,
          0,
          0,
          0,
          4.55,
          0,
          0,
          7.41,
          0,
          9.68,
          5.56,
          10.2,
          2.38,
          3.39,
          2.44,
          2.97,
          1.49,
          0.59,
          0.58,
          2.29,
          0,
          0.51,
          0.5,
          1.71,
          0,
          1.04,
          0,
          1.42,
          3.72,
          1.12,
          2.26,
          1.16,
          0,
          1.04,
          0,
          0,
          0.88,
          0.4,
          1.53,
          0.83,
          1.13,
          2.02,
          1.02,
          2.37,
          1.18,
          1.67,
          2.12,
          1.65,
          4.23,
          5.11,
          1.65,
          3.79,
          3.35,
          4.79,
          3.57,
          4.05,
          4.09,
          4.84,
          2.72,
          3.94,
          3.55,
          4.48,
          3.64,
          4.27,
          3.63,
          4.16,
          3.87,
          3.3,
          4.6,
          3.96,
          5.62,
          3.48,
          2.81,
          3.56,
          3.85,
          2.97,
          3.49,
          4.18,
          3.79,
          6.88,
          6.81,
          5.54,
          5.45,
          6.79,
          6.49,
          7.83,
          8.69,
          8.61,
          9.87,
          10.96,
          11.7,
          10.84,
          12.08,
          14.24,
          14.16,
          14.51,
          14.25,
          15.51,
          14.39,
          15.17,
          13.88,
          14.04,
          13.69,
          11.52
         ]
        },
        {
         "line": {
          "color": "#109618",
          "dash": "solid"
         },
         "mode": "lines",
         "name": "Thriller",
         "stackgroup": "one",
         "type": "scatter",
         "x": [
          1900,
          1901,
          1902,
          1903,
          1904,
          1905,
          1906,
          1907,
          1908,
          1909,
          1910,
          1911,
          1912,
          1913,
          1914,
          1915,
          1916,
          1917,
          1918,
          1919,
          1920,
          1921,
          1922,
          1923,
          1924,
          1925,
          1926,
          1927,
          1928,
          1929,
          1930,
          1931,
          1932,
          1933,
          1934,
          1935,
          1936,
          1937,
          1938,
          1939,
          1940,
          1941,
          1942,
          1943,
          1944,
          1945,
          1946,
          1947,
          1948,
          1949,
          1950,
          1951,
          1952,
          1953,
          1954,
          1955,
          1956,
          1957,
          1958,
          1959,
          1960,
          1961,
          1962,
          1963,
          1964,
          1965,
          1966,
          1967,
          1968,
          1969,
          1970,
          1971,
          1972,
          1973,
          1974,
          1975,
          1976,
          1977,
          1978,
          1979,
          1980,
          1981,
          1982,
          1983,
          1984,
          1985,
          1986,
          1987,
          1988,
          1989,
          1990,
          1991,
          1992,
          1993,
          1994,
          1995,
          1996,
          1997,
          1998,
          1999,
          2000,
          2001,
          2002,
          2003,
          2004,
          2005,
          2006,
          2007,
          2008,
          2009,
          2010,
          2011,
          2012,
          2013,
          2014,
          2015,
          2016,
          2017,
          2018
         ],
         "y": [
          0,
          0,
          0,
          0,
          0,
          0,
          0,
          0,
          0,
          0,
          0,
          0,
          0,
          0,
          0,
          0,
          0,
          0,
          0,
          0,
          0,
          0,
          0,
          0,
          0,
          0,
          0,
          0,
          1.69,
          0,
          0.99,
          0.75,
          1.76,
          1.17,
          1.14,
          2.25,
          2.53,
          2.51,
          1.14,
          3.61,
          2.07,
          2.94,
          3.79,
          3.19,
          3.93,
          4.52,
          4.65,
          4.32,
          5.73,
          3.67,
          2.14,
          3.52,
          3.97,
          4.21,
          3.73,
          2.26,
          3.23,
          2.39,
          4.35,
          3.53,
          3.33,
          2.97,
          3.31,
          3.08,
          4.47,
          4.62,
          2.62,
          5.49,
          4.28,
          4.67,
          4.76,
          6.9,
          7.37,
          6.8,
          8.12,
          6.09,
          7.31,
          7.04,
          6.4,
          4.36,
          4.65,
          5.57,
          4.82,
          4.6,
          5.94,
          5.39,
          5.34,
          6.41,
          6.74,
          5.26,
          6.99,
          6.37,
          8.37,
          8.52,
          6.88,
          6.66,
          7.34,
          6.95,
          8.26,
          7.95,
          6.89,
          7.24,
          6.83,
          7.25,
          6.31,
          6.75,
          7.88,
          7.63,
          7.34,
          8.11,
          7.13,
          7.57,
          7.78,
          8.76,
          8.34,
          8.97,
          9.33,
          8.84,
          9.05
         ]
        },
        {
         "line": {
          "color": "#990099",
          "dash": "solid"
         },
         "mode": "lines",
         "name": "Horror",
         "stackgroup": "one",
         "type": "scatter",
         "x": [
          1900,
          1901,
          1902,
          1903,
          1904,
          1905,
          1906,
          1907,
          1908,
          1909,
          1910,
          1911,
          1912,
          1913,
          1914,
          1915,
          1916,
          1917,
          1918,
          1919,
          1920,
          1921,
          1922,
          1923,
          1924,
          1925,
          1926,
          1927,
          1928,
          1929,
          1930,
          1931,
          1932,
          1933,
          1934,
          1935,
          1936,
          1937,
          1938,
          1939,
          1940,
          1941,
          1942,
          1943,
          1944,
          1945,
          1946,
          1947,
          1948,
          1949,
          1950,
          1951,
          1952,
          1953,
          1954,
          1955,
          1956,
          1957,
          1958,
          1959,
          1960,
          1961,
          1962,
          1963,
          1964,
          1965,
          1966,
          1967,
          1968,
          1969,
          1970,
          1971,
          1972,
          1973,
          1974,
          1975,
          1976,
          1977,
          1978,
          1979,
          1980,
          1981,
          1982,
          1983,
          1984,
          1985,
          1986,
          1987,
          1988,
          1989,
          1990,
          1991,
          1992,
          1993,
          1994,
          1995,
          1996,
          1997,
          1998,
          1999,
          2000,
          2001,
          2002,
          2003,
          2004,
          2005,
          2006,
          2007,
          2008,
          2009,
          2010,
          2011,
          2012,
          2013,
          2014,
          2015,
          2016,
          2017,
          2018
         ],
         "y": [
          0,
          0,
          0,
          5.56,
          0,
          0,
          0,
          0,
          11.11,
          8.33,
          0,
          0,
          0,
          0,
          0,
          0,
          0,
          0,
          0,
          0,
          8.33,
          0,
          3.7,
          4.55,
          0,
          0,
          0,
          2.38,
          1.69,
          0,
          0,
          2.99,
          2.94,
          2.92,
          1.14,
          1.69,
          2.02,
          0,
          0,
          1.55,
          1.55,
          1.96,
          1.9,
          3.19,
          5.06,
          2.82,
          1.74,
          0,
          0.52,
          0,
          0,
          0.88,
          0.4,
          0.77,
          1.24,
          2.26,
          2.02,
          6.48,
          6.32,
          6.27,
          6.67,
          4.66,
          4.96,
          5.38,
          7.03,
          5.28,
          5.54,
          4.27,
          6.05,
          3.57,
          7.62,
          10.78,
          10.53,
          14.29,
          10.67,
          7.87,
          7.31,
          8.01,
          9.07,
          6.05,
          10.27,
          12.11,
          8.88,
          7.16,
          5.69,
          6.32,
          7.66,
          9.22,
          11.8,
          10.53,
          8.9,
          6.57,
          5.38,
          4.92,
          3.52,
          4.75,
          3.74,
          3.41,
          3.06,
          3.97,
          4.79,
          3.67,
          3.68,
          4.1,
          5.01,
          5.98,
          6.72,
          6.64,
          5.68,
          6.05,
          5.8,
          5.51,
          5.81,
          5.73,
          6.03,
          7.16,
          6.19,
          6.9,
          5.95
         ]
        },
        {
         "line": {
          "color": "#0099C6",
          "dash": "solid"
         },
         "mode": "lines",
         "name": "Action",
         "stackgroup": "one",
         "type": "scatter",
         "x": [
          1900,
          1901,
          1902,
          1903,
          1904,
          1905,
          1906,
          1907,
          1908,
          1909,
          1910,
          1911,
          1912,
          1913,
          1914,
          1915,
          1916,
          1917,
          1918,
          1919,
          1920,
          1921,
          1922,
          1923,
          1924,
          1925,
          1926,
          1927,
          1928,
          1929,
          1930,
          1931,
          1932,
          1933,
          1934,
          1935,
          1936,
          1937,
          1938,
          1939,
          1940,
          1941,
          1942,
          1943,
          1944,
          1945,
          1946,
          1947,
          1948,
          1949,
          1950,
          1951,
          1952,
          1953,
          1954,
          1955,
          1956,
          1957,
          1958,
          1959,
          1960,
          1961,
          1962,
          1963,
          1964,
          1965,
          1966,
          1967,
          1968,
          1969,
          1970,
          1971,
          1972,
          1973,
          1974,
          1975,
          1976,
          1977,
          1978,
          1979,
          1980,
          1981,
          1982,
          1983,
          1984,
          1985,
          1986,
          1987,
          1988,
          1989,
          1990,
          1991,
          1992,
          1993,
          1994,
          1995,
          1996,
          1997,
          1998,
          1999,
          2000,
          2001,
          2002,
          2003,
          2004,
          2005,
          2006,
          2007,
          2008,
          2009,
          2010,
          2011,
          2012,
          2013,
          2014,
          2015,
          2016,
          2017,
          2018
         ],
         "y": [
          0,
          0,
          0,
          5.56,
          0,
          0,
          0,
          0,
          0,
          0,
          0,
          0,
          0,
          0,
          3.03,
          0,
          0,
          0,
          0,
          4.55,
          0,
          0,
          0,
          0,
          0,
          0,
          2.04,
          0,
          1.69,
          0,
          0.99,
          1.49,
          1.18,
          2.34,
          1.14,
          2.25,
          2.02,
          1.51,
          1.14,
          2.58,
          2.07,
          2.45,
          2.84,
          2.13,
          0.56,
          0.56,
          1.74,
          2.16,
          3.12,
          2.29,
          4.27,
          3.08,
          3.97,
          3.07,
          2.49,
          2.63,
          2.82,
          1.37,
          3.16,
          3.92,
          2.92,
          2.12,
          3.72,
          4.62,
          4.15,
          4.95,
          6.12,
          6.1,
          6.05,
          6.04,
          5.95,
          6.68,
          7.16,
          8.16,
          9.98,
          7.36,
          10.61,
          9.47,
          10.4,
          9.93,
          7.09,
          5.81,
          6.6,
          7.16,
          7.18,
          7.73,
          9.05,
          7.21,
          8.05,
          9.72,
          7.42,
          8.42,
          7.17,
          9.85,
          8.89,
          8.24,
          6.14,
          6.4,
          5.19,
          5.43,
          4.32,
          5.9,
          5.99,
          5.88,
          5.57,
          5.21,
          4.62,
          4.38,
          5.24,
          4.91,
          4.96,
          5.18,
          5.01,
          4.36,
          4.67,
          4.53,
          5.25,
          5.53,
          5.33
         ]
        },
        {
         "line": {
          "color": "#DD4477",
          "dash": "solid"
         },
         "mode": "lines",
         "name": "Romance",
         "stackgroup": "one",
         "type": "scatter",
         "x": [
          1900,
          1901,
          1902,
          1903,
          1904,
          1905,
          1906,
          1907,
          1908,
          1909,
          1910,
          1911,
          1912,
          1913,
          1914,
          1915,
          1916,
          1917,
          1918,
          1919,
          1920,
          1921,
          1922,
          1923,
          1924,
          1925,
          1926,
          1927,
          1928,
          1929,
          1930,
          1931,
          1932,
          1933,
          1934,
          1935,
          1936,
          1937,
          1938,
          1939,
          1940,
          1941,
          1942,
          1943,
          1944,
          1945,
          1946,
          1947,
          1948,
          1949,
          1950,
          1951,
          1952,
          1953,
          1954,
          1955,
          1956,
          1957,
          1958,
          1959,
          1960,
          1961,
          1962,
          1963,
          1964,
          1965,
          1966,
          1967,
          1968,
          1969,
          1970,
          1971,
          1972,
          1973,
          1974,
          1975,
          1976,
          1977,
          1978,
          1979,
          1980,
          1981,
          1982,
          1983,
          1984,
          1985,
          1986,
          1987,
          1988,
          1989,
          1990,
          1991,
          1992,
          1993,
          1994,
          1995,
          1996,
          1997,
          1998,
          1999,
          2000,
          2001,
          2002,
          2003,
          2004,
          2005,
          2006,
          2007,
          2008,
          2009,
          2010,
          2011,
          2012,
          2013,
          2014,
          2015,
          2016,
          2017,
          2018
         ],
         "y": [
          28.57,
          0,
          0,
          0,
          0,
          0,
          0,
          0,
          0,
          0,
          0,
          0,
          0,
          0,
          3.03,
          0,
          7.69,
          5.26,
          7.69,
          4.55,
          8.33,
          9.09,
          14.81,
          13.64,
          9.68,
          13.89,
          18.37,
          23.81,
          10.17,
          9.76,
          13.86,
          15.67,
          12.35,
          13.45,
          14.86,
          15.73,
          13.64,
          17.09,
          15.43,
          10.31,
          10.36,
          13.24,
          11.85,
          10.11,
          8.99,
          8.47,
          9.3,
          9.73,
          8.85,
          9.17,
          7.69,
          7.93,
          6.35,
          9.2,
          7.47,
          7.52,
          6.05,
          7.17,
          5.14,
          5.88,
          7.5,
          7.2,
          4.13,
          5.38,
          4.79,
          4.95,
          3.79,
          4.27,
          4.03,
          3.85,
          4.29,
          1.94,
          2.32,
          2.72,
          2.78,
          3.55,
          2.59,
          3.4,
          3.73,
          4.12,
          4.4,
          4.84,
          4.31,
          4.6,
          5.2,
          5.39,
          4.87,
          4.81,
          4.68,
          3.85,
          4.66,
          5.34,
          5.98,
          5.87,
          5.2,
          6.18,
          6.74,
          6.95,
          7.86,
          6.89,
          7.24,
          7.24,
          6.51,
          6.3,
          6.41,
          6.92,
          6.43,
          6.08,
          5.56,
          5.65,
          5.8,
          5.23,
          5.22,
          5.38,
          5.18,
          4.72,
          5.11,
          4.51,
          4.21
         ]
        },
        {
         "line": {
          "color": "#66AA00",
          "dash": "solid"
         },
         "mode": "lines",
         "name": "Sci-Fi",
         "stackgroup": "one",
         "type": "scatter",
         "x": [
          1900,
          1901,
          1902,
          1903,
          1904,
          1905,
          1906,
          1907,
          1908,
          1909,
          1910,
          1911,
          1912,
          1913,
          1914,
          1915,
          1916,
          1917,
          1918,
          1919,
          1920,
          1921,
          1922,
          1923,
          1924,
          1925,
          1926,
          1927,
          1928,
          1929,
          1930,
          1931,
          1932,
          1933,
          1934,
          1935,
          1936,
          1937,
          1938,
          1939,
          1940,
          1941,
          1942,
          1943,
          1944,
          1945,
          1946,
          1947,
          1948,
          1949,
          1950,
          1951,
          1952,
          1953,
          1954,
          1955,
          1956,
          1957,
          1958,
          1959,
          1960,
          1961,
          1962,
          1963,
          1964,
          1965,
          1966,
          1967,
          1968,
          1969,
          1970,
          1971,
          1972,
          1973,
          1974,
          1975,
          1976,
          1977,
          1978,
          1979,
          1980,
          1981,
          1982,
          1983,
          1984,
          1985,
          1986,
          1987,
          1988,
          1989,
          1990,
          1991,
          1992,
          1993,
          1994,
          1995,
          1996,
          1997,
          1998,
          1999,
          2000,
          2001,
          2002,
          2003,
          2004,
          2005,
          2006,
          2007,
          2008,
          2009,
          2010,
          2011,
          2012,
          2013,
          2014,
          2015,
          2016,
          2017,
          2018
         ],
         "y": [
          0,
          0,
          0,
          0,
          0,
          0,
          0,
          0,
          11.11,
          0,
          16.67,
          0,
          0,
          0,
          0,
          0,
          0,
          0,
          0,
          0,
          0,
          0,
          0,
          0,
          0,
          0,
          0,
          2.38,
          0,
          0,
          0,
          0.75,
          0,
          1.17,
          0,
          1.12,
          1.52,
          0,
          0,
          1.03,
          1.55,
          0,
          0,
          0.53,
          0.56,
          0,
          0,
          0,
          0,
          0,
          1.71,
          2.64,
          1.98,
          4.21,
          2.49,
          2.63,
          4.44,
          5.8,
          5.93,
          5.1,
          3.33,
          3.81,
          2.48,
          2.69,
          1.6,
          5.61,
          3.21,
          4.27,
          3.02,
          2.75,
          1.9,
          2.16,
          2.11,
          3.63,
          2.32,
          1.78,
          1.65,
          3.16,
          2.93,
          4.12,
          4.4,
          2.66,
          4.31,
          4.09,
          4.7,
          3.51,
          3.94,
          3.81,
          4.12,
          4.45,
          4.03,
          3.9,
          2.19,
          3.6,
          3.52,
          4.12,
          3.44,
          3.13,
          3.2,
          2.52,
          2.22,
          2.12,
          2.73,
          2.52,
          2.14,
          1.79,
          1.95,
          2.12,
          2.17,
          2.51,
          2.42,
          2.34,
          2.29,
          2.55,
          2.83,
          3.1,
          2.41,
          3.31,
          3.97
         ]
        },
        {
         "line": {
          "color": "#B82E2E",
          "dash": "solid"
         },
         "mode": "lines",
         "name": "Crime",
         "stackgroup": "one",
         "type": "scatter",
         "x": [
          1900,
          1901,
          1902,
          1903,
          1904,
          1905,
          1906,
          1907,
          1908,
          1909,
          1910,
          1911,
          1912,
          1913,
          1914,
          1915,
          1916,
          1917,
          1918,
          1919,
          1920,
          1921,
          1922,
          1923,
          1924,
          1925,
          1926,
          1927,
          1928,
          1929,
          1930,
          1931,
          1932,
          1933,
          1934,
          1935,
          1936,
          1937,
          1938,
          1939,
          1940,
          1941,
          1942,
          1943,
          1944,
          1945,
          1946,
          1947,
          1948,
          1949,
          1950,
          1951,
          1952,
          1953,
          1954,
          1955,
          1956,
          1957,
          1958,
          1959,
          1960,
          1961,
          1962,
          1963,
          1964,
          1965,
          1966,
          1967,
          1968,
          1969,
          1970,
          1971,
          1972,
          1973,
          1974,
          1975,
          1976,
          1977,
          1978,
          1979,
          1980,
          1981,
          1982,
          1983,
          1984,
          1985,
          1986,
          1987,
          1988,
          1989,
          1990,
          1991,
          1992,
          1993,
          1994,
          1995,
          1996,
          1997,
          1998,
          1999,
          2000,
          2001,
          2002,
          2003,
          2004,
          2005,
          2006,
          2007,
          2008,
          2009,
          2010,
          2011,
          2012,
          2013,
          2014,
          2015,
          2016,
          2017,
          2018
         ],
         "y": [
          0,
          12.5,
          0,
          5.56,
          0,
          0,
          0,
          0,
          0,
          0,
          0,
          0,
          0,
          14.29,
          3.03,
          0,
          0,
          0,
          0,
          0,
          0,
          0,
          0,
          0,
          0,
          0,
          2.04,
          2.38,
          1.69,
          2.44,
          2.97,
          5.97,
          4.12,
          3.51,
          4.57,
          4.49,
          5.05,
          4.52,
          5.14,
          8.25,
          3.63,
          3.43,
          5.21,
          2.13,
          3.93,
          2.82,
          8.72,
          7.03,
          7.29,
          7.34,
          7.69,
          7.49,
          3.97,
          4.6,
          5.81,
          7.14,
          4.84,
          3.75,
          5.14,
          5.49,
          7.08,
          4.24,
          4.96,
          4.23,
          3.51,
          2.97,
          4.37,
          4.57,
          6.05,
          3.85,
          4.05,
          4.53,
          4.84,
          10.43,
          6.5,
          7.36,
          6.13,
          4.61,
          4.53,
          4.84,
          2.69,
          2.91,
          3.05,
          3.32,
          2.23,
          3.04,
          3.48,
          3.41,
          3.56,
          4.05,
          4.24,
          3.9,
          3.98,
          3.6,
          3.02,
          3.49,
          4.34,
          3.95,
          4.66,
          3.05,
          3.62,
          3.56,
          4.62,
          4.1,
          2.88,
          3.07,
          3.4,
          3.6,
          3.13,
          2.97,
          2.84,
          2.67,
          2.83,
          2.89,
          2.92,
          2.39,
          2.36,
          2.74,
          2.97
         ]
        },
        {
         "line": {
          "color": "#316395",
          "dash": "solid"
         },
         "mode": "lines",
         "name": "Adventure",
         "stackgroup": "one",
         "type": "scatter",
         "x": [
          1900,
          1901,
          1902,
          1903,
          1904,
          1905,
          1906,
          1907,
          1908,
          1909,
          1910,
          1911,
          1912,
          1913,
          1914,
          1915,
          1916,
          1917,
          1918,
          1919,
          1920,
          1921,
          1922,
          1923,
          1924,
          1925,
          1926,
          1927,
          1928,
          1929,
          1930,
          1931,
          1932,
          1933,
          1934,
          1935,
          1936,
          1937,
          1938,
          1939,
          1940,
          1941,
          1942,
          1943,
          1944,
          1945,
          1946,
          1947,
          1948,
          1949,
          1950,
          1951,
          1952,
          1953,
          1954,
          1955,
          1956,
          1957,
          1958,
          1959,
          1960,
          1961,
          1962,
          1963,
          1964,
          1965,
          1966,
          1967,
          1968,
          1969,
          1970,
          1971,
          1972,
          1973,
          1974,
          1975,
          1976,
          1977,
          1978,
          1979,
          1980,
          1981,
          1982,
          1983,
          1984,
          1985,
          1986,
          1987,
          1988,
          1989,
          1990,
          1991,
          1992,
          1993,
          1994,
          1995,
          1996,
          1997,
          1998,
          1999,
          2000,
          2001,
          2002,
          2003,
          2004,
          2005,
          2006,
          2007,
          2008,
          2009,
          2010,
          2011,
          2012,
          2013,
          2014,
          2015,
          2016,
          2017,
          2018
         ],
         "y": [
          0,
          0,
          0,
          0,
          0,
          0,
          0,
          0,
          0,
          0,
          0,
          0,
          0,
          0,
          3.03,
          0,
          3.85,
          5.26,
          0,
          0,
          4.17,
          3.03,
          3.7,
          0,
          3.23,
          5.56,
          2.04,
          2.38,
          0,
          2.44,
          0.99,
          1.49,
          2.94,
          2.34,
          1.71,
          3.93,
          2.53,
          4.52,
          4,
          5.67,
          4.15,
          2.45,
          1.9,
          2.13,
          2.25,
          2.82,
          1.16,
          4.32,
          2.08,
          3.67,
          4.27,
          2.64,
          6.35,
          6.13,
          9.13,
          4.14,
          4.84,
          4.1,
          4.74,
          4.71,
          5.42,
          6.36,
          4.96,
          6.15,
          6.39,
          4.62,
          7.29,
          5.18,
          3.78,
          3.57,
          2.14,
          3.66,
          2.32,
          3.4,
          2.55,
          3.3,
          2.83,
          4.37,
          3.2,
          3.63,
          2.93,
          3.63,
          3.3,
          3.58,
          3.47,
          4.22,
          3.94,
          3.41,
          2.62,
          3.04,
          4.03,
          2.67,
          2.59,
          2.84,
          3.86,
          2.69,
          2.99,
          2.86,
          2.4,
          1.72,
          1.4,
          2.23,
          2.42,
          2.21,
          2.79,
          2.13,
          2.38,
          1.98,
          2.36,
          2.06,
          2.06,
          2.17,
          2.03,
          2.2,
          2.12,
          2.34,
          1.96,
          1.88,
          2.23
         ]
        }
       ],
       "layout": {
        "annotations": [
         {
          "font": {
           "color": "white",
           "size": 18
          },
          "showarrow": false,
          "text": "not enough data",
          "x": 1900,
          "xanchor": "left",
          "xref": "x",
          "y": 0,
          "yanchor": "bottom",
          "yref": "y domain"
         }
        ],
        "shapes": [
         {
          "fillcolor": "black",
          "line": {
           "width": 0
          },
          "opacity": 0.4,
          "type": "rect",
          "x0": 1900,
          "x1": 1920,
          "xref": "x",
          "y0": 0,
          "y1": 1,
          "yref": "y domain"
         }
        ],
        "template": {
         "data": {
          "bar": [
           {
            "error_x": {
             "color": "#f2f5fa"
            },
            "error_y": {
             "color": "#f2f5fa"
            },
            "marker": {
             "line": {
              "color": "rgb(17,17,17)",
              "width": 0.5
             },
             "pattern": {
              "fillmode": "overlay",
              "size": 10,
              "solidity": 0.2
             }
            },
            "type": "bar"
           }
          ],
          "barpolar": [
           {
            "marker": {
             "line": {
              "color": "rgb(17,17,17)",
              "width": 0.5
             },
             "pattern": {
              "fillmode": "overlay",
              "size": 10,
              "solidity": 0.2
             }
            },
            "type": "barpolar"
           }
          ],
          "carpet": [
           {
            "aaxis": {
             "endlinecolor": "#A2B1C6",
             "gridcolor": "#506784",
             "linecolor": "#506784",
             "minorgridcolor": "#506784",
             "startlinecolor": "#A2B1C6"
            },
            "baxis": {
             "endlinecolor": "#A2B1C6",
             "gridcolor": "#506784",
             "linecolor": "#506784",
             "minorgridcolor": "#506784",
             "startlinecolor": "#A2B1C6"
            },
            "type": "carpet"
           }
          ],
          "choropleth": [
           {
            "colorbar": {
             "outlinewidth": 0,
             "ticks": ""
            },
            "type": "choropleth"
           }
          ],
          "contour": [
           {
            "colorbar": {
             "outlinewidth": 0,
             "ticks": ""
            },
            "colorscale": [
             [
              0,
              "#0d0887"
             ],
             [
              0.1111111111111111,
              "#46039f"
             ],
             [
              0.2222222222222222,
              "#7201a8"
             ],
             [
              0.3333333333333333,
              "#9c179e"
             ],
             [
              0.4444444444444444,
              "#bd3786"
             ],
             [
              0.5555555555555556,
              "#d8576b"
             ],
             [
              0.6666666666666666,
              "#ed7953"
             ],
             [
              0.7777777777777778,
              "#fb9f3a"
             ],
             [
              0.8888888888888888,
              "#fdca26"
             ],
             [
              1,
              "#f0f921"
             ]
            ],
            "type": "contour"
           }
          ],
          "contourcarpet": [
           {
            "colorbar": {
             "outlinewidth": 0,
             "ticks": ""
            },
            "type": "contourcarpet"
           }
          ],
          "heatmap": [
           {
            "colorbar": {
             "outlinewidth": 0,
             "ticks": ""
            },
            "colorscale": [
             [
              0,
              "#0d0887"
             ],
             [
              0.1111111111111111,
              "#46039f"
             ],
             [
              0.2222222222222222,
              "#7201a8"
             ],
             [
              0.3333333333333333,
              "#9c179e"
             ],
             [
              0.4444444444444444,
              "#bd3786"
             ],
             [
              0.5555555555555556,
              "#d8576b"
             ],
             [
              0.6666666666666666,
              "#ed7953"
             ],
             [
              0.7777777777777778,
              "#fb9f3a"
             ],
             [
              0.8888888888888888,
              "#fdca26"
             ],
             [
              1,
              "#f0f921"
             ]
            ],
            "type": "heatmap"
           }
          ],
          "heatmapgl": [
           {
            "colorbar": {
             "outlinewidth": 0,
             "ticks": ""
            },
            "colorscale": [
             [
              0,
              "#0d0887"
             ],
             [
              0.1111111111111111,
              "#46039f"
             ],
             [
              0.2222222222222222,
              "#7201a8"
             ],
             [
              0.3333333333333333,
              "#9c179e"
             ],
             [
              0.4444444444444444,
              "#bd3786"
             ],
             [
              0.5555555555555556,
              "#d8576b"
             ],
             [
              0.6666666666666666,
              "#ed7953"
             ],
             [
              0.7777777777777778,
              "#fb9f3a"
             ],
             [
              0.8888888888888888,
              "#fdca26"
             ],
             [
              1,
              "#f0f921"
             ]
            ],
            "type": "heatmapgl"
           }
          ],
          "histogram": [
           {
            "marker": {
             "pattern": {
              "fillmode": "overlay",
              "size": 10,
              "solidity": 0.2
             }
            },
            "type": "histogram"
           }
          ],
          "histogram2d": [
           {
            "colorbar": {
             "outlinewidth": 0,
             "ticks": ""
            },
            "colorscale": [
             [
              0,
              "#0d0887"
             ],
             [
              0.1111111111111111,
              "#46039f"
             ],
             [
              0.2222222222222222,
              "#7201a8"
             ],
             [
              0.3333333333333333,
              "#9c179e"
             ],
             [
              0.4444444444444444,
              "#bd3786"
             ],
             [
              0.5555555555555556,
              "#d8576b"
             ],
             [
              0.6666666666666666,
              "#ed7953"
             ],
             [
              0.7777777777777778,
              "#fb9f3a"
             ],
             [
              0.8888888888888888,
              "#fdca26"
             ],
             [
              1,
              "#f0f921"
             ]
            ],
            "type": "histogram2d"
           }
          ],
          "histogram2dcontour": [
           {
            "colorbar": {
             "outlinewidth": 0,
             "ticks": ""
            },
            "colorscale": [
             [
              0,
              "#0d0887"
             ],
             [
              0.1111111111111111,
              "#46039f"
             ],
             [
              0.2222222222222222,
              "#7201a8"
             ],
             [
              0.3333333333333333,
              "#9c179e"
             ],
             [
              0.4444444444444444,
              "#bd3786"
             ],
             [
              0.5555555555555556,
              "#d8576b"
             ],
             [
              0.6666666666666666,
              "#ed7953"
             ],
             [
              0.7777777777777778,
              "#fb9f3a"
             ],
             [
              0.8888888888888888,
              "#fdca26"
             ],
             [
              1,
              "#f0f921"
             ]
            ],
            "type": "histogram2dcontour"
           }
          ],
          "mesh3d": [
           {
            "colorbar": {
             "outlinewidth": 0,
             "ticks": ""
            },
            "type": "mesh3d"
           }
          ],
          "parcoords": [
           {
            "line": {
             "colorbar": {
              "outlinewidth": 0,
              "ticks": ""
             }
            },
            "type": "parcoords"
           }
          ],
          "pie": [
           {
            "automargin": true,
            "type": "pie"
           }
          ],
          "scatter": [
           {
            "marker": {
             "line": {
              "color": "#283442"
             }
            },
            "type": "scatter"
           }
          ],
          "scatter3d": [
           {
            "line": {
             "colorbar": {
              "outlinewidth": 0,
              "ticks": ""
             }
            },
            "marker": {
             "colorbar": {
              "outlinewidth": 0,
              "ticks": ""
             }
            },
            "type": "scatter3d"
           }
          ],
          "scattercarpet": [
           {
            "marker": {
             "colorbar": {
              "outlinewidth": 0,
              "ticks": ""
             }
            },
            "type": "scattercarpet"
           }
          ],
          "scattergeo": [
           {
            "marker": {
             "colorbar": {
              "outlinewidth": 0,
              "ticks": ""
             }
            },
            "type": "scattergeo"
           }
          ],
          "scattergl": [
           {
            "marker": {
             "line": {
              "color": "#283442"
             }
            },
            "type": "scattergl"
           }
          ],
          "scattermapbox": [
           {
            "marker": {
             "colorbar": {
              "outlinewidth": 0,
              "ticks": ""
             }
            },
            "type": "scattermapbox"
           }
          ],
          "scatterpolar": [
           {
            "marker": {
             "colorbar": {
              "outlinewidth": 0,
              "ticks": ""
             }
            },
            "type": "scatterpolar"
           }
          ],
          "scatterpolargl": [
           {
            "marker": {
             "colorbar": {
              "outlinewidth": 0,
              "ticks": ""
             }
            },
            "type": "scatterpolargl"
           }
          ],
          "scatterternary": [
           {
            "marker": {
             "colorbar": {
              "outlinewidth": 0,
              "ticks": ""
             }
            },
            "type": "scatterternary"
           }
          ],
          "surface": [
           {
            "colorbar": {
             "outlinewidth": 0,
             "ticks": ""
            },
            "colorscale": [
             [
              0,
              "#0d0887"
             ],
             [
              0.1111111111111111,
              "#46039f"
             ],
             [
              0.2222222222222222,
              "#7201a8"
             ],
             [
              0.3333333333333333,
              "#9c179e"
             ],
             [
              0.4444444444444444,
              "#bd3786"
             ],
             [
              0.5555555555555556,
              "#d8576b"
             ],
             [
              0.6666666666666666,
              "#ed7953"
             ],
             [
              0.7777777777777778,
              "#fb9f3a"
             ],
             [
              0.8888888888888888,
              "#fdca26"
             ],
             [
              1,
              "#f0f921"
             ]
            ],
            "type": "surface"
           }
          ],
          "table": [
           {
            "cells": {
             "fill": {
              "color": "#506784"
             },
             "line": {
              "color": "rgb(17,17,17)"
             }
            },
            "header": {
             "fill": {
              "color": "#2a3f5f"
             },
             "line": {
              "color": "rgb(17,17,17)"
             }
            },
            "type": "table"
           }
          ]
         },
         "layout": {
          "annotationdefaults": {
           "arrowcolor": "#f2f5fa",
           "arrowhead": 0,
           "arrowwidth": 1
          },
          "autotypenumbers": "strict",
          "coloraxis": {
           "colorbar": {
            "outlinewidth": 0,
            "ticks": ""
           }
          },
          "colorscale": {
           "diverging": [
            [
             0,
             "#8e0152"
            ],
            [
             0.1,
             "#c51b7d"
            ],
            [
             0.2,
             "#de77ae"
            ],
            [
             0.3,
             "#f1b6da"
            ],
            [
             0.4,
             "#fde0ef"
            ],
            [
             0.5,
             "#f7f7f7"
            ],
            [
             0.6,
             "#e6f5d0"
            ],
            [
             0.7,
             "#b8e186"
            ],
            [
             0.8,
             "#7fbc41"
            ],
            [
             0.9,
             "#4d9221"
            ],
            [
             1,
             "#276419"
            ]
           ],
           "sequential": [
            [
             0,
             "#0d0887"
            ],
            [
             0.1111111111111111,
             "#46039f"
            ],
            [
             0.2222222222222222,
             "#7201a8"
            ],
            [
             0.3333333333333333,
             "#9c179e"
            ],
            [
             0.4444444444444444,
             "#bd3786"
            ],
            [
             0.5555555555555556,
             "#d8576b"
            ],
            [
             0.6666666666666666,
             "#ed7953"
            ],
            [
             0.7777777777777778,
             "#fb9f3a"
            ],
            [
             0.8888888888888888,
             "#fdca26"
            ],
            [
             1,
             "#f0f921"
            ]
           ],
           "sequentialminus": [
            [
             0,
             "#0d0887"
            ],
            [
             0.1111111111111111,
             "#46039f"
            ],
            [
             0.2222222222222222,
             "#7201a8"
            ],
            [
             0.3333333333333333,
             "#9c179e"
            ],
            [
             0.4444444444444444,
             "#bd3786"
            ],
            [
             0.5555555555555556,
             "#d8576b"
            ],
            [
             0.6666666666666666,
             "#ed7953"
            ],
            [
             0.7777777777777778,
             "#fb9f3a"
            ],
            [
             0.8888888888888888,
             "#fdca26"
            ],
            [
             1,
             "#f0f921"
            ]
           ]
          },
          "colorway": [
           "#636efa",
           "#EF553B",
           "#00cc96",
           "#ab63fa",
           "#FFA15A",
           "#19d3f3",
           "#FF6692",
           "#B6E880",
           "#FF97FF",
           "#FECB52"
          ],
          "font": {
           "color": "#f2f5fa"
          },
          "geo": {
           "bgcolor": "rgb(17,17,17)",
           "lakecolor": "rgb(17,17,17)",
           "landcolor": "rgb(17,17,17)",
           "showlakes": true,
           "showland": true,
           "subunitcolor": "#506784"
          },
          "hoverlabel": {
           "align": "left"
          },
          "hovermode": "closest",
          "mapbox": {
           "style": "dark"
          },
          "paper_bgcolor": "rgb(17,17,17)",
          "plot_bgcolor": "rgb(17,17,17)",
          "polar": {
           "angularaxis": {
            "gridcolor": "#506784",
            "linecolor": "#506784",
            "ticks": ""
           },
           "bgcolor": "rgb(17,17,17)",
           "radialaxis": {
            "gridcolor": "#506784",
            "linecolor": "#506784",
            "ticks": ""
           }
          },
          "scene": {
           "xaxis": {
            "backgroundcolor": "rgb(17,17,17)",
            "gridcolor": "#506784",
            "gridwidth": 2,
            "linecolor": "#506784",
            "showbackground": true,
            "ticks": "",
            "zerolinecolor": "#C8D4E3"
           },
           "yaxis": {
            "backgroundcolor": "rgb(17,17,17)",
            "gridcolor": "#506784",
            "gridwidth": 2,
            "linecolor": "#506784",
            "showbackground": true,
            "ticks": "",
            "zerolinecolor": "#C8D4E3"
           },
           "zaxis": {
            "backgroundcolor": "rgb(17,17,17)",
            "gridcolor": "#506784",
            "gridwidth": 2,
            "linecolor": "#506784",
            "showbackground": true,
            "ticks": "",
            "zerolinecolor": "#C8D4E3"
           }
          },
          "shapedefaults": {
           "line": {
            "color": "#f2f5fa"
           }
          },
          "sliderdefaults": {
           "bgcolor": "#C8D4E3",
           "bordercolor": "rgb(17,17,17)",
           "borderwidth": 1,
           "tickwidth": 0
          },
          "ternary": {
           "aaxis": {
            "gridcolor": "#506784",
            "linecolor": "#506784",
            "ticks": ""
           },
           "baxis": {
            "gridcolor": "#506784",
            "linecolor": "#506784",
            "ticks": ""
           },
           "bgcolor": "rgb(17,17,17)",
           "caxis": {
            "gridcolor": "#506784",
            "linecolor": "#506784",
            "ticks": ""
           }
          },
          "title": {
           "x": 0.05
          },
          "updatemenudefaults": {
           "bgcolor": "#506784",
           "borderwidth": 0
          },
          "xaxis": {
           "automargin": true,
           "gridcolor": "#283442",
           "linecolor": "#506784",
           "ticks": "",
           "title": {
            "standoff": 15
           },
           "zerolinecolor": "#283442",
           "zerolinewidth": 2
          },
          "yaxis": {
           "automargin": true,
           "gridcolor": "#283442",
           "linecolor": "#506784",
           "ticks": "",
           "title": {
            "standoff": 15
           },
           "zerolinecolor": "#283442",
           "zerolinewidth": 2
          }
         }
        },
        "title": {
         "text": "Genre popularity over time"
        },
        "xaxis": {
         "range": [
          1900,
          2018
         ],
         "title": {
          "font": {
           "size": 16
          },
          "text": "Time in years"
         }
        },
        "yaxis": {
         "range": [
          0,
          100
         ],
         "title": {
          "font": {
           "size": 16
          },
          "text": "Share of genre [%]"
         }
        }
       }
      }
     },
     "metadata": {},
     "output_type": "display_data"
    }
   ],
   "source": [
    "pio.templates.default = \"plotly_dark\"\n",
    "\n",
    "top10genres = genres_hist.loc[2018].sort_values(ascending=False).head(10).index.to_list()\n",
    "\n",
    "color_seq = px.colors.qualitative.G10\n",
    "color_seq_count = 0\n",
    "\n",
    "fig3 = go.Figure()\n",
    "for genre in top10genres:\n",
    "    color = color_seq[color_seq_count]\n",
    "    color_seq_count+=1\n",
    "    fig3.add_trace(go.Scatter(x=genres_hist.index,\n",
    "                         y=genres_hist[genre],\n",
    "                         #fill='tozeroy', #fill down to xaxis\n",
    "                         #fillcolor='orange',\n",
    "                         mode='lines',\n",
    "                         line={'dash': 'solid', 'color': color},\n",
    "                         name=genre,\n",
    "                         stackgroup='one',\n",
    "                         ))\n",
    "fig3.update_layout(\n",
    "    xaxis=dict(\n",
    "        title='Time in years',\n",
    "        titlefont_size=16\n",
    "    ),\n",
    "    yaxis=dict(\n",
    "        title='Share of genre [%]',\n",
    "        titlefont_size=16\n",
    "    ),\n",
    "    yaxis_range=(0,100),\n",
    "    xaxis_range=(1900,2018),\n",
    "    title=\"Genre popularity over time\"\n",
    ")\n",
    "fig3.add_vrect(x0=1900,x1=1920,line_width=0,fillcolor='black',opacity=0.4,annotation_text=\"not enough data\",annotation_position=\"bottom left\",\n",
    "    annotation=dict(font_size=18,font_color='white')\n",
    ")\n",
    "fig3.show()"
   ]
  }
 ],
 "metadata": {
  "kernelspec": {
   "display_name": "hslu",
   "language": "python",
   "name": "python3"
  },
  "language_info": {
   "codemirror_mode": {
    "name": "ipython",
    "version": 3
   },
   "file_extension": ".py",
   "mimetype": "text/x-python",
   "name": "python",
   "nbconvert_exporter": "python",
   "pygments_lexer": "ipython3",
   "version": "3.10.6 | packaged by conda-forge | (main, Oct 24 2022, 16:02:16) [MSC v.1916 64 bit (AMD64)]"
  },
  "orig_nbformat": 4,
  "vscode": {
   "interpreter": {
    "hash": "e4966d2a7585fd1cffe75d2f63d56b8e758449507e2d4de7f8c723faeaf963fb"
   }
  }
 },
 "nbformat": 4,
 "nbformat_minor": 2
}
