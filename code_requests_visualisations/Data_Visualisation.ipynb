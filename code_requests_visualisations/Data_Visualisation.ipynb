{
 "cells": [
  {
   "cell_type": "code",
   "execution_count": null,
   "metadata": {},
   "outputs": [],
   "source": [
    "#1. Bibliotheken importieren\n",
    "import mysql.connector as mysql\n",
    "import pandas as pd\n",
    "import plotly.express as px\n",
    "import plotly.graph_objects as go\n",
    "import plotly.io as pio\n",
    "from plotly import tools\n",
    "import warnings\n",
    "warnings.simplefilter(action='ignore', category=pd.errors.PerformanceWarning)"
   ]
  },
  {
   "cell_type": "code",
   "execution_count": null,
   "metadata": {},
   "outputs": [],
   "source": [
    "\"\"\"cursor.execute(\"SHOW DATABASES\")\n",
    "\n",
    "for x in cursor:\n",
    "  print(x)\"\"\""
   ]
  },
  {
   "cell_type": "code",
   "execution_count": null,
   "metadata": {},
   "outputs": [],
   "source": [
    "#Read all the credentials from external file\n",
    "credentials = pd.read_csv('../credentials/credentials.csv')\n",
    "\n",
    "database_adress = credentials['Host'].iloc[0]\n",
    "database_user = credentials['User'].iloc[0]\n",
    "database_password = credentials['Password'].iloc[0]\n",
    "database_name = credentials['Database'].iloc[0]\n",
    "\n",
    "print(database_user)"
   ]
  },
  {
   "cell_type": "code",
   "execution_count": null,
   "metadata": {},
   "outputs": [],
   "source": [
    "#Connect to Database\n",
    "db = mysql.connect(host=database_adress, user=database_user, passwd=database_password, database=database_name)\n",
    "cursor = db.cursor()\n",
    "\n",
    "#Form and execute query\n",
    "query = \"SELECT * FROM movies;\" ## Read from DB\n",
    "cursor.execute(query)\n",
    "\n",
    "#Load query in Dataframe and print it out\n",
    "all_movies = pd.DataFrame(list(cursor), columns=['id', 'title', 'year'])\n",
    "\n",
    "all_movies.iloc[0:10].style.hide_index()\n"
   ]
  },
  {
   "cell_type": "code",
   "execution_count": null,
   "metadata": {},
   "outputs": [],
   "source": [
    "from sqlalchemy import create_engine\n",
    "import matplotlib.pyplot as plt"
   ]
  },
  {
   "cell_type": "code",
   "execution_count": null,
   "metadata": {},
   "outputs": [],
   "source": [
    "db_connection_str = f\"mysql+pymysql://{database_user}:{database_password}@{database_adress}/{database_name}\"\n",
    "db_connection = create_engine(db_connection_str)"
   ]
  },
  {
   "cell_type": "code",
   "execution_count": null,
   "metadata": {},
   "outputs": [],
   "source": [
    "all_movies = pd.read_sql('SELECT * FROM movies ORDER BY release_year', con=db_connection)"
   ]
  },
  {
   "cell_type": "code",
   "execution_count": null,
   "metadata": {},
   "outputs": [],
   "source": [
    "all_movies.head(400)"
   ]
  },
  {
   "cell_type": "code",
   "execution_count": null,
   "metadata": {},
   "outputs": [],
   "source": [
    "fig, ax = plt.subplots(figsize=(10,5))\n",
    "\n",
    "year = pd.DataFrame(all_movies['release_year'].drop_duplicates())\n",
    "count = all_movies.groupby(['release_year'])['movieId'].count()\n",
    "\n",
    "year_count = pd.merge(year, count, on=[\"release_year\", \"release_year\"])\n",
    "year_count.rename(columns = {'movieId':'count'}, inplace=True)\n",
    "\n",
    "year_count.drop(0, inplace=True)\n",
    "year_count.drop(year_count.index[len(year_count)-1], inplace=True)\n",
    "\n",
    "ax.bar(year_count['release_year'], year_count['count'], color ='maroon',\n",
    "      width = 0.4)\n",
    "\n",
    "ax.set_title(\"Released movies over time\")\n",
    "#ax.set_xlim(1850,2018)"
   ]
  },
  {
   "cell_type": "code",
   "execution_count": null,
   "metadata": {},
   "outputs": [],
   "source": [
    "year_count['release_year'].head()"
   ]
  },
  {
   "cell_type": "code",
   "execution_count": null,
   "metadata": {},
   "outputs": [],
   "source": [
    "all_movies.groupby(['release_year']).head()#['movieId'].count()"
   ]
  },
  {
   "cell_type": "code",
   "execution_count": null,
   "metadata": {},
   "outputs": [],
   "source": [
    "count = all_movies.groupby(['release_year'])['movieId'].count()\n",
    "\n",
    "test_fig, test_ax = plt.subplots(figsize=(10,5))\n",
    "\n",
    "count = count.drop([-1])\n",
    "count = count.drop([2018])\n",
    "\n",
    "test_ax.bar(count.index, count.values, color ='maroon')\n",
    "\n",
    "test_ax.set_title(\"Released movies over time\")"
   ]
  },
  {
   "cell_type": "code",
   "execution_count": null,
   "metadata": {},
   "outputs": [],
   "source": [
    "all_movies.groupby(['release_year']).head()"
   ]
  },
  {
   "cell_type": "code",
   "execution_count": null,
   "metadata": {},
   "outputs": [],
   "source": [
    "movies_with_genres = pd.read_sql(\"\"\"SELECT m.movieId, m.title, g.genrename FROM movies as m \n",
    "INNER JOIN movies_genres as mg ON m.movieID = mg.movieId\n",
    "INNER JOIN genres as g ON mg.genreId = g.genreId\n",
    "ORDER BY m.movieId;\"\"\", con=db_connection)"
   ]
  },
  {
   "cell_type": "code",
   "execution_count": null,
   "metadata": {},
   "outputs": [],
   "source": [
    "genres = pd.read_sql(\"\"\"SELECT * FROM genres;\"\"\", con=db_connection)"
   ]
  },
  {
   "cell_type": "code",
   "execution_count": null,
   "metadata": {},
   "outputs": [],
   "source": [
    "genres_count = movies_with_genres.groupby(['genrename'])['movieId'].count()\n",
    "\n",
    "genres_count_fig, genres_count_ax = plt.subplots(figsize=(30,15))\n",
    "#genres_count.head()\n",
    "genres_count_ax.bar(genres_count.index, genres_count.values, color ='maroon')"
   ]
  },
  {
   "cell_type": "code",
   "execution_count": null,
   "metadata": {},
   "outputs": [],
   "source": [
    "genres.count()"
   ]
  },
  {
   "cell_type": "code",
   "execution_count": null,
   "metadata": {},
   "outputs": [],
   "source": [
    "genres_df = pd.read_sql('SELECT mg.movieId,mg.genreId,g.genrename FROM movies_genres AS mg INNER JOIN genres AS g ON mg.genreId=g.genreId;', con=db_connection)"
   ]
  },
  {
   "cell_type": "code",
   "execution_count": null,
   "metadata": {},
   "outputs": [],
   "source": [
    "genres_df.groupby(['genrename'])['movieId'].count()"
   ]
  },
  {
   "attachments": {},
   "cell_type": "markdown",
   "metadata": {},
   "source": [
    "## (1) Released movies over time (in Plotly)"
   ]
  },
  {
   "cell_type": "code",
   "execution_count": null,
   "metadata": {},
   "outputs": [],
   "source": [
    "all_movies = pd.read_sql('SELECT * FROM movies ORDER BY release_year', con=db_connection)"
   ]
  },
  {
   "cell_type": "code",
   "execution_count": null,
   "metadata": {},
   "outputs": [],
   "source": [
    "count = all_movies.groupby(['release_year'])['movieId'].count()\n",
    "\n",
    "noyear_count = count[-1]\n",
    "print(f'Movies without year: {noyear_count} or {((noyear_count / count.values.sum())*100):.2f}%')\n",
    "\n",
    "count = count.drop([-1])\n",
    "count = count.drop([2018])\n",
    "\n",
    "count_df = count.to_frame()\n",
    "\n",
    "fig1 = px.bar(count_df, x=count_df.index, y='movieId', title='Released movies over time',\n",
    "labels={\n",
    "                     \"release_year\": \"Year of release\",\n",
    "                     \"movieId\": \"Amount of movies\"\n",
    "                 },\n",
    "                )\n",
    "            \n",
    "fig1.update_layout(\n",
    "    xaxis=dict(\n",
    "        title='Year of release',\n",
    "        titlefont_size=16\n",
    "    ),\n",
    "    yaxis=dict(\n",
    "        title='Amount of movies',\n",
    "        titlefont_size=16\n",
    "    )\n",
    ")\n",
    "fig1.update_traces(marker_color='maroon')\n",
    "fig1.show()"
   ]
  },
  {
   "attachments": {},
   "cell_type": "markdown",
   "metadata": {},
   "source": [
    "## (3) Genre share over time\n",
    "\n",
    "Diagram Type: 100% Stacked Area Chart (https://codejock.com/products/chart/100-stacked-area-chart.asp)\n",
    "\n",
    "**Challenges**\n",
    "* [OK] Multiple genres\n",
    "* [OK] Amount of genres to display"
   ]
  },
  {
   "cell_type": "code",
   "execution_count": null,
   "metadata": {},
   "outputs": [],
   "source": [
    "movies_genres = pd.read_sql('SELECT m.movieId, m.title, m.release_year, g.genreId, g.genrename FROM movies as m inner join movies_genres as mg on m.movieId=mg.movieId inner join genres as g on mg.genreId=g.genreId order by m.movieId', con=db_connection)\n",
    "movies_genres[:10]"
   ]
  },
  {
   "cell_type": "code",
   "execution_count": null,
   "metadata": {},
   "outputs": [],
   "source": [
    "print(f'Average genres per film: {len(movies_genres) / len(movies_genres.movieId.unique()):.2f}')\n",
    "print('\\nCheck total distribution')\n",
    "genres_total_dist = movies_genres.genrename.value_counts().to_frame()\n",
    "genres_total_dist['share'] = genres_total_dist.apply(lambda x: (x / genres_total_dist.genrename.sum()*100))\n",
    "print(genres_total_dist)"
   ]
  },
  {
   "cell_type": "code",
   "execution_count": null,
   "metadata": {},
   "outputs": [],
   "source": [
    "#Calculating right share based on amount of genres\n",
    "#For example: Jumanji (1995) has 3 genres assigned. Every genre should only count 1/3. \n",
    "\n",
    "#DISCLAIMER: can take up to 5min! not optimized yet!\n",
    "\n",
    "genres_hist = pd.DataFrame(index=movies_genres.genrename.unique())\n",
    "\n",
    "for year in range(1900,2018+1):\n",
    "    q = movies_genres.query(f'release_year == {year}').copy()\n",
    "    q['genre_vote'] = q['movieId'].apply(lambda x: (1/len(q.query(f'movieId == {x}'))))\n",
    "    q = q.groupby(by='genrename').sum()\n",
    "    q = q['genre_vote']\n",
    "    q = q.round(decimals=2)\n",
    "    genres_hist[year] = q\n",
    "\n",
    "\n",
    "#old approach: absolute amount genre per year\n",
    "\"\"\"\n",
    "for year in range(1900,2018+1):\n",
    "    genres_hist[year] = movies_genres.query(f'release_year == {year}').genrename.value_counts()\n",
    "\"\"\""
   ]
  },
  {
   "cell_type": "code",
   "execution_count": null,
   "metadata": {},
   "outputs": [],
   "source": [
    "#Fill na with 0 and set type int\n",
    "genres_hist.fillna(0,inplace=True)\n",
    "genres_hist = genres_hist.astype(int)\n",
    "\n",
    "#calculate relative share for every year\n",
    "for year in range(1900,2018+1):\n",
    "    sum = genres_hist[year].sum()\n",
    "    genres_hist[year] = genres_hist[year].apply(lambda x: round((x / sum)*100,2))\n",
    "\n",
    "#Transpose for easier data access\n",
    "genres_hist = genres_hist.T\n",
    "genres_hist"
   ]
  },
  {
   "cell_type": "code",
   "execution_count": null,
   "metadata": {},
   "outputs": [],
   "source": [
    "pio.templates.default = \"plotly_dark\"\n",
    "\n",
    "top10genres = genres_hist.loc[2018].sort_values(ascending=False).head(10).index.to_list()\n",
    "\n",
    "color_seq = px.colors.qualitative.G10\n",
    "color_seq_count = 0\n",
    "\n",
    "fig3 = go.Figure()\n",
    "for genre in top10genres:\n",
    "    color = color_seq[color_seq_count]\n",
    "    color_seq_count+=1\n",
    "    fig3.add_trace(go.Scatter(x=genres_hist.index,\n",
    "                         y=genres_hist[genre],\n",
    "                         #fill='tozeroy', #fill down to xaxis\n",
    "                         #fillcolor='orange',\n",
    "                         mode='lines',\n",
    "                         line={'dash': 'solid', 'color': color},\n",
    "                         name=genre,\n",
    "                         stackgroup='one',\n",
    "                         ))\n",
    "fig3.update_layout(\n",
    "    xaxis=dict(\n",
    "        title='Time in years',\n",
    "        titlefont_size=16\n",
    "    ),\n",
    "    yaxis=dict(\n",
    "        title='Share of genre [%]',\n",
    "        titlefont_size=16\n",
    "    ),\n",
    "    yaxis_range=(0,100),\n",
    "    xaxis_range=(1900,2018),\n",
    "    title=\"Genre popularity over time\"\n",
    ")\n",
    "fig3.add_vrect(x0=1900,x1=1920,line_width=0,fillcolor='black',opacity=0.4,annotation_text=\"not enough data\",annotation_position=\"bottom left\",\n",
    "    annotation=dict(font_size=18,font_color='white')\n",
    ")\n",
    "fig3.show()"
   ]
  },
  {
   "attachments": {},
   "cell_type": "markdown",
   "metadata": {},
   "source": [
    "## (4) Find potentially suspect activity (bots)"
   ]
  },
  {
   "cell_type": "code",
   "execution_count": null,
   "metadata": {},
   "outputs": [],
   "source": [
    "users_with_one_rating = pd.read_sql('SELECT * FROM ratings as r WHERE (SELECT COUNT(*) FROM ratings as ra WHERE r.userId = ra.userId) = 1', con=db_connection)"
   ]
  },
  {
   "cell_type": "code",
   "execution_count": null,
   "metadata": {},
   "outputs": [],
   "source": [
    "all_ratings = pd.read_sql('SELECT * FROM ratings', con=db_connection)"
   ]
  },
  {
   "cell_type": "code",
   "execution_count": null,
   "metadata": {},
   "outputs": [],
   "source": [
    "users_with_one_rating.head()"
   ]
  },
  {
   "cell_type": "code",
   "execution_count": null,
   "metadata": {},
   "outputs": [],
   "source": [
    "all_ratings.head()"
   ]
  },
  {
   "cell_type": "code",
   "execution_count": null,
   "metadata": {},
   "outputs": [],
   "source": [
    "len(users_with_one_rating)"
   ]
  },
  {
   "cell_type": "code",
   "execution_count": null,
   "metadata": {},
   "outputs": [],
   "source": [
    "len(all_ratings)"
   ]
  },
  {
   "cell_type": "code",
   "execution_count": null,
   "metadata": {},
   "outputs": [],
   "source": [
    "users_with_one_rating.sort_values(by=['movieId']).to_csv('users_with_only_one_rating.csv', index=False)"
   ]
  },
  {
   "cell_type": "code",
   "execution_count": null,
   "metadata": {},
   "outputs": [],
   "source": [
    "users_with_one_rating = pd.read_csv('users_with_only_one_rating.csv')"
   ]
  },
  {
   "cell_type": "code",
   "execution_count": null,
   "metadata": {},
   "outputs": [],
   "source": [
    "users_with_one_rating.head()"
   ]
  },
  {
   "cell_type": "code",
   "execution_count": null,
   "metadata": {},
   "outputs": [],
   "source": [
    "len(users_with_one_rating)"
   ]
  },
  {
   "cell_type": "code",
   "execution_count": null,
   "metadata": {},
   "outputs": [],
   "source": [
    "previous_movie = 0\n",
    "movie_ratings = 0\n",
    "movies_and_rating_amount = []\n",
    "\n",
    "for index, row in users_with_one_rating.iterrows():\n",
    "    if row['movieId'] == previous_movie:\n",
    "        movie_ratings += 1\n",
    "        if len(users_with_one_rating) - 1 == index:\n",
    "            movies_and_rating_amount.append([int(previous_movie), int(movie_ratings)])\n",
    "    else:\n",
    "        movies_and_rating_amount.append([int(previous_movie), int(movie_ratings)])\n",
    "        previous_movie = row['movieId']\n",
    "        movie_ratings = 1\n",
    "\n",
    "movies_ratings_from_user_with_only_one_rating = pd.DataFrame(movies_and_rating_amount, columns=['Movie Id', 'Amount'])"
   ]
  },
  {
   "cell_type": "code",
   "execution_count": null,
   "metadata": {},
   "outputs": [],
   "source": [
    "movies_ratings_from_user_with_only_one_rating.sort_values(by=['Amount'], ascending=False, inplace=True)\n",
    "movies_ratings_from_user_with_only_one_rating.to_csv('movies_with_sus_ratings.csv', index=False)"
   ]
  },
  {
   "cell_type": "code",
   "execution_count": null,
   "metadata": {},
   "outputs": [],
   "source": [
    "#Append movie title to dataframe\n",
    "\n",
    "#Get relationship table between movieId and movie title\n",
    "movies_ids_names = pd.read_sql('SELECT movieId, title FROM movies', con=db_connection)\n",
    "\n",
    "#Drop last 0 entry to prevent error\n",
    "movies_ratings_from_user_with_only_one_rating.drop(index=0, inplace=True, errors='ignore')\n",
    "\n",
    "movies_ratings_from_user_with_only_one_rating['Movie Name'] = movies_ratings_from_user_with_only_one_rating['Movie Id'].apply(lambda x: movies_ids_names.query(f'movieId == {x}').title.values[0])\n",
    "movies_ratings_from_user_with_only_one_rating.head(3)"
   ]
  },
  {
   "cell_type": "code",
   "execution_count": null,
   "metadata": {},
   "outputs": [],
   "source": [
    "#pio.templates.default = \"plotly_dark\"\n",
    "\n",
    "#iterate through movies with sus ratings to plot them (over time)\n",
    "for i in movies_ratings_from_user_with_only_one_rating['Movie Id'].head(10):\n",
    "    sus_rating = users_with_one_rating.query(f'movieId == {i}').copy()\n",
    "    sus_rating.sort_values(by=['rating_date'], inplace=True)\n",
    "    sus_rating_fig = px.scatter(sus_rating, x='rating_date', y='rating', title=f'Rating of movie {i} over time', range_x=['1998-01-01', '2019-01-01'], hover_data=['userId'])\n",
    "\n",
    "    \n",
    "    \n",
    "    sus_rating_fig.show()\n"
   ]
  }
 ],
 "metadata": {
  "kernelspec": {
   "display_name": "hslu",
   "language": "python",
   "name": "python3"
  },
  "language_info": {
   "codemirror_mode": {
    "name": "ipython",
    "version": 3
   },
   "file_extension": ".py",
   "mimetype": "text/x-python",
   "name": "python",
   "nbconvert_exporter": "python",
   "pygments_lexer": "ipython3",
   "version": "3.10.6"
  },
  "orig_nbformat": 4,
  "vscode": {
   "interpreter": {
    "hash": "e4966d2a7585fd1cffe75d2f63d56b8e758449507e2d4de7f8c723faeaf963fb"
   }
  }
 },
 "nbformat": 4,
 "nbformat_minor": 2
}
