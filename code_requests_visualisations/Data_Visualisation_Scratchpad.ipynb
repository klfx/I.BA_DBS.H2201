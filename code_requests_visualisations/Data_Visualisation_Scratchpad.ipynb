{
 "cells": [
  {
   "cell_type": "code",
   "execution_count": null,
   "metadata": {},
   "outputs": [],
   "source": [
    "from sqlalchemy import create_engine\n",
    "import pandas as pd \n",
    "import matplotlib.pyplot as plt\n",
    "import seaborn as sns\n",
    "import plotly.express as px\n",
    "import plotly.graph_objects as go\n",
    "from plotly import tools\n",
    "import warnings\n",
    "warnings.simplefilter(action='ignore', category=pd.errors.PerformanceWarning)"
   ]
  },
  {
   "cell_type": "code",
   "execution_count": null,
   "metadata": {},
   "outputs": [],
   "source": [
    "cred = pd.read_csv('../credentials/credentials_flavio.csv')\n",
    "db_hostname, db_port, db_user, db_pw, db_dbname = cred.iloc[0]"
   ]
  },
  {
   "cell_type": "code",
   "execution_count": null,
   "metadata": {},
   "outputs": [],
   "source": [
    "db_connection_str = f\"mysql+pymysql://{db_user}:{db_pw}@{db_hostname}/{db_dbname}\"\n",
    "db_connection = create_engine(db_connection_str)"
   ]
  },
  {
   "cell_type": "code",
   "execution_count": null,
   "metadata": {},
   "outputs": [],
   "source": [
    "test = pd.read_sql('SELECT * FROM movies;',con=db_connection)\n",
    "test"
   ]
  },
  {
   "attachments": {},
   "cell_type": "markdown",
   "metadata": {},
   "source": [
    "## (3) Genre Share over time (v1 absolute count -> misrepresentation)"
   ]
  },
  {
   "cell_type": "code",
   "execution_count": null,
   "metadata": {},
   "outputs": [],
   "source": [
    "movies_genres = pd.read_sql('SELECT m.movieId, m.title, m.release_year, g.genreId, g.genrename FROM movies as m inner join movies_genres as mg on m.movieId=mg.movieId inner join genres as g on mg.genreId=g.genreId order by m.movieId', con=db_connection)\n",
    "movies_genres[:10]"
   ]
  },
  {
   "cell_type": "code",
   "execution_count": null,
   "metadata": {},
   "outputs": [],
   "source": [
    "print(f'Average genres per film: {len(movies_genres) / len(movies_genres.movieId.unique()):.2f}')\n",
    "print('\\nCheck total distribution')\n",
    "genres_total_dist = movies_genres.genrename.value_counts().to_frame()\n",
    "genres_total_dist['share'] = genres_total_dist.apply(lambda x: (x / genres_total_dist.genrename.sum()*100))\n",
    "print(genres_total_dist)"
   ]
  },
  {
   "cell_type": "code",
   "execution_count": null,
   "metadata": {},
   "outputs": [],
   "source": [
    "genres_hist = pd.DataFrame(index=movies_genres.genrename.unique())\n",
    "movies_genres.query('release_year == 2012').genrename.value_counts()\n",
    "\n",
    "#year range TBD\n",
    "#movies_genres.release_year.sort_values().unique()\n",
    "for year in range(1900,2018+1):\n",
    "    genres_hist[year] = movies_genres.query(f'release_year == {year}').genrename.value_counts()\n",
    "\n",
    "genres_hist[1900] = movies_genres.query('release_year == 1900').genrename.value_counts()\n",
    "genres_hist.fillna(0,inplace=True)\n",
    "genres_hist = genres_hist.astype(int)\n",
    "\n",
    "\n",
    "for year in range(1900,2018+1):\n",
    "    sum = genres_hist[year].sum()\n",
    "    genres_hist[year] = genres_hist[year].apply(lambda x: round((x / sum)*100,2))\n",
    "\n",
    "genres_hist = genres_hist.T\n",
    "genres_hist"
   ]
  },
  {
   "cell_type": "code",
   "execution_count": null,
   "metadata": {},
   "outputs": [],
   "source": [
    "top10genres = genres_hist.loc[2018].sort_values(ascending=False).head(10).index.to_list()\n",
    "\n",
    "color_seq = px.colors.qualitative.G10\n",
    "color_seq_count = 0\n",
    "\n",
    "fig = go.Figure()\n",
    "for genre in top10genres:\n",
    "    color = color_seq[color_seq_count]\n",
    "    color_seq_count+=1\n",
    "    fig.add_trace(go.Scatter(x=genres_hist.index,\n",
    "                         y=genres_hist[genre],\n",
    "                         #fill='tozeroy', #fill down to xaxis\n",
    "                         #fillcolor='orange',\n",
    "                         mode='lines',\n",
    "                         line={'dash': 'solid', 'color': color},\n",
    "                         name=genre,\n",
    "                         stackgroup='one'))\n",
    "\n",
    "fig.update_layout(yaxis_range=(0,100),xaxis_range=(1900,2018))\n",
    "fig.show()"
   ]
  },
  {
   "attachments": {},
   "cell_type": "markdown",
   "metadata": {},
   "source": [
    "# DBS Presentation"
   ]
  },
  {
   "cell_type": "code",
   "execution_count": null,
   "metadata": {},
   "outputs": [],
   "source": [
    "search_ai = pd.read_sql_query(\"CALL popular_movies.search_by_tags('artificial intelligence')\", con=db_connection)"
   ]
  },
  {
   "cell_type": "code",
   "execution_count": null,
   "metadata": {},
   "outputs": [],
   "source": [
    "search_ai[:10]"
   ]
  },
  {
   "cell_type": "code",
   "execution_count": null,
   "metadata": {},
   "outputs": [],
   "source": [
    "avg_rating_films_original = pd.read_csv('query_ideas/avg_rating_of_films/output.csv')"
   ]
  },
  {
   "cell_type": "code",
   "execution_count": null,
   "metadata": {},
   "outputs": [],
   "source": [
    "avg_rating_films = avg_rating_films_original.copy()\n",
    "avg_rating_films.rename(columns={'avg(rating)': 'avg_rating', 'count(rating)':'count_rating'}, inplace=True)\n",
    "avg_rating_films = avg_rating_films.sort_values('avg_rating', ascending=True)\n",
    "avg_rating_films = avg_rating_films.query('count_rating > 50')\n",
    "\n",
    "avg_rating_films_original"
   ]
  }
 ],
 "metadata": {
  "kernelspec": {
   "display_name": "hslu",
   "language": "python",
   "name": "python3"
  },
  "language_info": {
   "codemirror_mode": {
    "name": "ipython",
    "version": 3
   },
   "file_extension": ".py",
   "mimetype": "text/x-python",
   "name": "python",
   "nbconvert_exporter": "python",
   "pygments_lexer": "ipython3",
   "version": "3.10.6 | packaged by conda-forge | (main, Oct 24 2022, 16:02:16) [MSC v.1916 64 bit (AMD64)]"
  },
  "orig_nbformat": 4,
  "vscode": {
   "interpreter": {
    "hash": "e4966d2a7585fd1cffe75d2f63d56b8e758449507e2d4de7f8c723faeaf963fb"
   }
  }
 },
 "nbformat": 4,
 "nbformat_minor": 2
}
