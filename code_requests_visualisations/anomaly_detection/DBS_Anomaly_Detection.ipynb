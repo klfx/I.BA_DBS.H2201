{
 "cells": [
  {
   "attachments": {},
   "cell_type": "markdown",
   "metadata": {},
   "source": [
    "## DBS Movie DB Anomaly Detection"
   ]
  },
  {
   "cell_type": "code",
   "execution_count": 2,
   "metadata": {},
   "outputs": [],
   "source": [
    "import mysql.connector as mysql\n",
    "import pandas as pd\n",
    "import plotly.express as px\n",
    "import plotly.graph_objects as go\n",
    "import plotly.io as pio\n",
    "from plotly import tools\n",
    "import warnings\n",
    "from sqlalchemy import create_engine\n",
    "import matplotlib.pyplot as plt\n",
    "from os.path import exists\n",
    "warnings.simplefilter(action='ignore', category=pd.errors.PerformanceWarning)"
   ]
  },
  {
   "cell_type": "code",
   "execution_count": 3,
   "metadata": {},
   "outputs": [],
   "source": [
    "#Initialize database connection\n",
    "credentials = pd.read_csv('../../credentials/credentials.csv')\n",
    "\n",
    "database_adress = credentials['Host'].iloc[0]\n",
    "database_user = credentials['User'].iloc[0]\n",
    "database_password = credentials['Password'].iloc[0]\n",
    "database_name = credentials['Database'].iloc[0]\n",
    "\n",
    "db_connection_str = f\"mysql+pymysql://{database_user}:{database_password}@{database_adress}/{database_name}\"\n",
    "db_connection = create_engine(db_connection_str)"
   ]
  },
  {
   "cell_type": "code",
   "execution_count": 5,
   "metadata": {},
   "outputs": [],
   "source": [
    "#Check for local copy of data - if not present, download from database\n",
    "\n",
    "if exists('ratings_single_account.csv'):\n",
    "    ratings_single_account = pd.read_csv('ratings_single_account.csv')\n",
    "else:\n",
    "    ratings_single_account = pd.read_sql('SELECT * FROM ratings as r WHERE (SELECT COUNT(*) FROM ratings as ra WHERE r.userId = ra.userId) = 1', con=db_connection)\n",
    "    ratings_single_account = ratings_single_account.sort_values(by=['movieId'])\n",
    "    ratings_single_account.to_csv('ratings_single_account.csv', index=False)\n",
    "\n",
    "if exists('movies_single_account.csv'):\n",
    "    movies_single_account = pd.read_csv('movies_single_account.csv')\n",
    "else:\n",
    "    previous_movie = 0\n",
    "    movie_ratings = 0\n",
    "    movies_and_rating_amount = []\n",
    "\n",
    "    for index, row in ratings_single_account.iterrows():\n",
    "        if row['movieId'] == previous_movie:\n",
    "            movie_ratings += 1\n",
    "            if len(ratings_single_account) - 1 == index:\n",
    "                movies_and_rating_amount.append([int(previous_movie), int(movie_ratings)])\n",
    "        else:\n",
    "            movies_and_rating_amount.append([int(previous_movie), int(movie_ratings)])\n",
    "            previous_movie = row['movieId']\n",
    "            movie_ratings = 1\n",
    "\n",
    "    movies_ratings_from_user_with_only_one_rating = pd.DataFrame(movies_and_rating_amount, columns=['Movie Id', 'Amount'])\n",
    "    movies_ratings_from_user_with_only_one_rating.sort_values(by=['Amount'], ascending=False, inplace=True)\n",
    "\n",
    "    #Get relationship table between movieId and movie title\n",
    "    movies_ids_names = pd.read_sql('SELECT movieId, title, release_year FROM movies', con=db_connection)\n",
    "\n",
    "    #Drop last 0 entry to prevent error\n",
    "    movies_ratings_from_user_with_only_one_rating.drop(index=0, inplace=True, errors='ignore')\n",
    "\n",
    "    movies_ratings_from_user_with_only_one_rating['title'] = movies_ratings_from_user_with_only_one_rating['Movie Id'].apply(lambda x: movies_ids_names.query(f'movieId == {x}').title.values[0])\n",
    "    movies_ratings_from_user_with_only_one_rating['release_year'] = movies_ratings_from_user_with_only_one_rating['Movie Id'].apply(lambda x: movies_ids_names.query(f'movieId == {x}').release_year.values[0])\n",
    "\n",
    "    movies_ratings_from_user_with_only_one_rating.to_csv('movies_single_account.csv', index=False)\n",
    "    movies_single_account = pd.read_csv('movies_single_account.csv')\n",
    "\n",
    "if exists('all_ratings.csv'):\n",
    "    all_ratings = pd.read_csv('all_ratings.csv')\n",
    "else:\n",
    "    all_ratings = pd.read_sql('SELECT * FROM ratings limit 10000', con=db_connection)\n",
    "    all_ratings.to_csv('all_ratings.csv', index=False)"
   ]
  }
 ],
 "metadata": {
  "kernelspec": {
   "display_name": "hslu",
   "language": "python",
   "name": "python3"
  },
  "language_info": {
   "codemirror_mode": {
    "name": "ipython",
    "version": 3
   },
   "file_extension": ".py",
   "mimetype": "text/x-python",
   "name": "python",
   "nbconvert_exporter": "python",
   "pygments_lexer": "ipython3",
   "version": "3.10.6"
  },
  "orig_nbformat": 4,
  "vscode": {
   "interpreter": {
    "hash": "e4966d2a7585fd1cffe75d2f63d56b8e758449507e2d4de7f8c723faeaf963fb"
   }
  }
 },
 "nbformat": 4,
 "nbformat_minor": 2
}
